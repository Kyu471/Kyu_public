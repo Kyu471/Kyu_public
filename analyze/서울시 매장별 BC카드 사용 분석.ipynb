{
 "cells": [
  {
   "cell_type": "code",
   "execution_count": 1,
   "id": "205e1580-1309-4a98-86f8-34d147e32cb8",
   "metadata": {},
   "outputs": [],
   "source": [
    "import pandas as pd"
   ]
  },
  {
   "cell_type": "code",
   "execution_count": 2,
   "id": "bb6c1d41-a414-46e2-8d48-f6fcf428d335",
   "metadata": {},
   "outputs": [],
   "source": [
    "from matplotlib import rc\n",
    "\n",
    "rc('font', family='Malgun Gothic')"
   ]
  },
  {
   "cell_type": "markdown",
   "id": "3a8ff580-b54c-4339-be59-169979139c8c",
   "metadata": {},
   "source": [
    "# 데이터 불러오기"
   ]
  },
  {
   "cell_type": "code",
   "execution_count": 3,
   "id": "b9df68c3-e1cb-41a8-8321-8a867f1fe326",
   "metadata": {},
   "outputs": [
    {
     "data": {
      "text/plain": [
       "25541691"
      ]
     },
     "execution_count": 3,
     "metadata": {},
     "output_type": "execute_result"
    }
   ],
   "source": [
    "chunk_size = 1000000\n",
    "nrows = None\n",
    "subset_size = 100000000\n",
    "\n",
    "file_path = \"카드소비데이터 201901_06.txt\"\n",
    "\n",
    "current_rows_2019 = 0\n",
    "full_2019 = pd.DataFrame()\n",
    "\n",
    "for i, chunk in enumerate(pd.read_csv(file_path, chunksize=chunk_size, sep=',', encoding='cp949')):\n",
    "    full_2019 = pd.concat([full_2019, chunk], ignore_index=True)\n",
    "    current_rows_2019 += len(chunk)\n",
    "    \n",
    "    if current_rows_2019 >= subset_size:\n",
    "        full_2019 = full_2019.iloc[subset_size:]\n",
    "        current_rows_2019 -= subset_size\n",
    "\n",
    "current_rows_2019"
   ]
  },
  {
   "cell_type": "code",
   "execution_count": 4,
   "id": "0983135c-c03f-4c21-b769-82551a1d462e",
   "metadata": {},
   "outputs": [
    {
     "data": {
      "text/html": [
       "<div>\n",
       "<style scoped>\n",
       "    .dataframe tbody tr th:only-of-type {\n",
       "        vertical-align: middle;\n",
       "    }\n",
       "\n",
       "    .dataframe tbody tr th {\n",
       "        vertical-align: top;\n",
       "    }\n",
       "\n",
       "    .dataframe thead th {\n",
       "        text-align: right;\n",
       "    }\n",
       "</style>\n",
       "<table border=\"1\" class=\"dataframe\">\n",
       "  <thead>\n",
       "    <tr style=\"text-align: right;\">\n",
       "      <th></th>\n",
       "      <th>월별</th>\n",
       "      <th>가맹점집계구번호</th>\n",
       "      <th>업종명</th>\n",
       "      <th>성별</th>\n",
       "      <th>연령대</th>\n",
       "      <th>요일</th>\n",
       "      <th>시간대별</th>\n",
       "      <th>이용금액</th>\n",
       "      <th>이용건수</th>\n",
       "    </tr>\n",
       "  </thead>\n",
       "  <tbody>\n",
       "    <tr>\n",
       "      <th>0</th>\n",
       "      <td>201901</td>\n",
       "      <td>1101053020002</td>\n",
       "      <td>편의점</td>\n",
       "      <td>여성</td>\n",
       "      <td>50대</td>\n",
       "      <td>일</td>\n",
       "      <td>저녁(18-20)</td>\n",
       "      <td>28500</td>\n",
       "      <td>10</td>\n",
       "    </tr>\n",
       "    <tr>\n",
       "      <th>1</th>\n",
       "      <td>201901</td>\n",
       "      <td>1101060020001</td>\n",
       "      <td>서양음식</td>\n",
       "      <td>여성</td>\n",
       "      <td>30대</td>\n",
       "      <td>일</td>\n",
       "      <td>오후(14-17)</td>\n",
       "      <td>331150</td>\n",
       "      <td>27</td>\n",
       "    </tr>\n",
       "    <tr>\n",
       "      <th>2</th>\n",
       "      <td>201901</td>\n",
       "      <td>1101053020003</td>\n",
       "      <td>서양음식</td>\n",
       "      <td>여성</td>\n",
       "      <td>30대</td>\n",
       "      <td>화</td>\n",
       "      <td>오후(14-17)</td>\n",
       "      <td>584130</td>\n",
       "      <td>78</td>\n",
       "    </tr>\n",
       "    <tr>\n",
       "      <th>3</th>\n",
       "      <td>201901</td>\n",
       "      <td>1101053020003</td>\n",
       "      <td>서양음식</td>\n",
       "      <td>남성</td>\n",
       "      <td>30대</td>\n",
       "      <td>토</td>\n",
       "      <td>오후(14-17)</td>\n",
       "      <td>913100</td>\n",
       "      <td>101</td>\n",
       "    </tr>\n",
       "    <tr>\n",
       "      <th>4</th>\n",
       "      <td>201901</td>\n",
       "      <td>1101053020003</td>\n",
       "      <td>일식회집</td>\n",
       "      <td>남성</td>\n",
       "      <td>40대</td>\n",
       "      <td>금</td>\n",
       "      <td>점심(11-13)</td>\n",
       "      <td>272500</td>\n",
       "      <td>11</td>\n",
       "    </tr>\n",
       "  </tbody>\n",
       "</table>\n",
       "</div>"
      ],
      "text/plain": [
       "       월별       가맹점집계구번호   업종명  성별  연령대 요일       시간대별    이용금액  이용건수\n",
       "0  201901  1101053020002   편의점  여성  50대  일  저녁(18-20)   28500    10\n",
       "1  201901  1101060020001  서양음식  여성  30대  일  오후(14-17)  331150    27\n",
       "2  201901  1101053020003  서양음식  여성  30대  화  오후(14-17)  584130    78\n",
       "3  201901  1101053020003  서양음식  남성  30대  토  오후(14-17)  913100   101\n",
       "4  201901  1101053020003  일식회집  남성  40대  금  점심(11-13)  272500    11"
      ]
     },
     "execution_count": 4,
     "metadata": {},
     "output_type": "execute_result"
    }
   ],
   "source": [
    "full_2019.head()"
   ]
  },
  {
   "cell_type": "code",
   "execution_count": 5,
   "id": "9e455779-33b1-435e-8b41-07ead7244816",
   "metadata": {},
   "outputs": [
    {
     "name": "stdout",
     "output_type": "stream",
     "text": [
      "<class 'pandas.core.frame.DataFrame'>\n",
      "RangeIndex: 25541691 entries, 0 to 25541690\n",
      "Data columns (total 9 columns):\n",
      " #   Column    Dtype \n",
      "---  ------    ----- \n",
      " 0   월별        int64 \n",
      " 1   가맹점집계구번호  int64 \n",
      " 2   업종명       object\n",
      " 3   성별        object\n",
      " 4   연령대       object\n",
      " 5   요일        object\n",
      " 6   시간대별      object\n",
      " 7   이용금액      int64 \n",
      " 8   이용건수      int64 \n",
      "dtypes: int64(4), object(5)\n",
      "memory usage: 1.7+ GB\n"
     ]
    }
   ],
   "source": [
    "full_2019.info()"
   ]
  },
  {
   "cell_type": "code",
   "execution_count": 6,
   "id": "6a0ee393-b0bb-47f8-a59d-efdc9b7cf83e",
   "metadata": {},
   "outputs": [
    {
     "name": "stdout",
     "output_type": "stream",
     "text": [
      "총 가맹점 수 : 6462\n",
      "총 업종 수 : 200\n",
      "총 연령대 수 : 6\n"
     ]
    }
   ],
   "source": [
    "print(\"총 가맹점 수 :\", len(full_2019['가맹점집계구번호'].unique()))\n",
    "print(\"총 업종 수 :\", len(full_2019['업종명'].unique()))\n",
    "print(\"총 연령대 수 :\", len(full_2019['연령대'].unique()))"
   ]
  },
  {
   "cell_type": "code",
   "execution_count": 7,
   "id": "6bcacd21-2210-4823-b6eb-515e724000ca",
   "metadata": {},
   "outputs": [
    {
     "data": {
      "text/plain": [
       "24340024"
      ]
     },
     "execution_count": 7,
     "metadata": {},
     "output_type": "execute_result"
    }
   ],
   "source": [
    "chunk_size = 1000000\n",
    "nrows = None\n",
    "subset_size = 100000000\n",
    "\n",
    "file_path = \"카드소비데이터 202001_06.txt\"\n",
    "\n",
    "current_rows_2020 = 0\n",
    "full_2020 = pd.DataFrame()\n",
    "\n",
    "for i, chunk in enumerate(pd.read_csv(file_path, chunksize=chunk_size, sep=',', encoding='cp949')):\n",
    "    full_2020 = pd.concat([full_2020, chunk], ignore_index=True)\n",
    "    current_rows_2020 += len(chunk)\n",
    "    \n",
    "    if current_rows_2020 >= subset_size:\n",
    "        full_2020 = full_2020.iloc[subset_size:]\n",
    "        current_rows_2020 -= subset_size\n",
    "\n",
    "current_rows_2020"
   ]
  },
  {
   "cell_type": "code",
   "execution_count": 8,
   "id": "fea3705f-6d5b-4b57-b4ff-dd4eeb594298",
   "metadata": {},
   "outputs": [
    {
     "data": {
      "text/html": [
       "<div>\n",
       "<style scoped>\n",
       "    .dataframe tbody tr th:only-of-type {\n",
       "        vertical-align: middle;\n",
       "    }\n",
       "\n",
       "    .dataframe tbody tr th {\n",
       "        vertical-align: top;\n",
       "    }\n",
       "\n",
       "    .dataframe thead th {\n",
       "        text-align: right;\n",
       "    }\n",
       "</style>\n",
       "<table border=\"1\" class=\"dataframe\">\n",
       "  <thead>\n",
       "    <tr style=\"text-align: right;\">\n",
       "      <th></th>\n",
       "      <th>월별</th>\n",
       "      <th>가맹점집계구번호</th>\n",
       "      <th>업종명</th>\n",
       "      <th>성별</th>\n",
       "      <th>연령대</th>\n",
       "      <th>요일</th>\n",
       "      <th>시간대별</th>\n",
       "      <th>이용금액</th>\n",
       "      <th>이용건수</th>\n",
       "    </tr>\n",
       "  </thead>\n",
       "  <tbody>\n",
       "    <tr>\n",
       "      <th>0</th>\n",
       "      <td>202001</td>\n",
       "      <td>1101053010004</td>\n",
       "      <td>서양음식</td>\n",
       "      <td>여성</td>\n",
       "      <td>50대</td>\n",
       "      <td>수</td>\n",
       "      <td>오후(14-17)</td>\n",
       "      <td>514700</td>\n",
       "      <td>23</td>\n",
       "    </tr>\n",
       "    <tr>\n",
       "      <th>1</th>\n",
       "      <td>202001</td>\n",
       "      <td>1101053010004</td>\n",
       "      <td>스넥</td>\n",
       "      <td>남성</td>\n",
       "      <td>40대</td>\n",
       "      <td>목</td>\n",
       "      <td>저녁(18-20)</td>\n",
       "      <td>99400</td>\n",
       "      <td>8</td>\n",
       "    </tr>\n",
       "    <tr>\n",
       "      <th>2</th>\n",
       "      <td>202001</td>\n",
       "      <td>1101053010004</td>\n",
       "      <td>서양음식</td>\n",
       "      <td>남성</td>\n",
       "      <td>40대</td>\n",
       "      <td>토</td>\n",
       "      <td>오후(14-17)</td>\n",
       "      <td>367900</td>\n",
       "      <td>21</td>\n",
       "    </tr>\n",
       "    <tr>\n",
       "      <th>3</th>\n",
       "      <td>202001</td>\n",
       "      <td>1101053010004</td>\n",
       "      <td>일식회집</td>\n",
       "      <td>여성</td>\n",
       "      <td>20대</td>\n",
       "      <td>목</td>\n",
       "      <td>저녁(18-20)</td>\n",
       "      <td>218500</td>\n",
       "      <td>10</td>\n",
       "    </tr>\n",
       "    <tr>\n",
       "      <th>4</th>\n",
       "      <td>202001</td>\n",
       "      <td>1101053020002</td>\n",
       "      <td>기타숙박업</td>\n",
       "      <td>남성</td>\n",
       "      <td>50대</td>\n",
       "      <td>일</td>\n",
       "      <td>저녁(18-20)</td>\n",
       "      <td>230000</td>\n",
       "      <td>13</td>\n",
       "    </tr>\n",
       "  </tbody>\n",
       "</table>\n",
       "</div>"
      ],
      "text/plain": [
       "       월별       가맹점집계구번호    업종명  성별  연령대 요일       시간대별    이용금액  이용건수\n",
       "0  202001  1101053010004   서양음식  여성  50대  수  오후(14-17)  514700    23\n",
       "1  202001  1101053010004     스넥  남성  40대  목  저녁(18-20)   99400     8\n",
       "2  202001  1101053010004   서양음식  남성  40대  토  오후(14-17)  367900    21\n",
       "3  202001  1101053010004   일식회집  여성  20대  목  저녁(18-20)  218500    10\n",
       "4  202001  1101053020002  기타숙박업  남성  50대  일  저녁(18-20)  230000    13"
      ]
     },
     "execution_count": 8,
     "metadata": {},
     "output_type": "execute_result"
    }
   ],
   "source": [
    "full_2020.head()"
   ]
  },
  {
   "cell_type": "code",
   "execution_count": 9,
   "id": "68bc5241-2496-49c2-aeac-b9a7056d2870",
   "metadata": {},
   "outputs": [
    {
     "name": "stdout",
     "output_type": "stream",
     "text": [
      "<class 'pandas.core.frame.DataFrame'>\n",
      "RangeIndex: 24340024 entries, 0 to 24340023\n",
      "Data columns (total 9 columns):\n",
      " #   Column    Dtype \n",
      "---  ------    ----- \n",
      " 0   월별        int64 \n",
      " 1   가맹점집계구번호  int64 \n",
      " 2   업종명       object\n",
      " 3   성별        object\n",
      " 4   연령대       object\n",
      " 5   요일        object\n",
      " 6   시간대별      object\n",
      " 7   이용금액      int64 \n",
      " 8   이용건수      int64 \n",
      "dtypes: int64(4), object(5)\n",
      "memory usage: 1.6+ GB\n"
     ]
    }
   ],
   "source": [
    "full_2020.info()"
   ]
  },
  {
   "cell_type": "code",
   "execution_count": 10,
   "id": "320fcc28-f499-4dbd-9153-2747ee8a48c9",
   "metadata": {},
   "outputs": [
    {
     "name": "stdout",
     "output_type": "stream",
     "text": [
      "총 가맹점 수 : 6445\n",
      "총 업종 수 : 202\n",
      "총 연령대 수 : 6\n"
     ]
    }
   ],
   "source": [
    "print(\"총 가맹점 수 :\", len(full_2020['가맹점집계구번호'].unique()))\n",
    "print(\"총 업종 수 :\", len(full_2020['업종명'].unique()))\n",
    "print(\"총 연령대 수 :\", len(full_2020['연령대'].unique()))"
   ]
  },
  {
   "cell_type": "code",
   "execution_count": 11,
   "id": "44643429-7cd0-4bc2-acdc-e335f915d68c",
   "metadata": {},
   "outputs": [
    {
     "name": "stdout",
     "output_type": "stream",
     "text": [
      "2019년-> 2020년 건수 변동\n",
      "카드 사용 건수 변동 : -1201667\n",
      "총 가맹점 수 변동 : -17\n",
      "총 업종 수 변동 : 2\n"
     ]
    }
   ],
   "source": [
    "print(\"2019년-> 2020년 건수 변동\")\n",
    "print(\"카드 사용 건수 변동 :\", current_rows_2020 - current_rows_2019)\n",
    "print(\"총 가맹점 수 변동 :\", len(full_2020['가맹점집계구번호'].unique()) - len(full_2019['가맹점집계구번호'].unique()))\n",
    "print(\"총 업종 수 변동 :\", len(full_2020['업종명'].unique()) - len(full_2019['업종명'].unique()))"
   ]
  },
  {
   "cell_type": "markdown",
   "id": "d29a8d59-cd65-4890-8fdf-07b803fecfed",
   "metadata": {},
   "source": [
    "서울시 기준 BC카드를 사용하는 신규 업종이 등장, 그러나 가맹점 수와 카드 사용 건수는 감소"
   ]
  },
  {
   "cell_type": "markdown",
   "id": "e43bb80f-049b-4c36-aa0f-42eff26e9741",
   "metadata": {},
   "source": [
    "# 월별 소비 추이"
   ]
  },
  {
   "cell_type": "code",
   "execution_count": 12,
   "id": "a8ce8849-a7a0-4a6a-9f5f-a6588f56095c",
   "metadata": {},
   "outputs": [
    {
     "data": {
      "text/html": [
       "<div>\n",
       "<style scoped>\n",
       "    .dataframe tbody tr th:only-of-type {\n",
       "        vertical-align: middle;\n",
       "    }\n",
       "\n",
       "    .dataframe tbody tr th {\n",
       "        vertical-align: top;\n",
       "    }\n",
       "\n",
       "    .dataframe thead th {\n",
       "        text-align: right;\n",
       "    }\n",
       "</style>\n",
       "<table border=\"1\" class=\"dataframe\">\n",
       "  <thead>\n",
       "    <tr style=\"text-align: right;\">\n",
       "      <th></th>\n",
       "      <th>월별</th>\n",
       "      <th>이용금액</th>\n",
       "      <th>이용건수</th>\n",
       "    </tr>\n",
       "  </thead>\n",
       "  <tbody>\n",
       "    <tr>\n",
       "      <th>0</th>\n",
       "      <td>201901</td>\n",
       "      <td>3087767736516</td>\n",
       "      <td>88291233</td>\n",
       "    </tr>\n",
       "    <tr>\n",
       "      <th>1</th>\n",
       "      <td>201902</td>\n",
       "      <td>2671440226188</td>\n",
       "      <td>80001852</td>\n",
       "    </tr>\n",
       "    <tr>\n",
       "      <th>2</th>\n",
       "      <td>201903</td>\n",
       "      <td>2984840417379</td>\n",
       "      <td>92193573</td>\n",
       "    </tr>\n",
       "    <tr>\n",
       "      <th>3</th>\n",
       "      <td>201904</td>\n",
       "      <td>2974453761296</td>\n",
       "      <td>93237037</td>\n",
       "    </tr>\n",
       "    <tr>\n",
       "      <th>4</th>\n",
       "      <td>201905</td>\n",
       "      <td>3028186933327</td>\n",
       "      <td>97238487</td>\n",
       "    </tr>\n",
       "    <tr>\n",
       "      <th>5</th>\n",
       "      <td>201906</td>\n",
       "      <td>2834576531317</td>\n",
       "      <td>92946939</td>\n",
       "    </tr>\n",
       "  </tbody>\n",
       "</table>\n",
       "</div>"
      ],
      "text/plain": [
       "       월별           이용금액      이용건수\n",
       "0  201901  3087767736516  88291233\n",
       "1  201902  2671440226188  80001852\n",
       "2  201903  2984840417379  92193573\n",
       "3  201904  2974453761296  93237037\n",
       "4  201905  3028186933327  97238487\n",
       "5  201906  2834576531317  92946939"
      ]
     },
     "execution_count": 12,
     "metadata": {},
     "output_type": "execute_result"
    }
   ],
   "source": [
    "Monthly_2019 = full_2019[['월별', '이용금액', '이용건수']].copy()\n",
    "Monthly_2019 = Monthly_2019.groupby(['월별'], as_index=False).sum()\n",
    "Monthly_2019"
   ]
  },
  {
   "cell_type": "code",
   "execution_count": 13,
   "id": "565288f5-07df-4941-98e6-f62c625ed7cd",
   "metadata": {},
   "outputs": [
    {
     "data": {
      "text/html": [
       "<div>\n",
       "<style scoped>\n",
       "    .dataframe tbody tr th:only-of-type {\n",
       "        vertical-align: middle;\n",
       "    }\n",
       "\n",
       "    .dataframe tbody tr th {\n",
       "        vertical-align: top;\n",
       "    }\n",
       "\n",
       "    .dataframe thead th {\n",
       "        text-align: right;\n",
       "    }\n",
       "</style>\n",
       "<table border=\"1\" class=\"dataframe\">\n",
       "  <thead>\n",
       "    <tr style=\"text-align: right;\">\n",
       "      <th></th>\n",
       "      <th>월별</th>\n",
       "      <th>이용금액</th>\n",
       "      <th>이용건수</th>\n",
       "    </tr>\n",
       "  </thead>\n",
       "  <tbody>\n",
       "    <tr>\n",
       "      <th>0</th>\n",
       "      <td>202001</td>\n",
       "      <td>3189709371075</td>\n",
       "      <td>91562101</td>\n",
       "    </tr>\n",
       "    <tr>\n",
       "      <th>1</th>\n",
       "      <td>202002</td>\n",
       "      <td>2836371346082</td>\n",
       "      <td>84111989</td>\n",
       "    </tr>\n",
       "    <tr>\n",
       "      <th>2</th>\n",
       "      <td>202003</td>\n",
       "      <td>2884641541068</td>\n",
       "      <td>83338618</td>\n",
       "    </tr>\n",
       "    <tr>\n",
       "      <th>3</th>\n",
       "      <td>202004</td>\n",
       "      <td>2812191629547</td>\n",
       "      <td>83598344</td>\n",
       "    </tr>\n",
       "    <tr>\n",
       "      <th>4</th>\n",
       "      <td>202005</td>\n",
       "      <td>2945422612672</td>\n",
       "      <td>89943102</td>\n",
       "    </tr>\n",
       "    <tr>\n",
       "      <th>5</th>\n",
       "      <td>202006</td>\n",
       "      <td>2968568849076</td>\n",
       "      <td>92033530</td>\n",
       "    </tr>\n",
       "  </tbody>\n",
       "</table>\n",
       "</div>"
      ],
      "text/plain": [
       "       월별           이용금액      이용건수\n",
       "0  202001  3189709371075  91562101\n",
       "1  202002  2836371346082  84111989\n",
       "2  202003  2884641541068  83338618\n",
       "3  202004  2812191629547  83598344\n",
       "4  202005  2945422612672  89943102\n",
       "5  202006  2968568849076  92033530"
      ]
     },
     "execution_count": 13,
     "metadata": {},
     "output_type": "execute_result"
    }
   ],
   "source": [
    "Monthly_2020 = full_2020[['월별', '이용금액', '이용건수']].copy()\n",
    "Monthly_2020 = Monthly_2020.groupby(['월별'], as_index=False).sum()\n",
    "Monthly_2020"
   ]
  },
  {
   "cell_type": "code",
   "execution_count": 14,
   "id": "f65624b2-047e-48ed-a243-ac86db98480c",
   "metadata": {},
   "outputs": [
    {
     "data": {
      "text/html": [
       "<div>\n",
       "<style scoped>\n",
       "    .dataframe tbody tr th:only-of-type {\n",
       "        vertical-align: middle;\n",
       "    }\n",
       "\n",
       "    .dataframe tbody tr th {\n",
       "        vertical-align: top;\n",
       "    }\n",
       "\n",
       "    .dataframe thead th {\n",
       "        text-align: right;\n",
       "    }\n",
       "</style>\n",
       "<table border=\"1\" class=\"dataframe\">\n",
       "  <thead>\n",
       "    <tr style=\"text-align: right;\">\n",
       "      <th></th>\n",
       "      <th>월별</th>\n",
       "      <th>이용금액</th>\n",
       "      <th>이용건수</th>\n",
       "      <th>이용금액 증감(%)</th>\n",
       "      <th>이용건수 증감(%)</th>\n",
       "    </tr>\n",
       "  </thead>\n",
       "  <tbody>\n",
       "    <tr>\n",
       "      <th>0</th>\n",
       "      <td>202001</td>\n",
       "      <td>101941634559</td>\n",
       "      <td>3270868</td>\n",
       "      <td>3.301467</td>\n",
       "      <td>3.704635</td>\n",
       "    </tr>\n",
       "    <tr>\n",
       "      <th>1</th>\n",
       "      <td>202002</td>\n",
       "      <td>164931119894</td>\n",
       "      <td>4110137</td>\n",
       "      <td>6.173865</td>\n",
       "      <td>5.137552</td>\n",
       "    </tr>\n",
       "    <tr>\n",
       "      <th>2</th>\n",
       "      <td>202003</td>\n",
       "      <td>-100198876311</td>\n",
       "      <td>-8854955</td>\n",
       "      <td>-3.356926</td>\n",
       "      <td>-9.604742</td>\n",
       "    </tr>\n",
       "    <tr>\n",
       "      <th>3</th>\n",
       "      <td>202004</td>\n",
       "      <td>-162262131749</td>\n",
       "      <td>-9638693</td>\n",
       "      <td>-5.455191</td>\n",
       "      <td>-10.337837</td>\n",
       "    </tr>\n",
       "    <tr>\n",
       "      <th>4</th>\n",
       "      <td>202005</td>\n",
       "      <td>-82764320655</td>\n",
       "      <td>-7295385</td>\n",
       "      <td>-2.733131</td>\n",
       "      <td>-7.502569</td>\n",
       "    </tr>\n",
       "    <tr>\n",
       "      <th>5</th>\n",
       "      <td>202006</td>\n",
       "      <td>133992317759</td>\n",
       "      <td>-913409</td>\n",
       "      <td>4.727067</td>\n",
       "      <td>-0.982721</td>\n",
       "    </tr>\n",
       "  </tbody>\n",
       "</table>\n",
       "</div>"
      ],
      "text/plain": [
       "       월별          이용금액     이용건수  이용금액 증감(%)  이용건수 증감(%)\n",
       "0  202001  101941634559  3270868    3.301467    3.704635\n",
       "1  202002  164931119894  4110137    6.173865    5.137552\n",
       "2  202003 -100198876311 -8854955   -3.356926   -9.604742\n",
       "3  202004 -162262131749 -9638693   -5.455191  -10.337837\n",
       "4  202005  -82764320655 -7295385   -2.733131   -7.502569\n",
       "5  202006  133992317759  -913409    4.727067   -0.982721"
      ]
     },
     "execution_count": 14,
     "metadata": {},
     "output_type": "execute_result"
    }
   ],
   "source": [
    "Monthly_differ = pd.DataFrame()\n",
    "Monthly_differ['월별'] = Monthly_2020['월별']\n",
    "Monthly_differ['이용금액'] = Monthly_2020['이용금액'] - Monthly_2019['이용금액']\n",
    "Monthly_differ['이용건수'] = Monthly_2020['이용건수'] - Monthly_2019['이용건수']\n",
    "Monthly_differ['이용금액 증감(%)'] = (Monthly_differ['이용금액'] / Monthly_2019['이용금액']) * 100\n",
    "Monthly_differ['이용건수 증감(%)'] = (Monthly_differ['이용건수'] / Monthly_2019['이용건수']) * 100\n",
    "Monthly_differ"
   ]
  },
  {
   "cell_type": "code",
   "execution_count": 15,
   "id": "b8352610-8fab-41dc-bebf-0fc177344e4f",
   "metadata": {},
   "outputs": [
    {
     "name": "stderr",
     "output_type": "stream",
     "text": [
      "C:\\Users\\skt75\\AppData\\Local\\Programs\\Python\\Python312\\Lib\\site-packages\\IPython\\core\\pylabtools.py:152: UserWarning: Glyph 8722 (\\N{MINUS SIGN}) missing from current font.\n",
      "  fig.canvas.print_figure(bytes_io, **kw)\n"
     ]
    },
    {
     "data": {
      "image/png": "[encoded data removed]",
      "text/plain": [
       "<Figure size 1200x900 with 6 Axes>"
      ]
     },
     "metadata": {},
     "output_type": "display_data"
    }
   ],
   "source": [
    "import matplotlib.pyplot as plt\n",
    "\n",
    "fig, axes = plt.subplots(3, 2, figsize=(12, 9), gridspec_kw={'wspace': 0.4})\n",
    "\n",
    "# 1\n",
    "axes[0, 0].plot(Monthly_2019['월별'], Monthly_2019['이용건수'], marker='o', label='Uses', color='blue')\n",
    "axes[0, 0].set_title('Monthly Uses 2019')\n",
    "axes[0, 0].set_xlabel('Month')\n",
    "axes[0, 0].set_ylabel('Uses')\n",
    "axes[0, 0].set_ylim(75000000, 100000000)\n",
    "\n",
    "# 2\n",
    "axes[1, 0].plot(Monthly_2020['월별'], Monthly_2020['이용건수'], marker='o', label='Uses', color='blue')\n",
    "axes[1, 0].set_title('Monthly Uses 2020')\n",
    "axes[1, 0].set_xlabel('Month')\n",
    "axes[1, 0].set_ylabel('Uses')\n",
    "axes[1, 0].set_ylim(75000000, 100000000)\n",
    "\n",
    "# 3\n",
    "axes[0, 1].plot(Monthly_2019['월별'], Monthly_2019['이용금액'], marker='o', label='Total Money', color='orange')\n",
    "axes[0, 1].set_title('Monthly Amount 2019')\n",
    "axes[0, 1].set_xlabel('Month')\n",
    "axes[0, 1].set_ylabel('Amount')\n",
    "axes[0, 1].set_ylim(2600000000000, 3250000000000)\n",
    "\n",
    "# 4\n",
    "axes[1, 1].plot(Monthly_2020['월별'], Monthly_2020['이용금액'], marker='o', label='Total Money', color='orange')\n",
    "axes[1, 1].set_title('Monthly Amount 2020')\n",
    "axes[1, 1].set_xlabel('Month')\n",
    "axes[1, 1].set_ylabel('Amount')\n",
    "axes[1, 1].set_ylim(2600000000000, 3250000000000)\n",
    "\n",
    "# 증감 비교\n",
    "# 5\n",
    "axes[2, 0].bar(Monthly_differ['월별'], Monthly_differ['이용건수 증감(%)'], color=['blue' if value < 0 else 'red' for value in Monthly_differ['이용건수 증감(%)']], width=0.5)\n",
    "axes[2, 0].set_title('Monthly Uses Different(%)')\n",
    "axes[2, 0].set_xlabel('Month')\n",
    "axes[2, 0].set_ylabel('Uses')\n",
    "axes[2, 0].axhline(0, color='black', linewidth=0.8)\n",
    "axes[2, 0].set_ylim(-11, 11)\n",
    "\n",
    "# 6\n",
    "axes[2, 1].bar(Monthly_differ['월별'], Monthly_differ['이용금액 증감(%)'], color=['blue' if value < 0 else 'red' for value in Monthly_differ['이용금액 증감(%)']], width=0.5)\n",
    "axes[2, 1].set_title('Monthly Amount Different(%)')\n",
    "axes[2, 1].set_xlabel('Month')\n",
    "axes[2, 1].set_ylabel('Amount')\n",
    "axes[2, 1].axhline(0, color='black', linewidth=0.8)\n",
    "axes[2, 1].set_ylim(-11, 11)\n",
    "\n",
    "fig.subplots_adjust(hspace=0.5)\n",
    "plt.show()"
   ]
  },
  {
   "cell_type": "markdown",
   "id": "564386f6-b42d-461e-844d-c6de7b178f15",
   "metadata": {},
   "source": [
    "2019년과 2020년을 비교할 때 2월 까지는 카드 사용건수와 사용금액이 증가했지만, 3~5월은 폭락한다.\\\n",
    "이용건수 기준으로 500만 건 이상이 감소, 금액기준으로 약 1000억원 이상이 감소했다."
   ]
  },
  {
   "cell_type": "markdown",
   "id": "a82fe0de-cc4b-4e4f-a470-fd0458cff1b2",
   "metadata": {},
   "source": [
    "6월은 예년과 비슷한 수준의 소비 건수(감소)가 있지만, 이용금액은 증가한 케이스다.\\\n",
    "3-5월의 소비 급감은 타격이 크다.특히 4월달은 예년과 비교하여 이용금액이 5%, 이용건수는 10%가 감소했다.\\\n",
    "마찬가지로 감소한 이용건수에 비해 이용금액의 감소 비율은 낮은 경향을 보인다.\\\n",
    "3-5월의 감소는 2020년 초반 COVID-19의 영향이 큰 것으로 판단된다."
   ]
  },
  {
   "cell_type": "markdown",
   "id": "6c49d51c-33cc-47a2-8ae7-d5e5c6585f98",
   "metadata": {},
   "source": [
    "# 2019년도 연령대별 선호 업종"
   ]
  },
  {
   "cell_type": "code",
   "execution_count": 16,
   "id": "8d5a26d9-1564-48d6-ac8e-ce51b733b5c1",
   "metadata": {},
   "outputs": [
    {
     "data": {
      "text/plain": [
       "array(['50대', '30대', '40대', '20대', '60대 이상', '20세 미만'], dtype=object)"
      ]
     },
     "execution_count": 16,
     "metadata": {},
     "output_type": "execute_result"
    }
   ],
   "source": [
    "full_2019['연령대'].unique()"
   ]
  },
  {
   "cell_type": "code",
   "execution_count": 17,
   "id": "8fc880fd-9a44-4fa9-ae1c-9b1464cd3831",
   "metadata": {},
   "outputs": [],
   "source": [
    "Man_2019 = full_2019[full_2019['성별']=='남성'][['연령대', '업종명', '이용금액', '이용건수']].copy()\n",
    "Man_2019_10 = Man_2019[Man_2019['연령대']=='20세 미만'].drop('연령대', axis=1)\n",
    "Man_2019_20 = Man_2019[Man_2019['연령대']=='20대'].drop('연령대', axis=1)\n",
    "Man_2019_30 = Man_2019[Man_2019['연령대']=='30대'].drop('연령대', axis=1)\n",
    "Man_2019_40 = Man_2019[Man_2019['연령대']=='40대'].drop('연령대', axis=1)\n",
    "Man_2019_50 = Man_2019[Man_2019['연령대']=='50대'].drop('연령대', axis=1)\n",
    "Man_2019_60 = Man_2019[Man_2019['연령대']=='60대 이상'].drop('연령대', axis=1)\n",
    "\n",
    "Woman_2019 = full_2019[full_2019['성별']=='여성'][['연령대', '업종명', '이용금액', '이용건수']].copy()\n",
    "Woman_2019_10 = Woman_2019[Woman_2019['연령대']=='20세 미만'].drop('연령대', axis=1)\n",
    "Woman_2019_20 = Woman_2019[Woman_2019['연령대']=='20대'].drop('연령대', axis=1)\n",
    "Woman_2019_30 = Woman_2019[Woman_2019['연령대']=='30대'].drop('연령대', axis=1)\n",
    "Woman_2019_40 = Woman_2019[Woman_2019['연령대']=='40대'].drop('연령대', axis=1)\n",
    "Woman_2019_50 = Woman_2019[Woman_2019['연령대']=='50대'].drop('연령대', axis=1)\n",
    "Woman_2019_60 = Woman_2019[Woman_2019['연령대']=='60대 이상'].drop('연령대', axis=1)"
   ]
  },
  {
   "cell_type": "code",
   "execution_count": 18,
   "id": "ea3f55fe-30af-48e4-8786-d5853dc1d067",
   "metadata": {},
   "outputs": [],
   "source": [
    "def dataframe_grouping(df):\n",
    "    df = df.groupby('업종명', as_index=False).sum()\n",
    "    df = df.sort_values('이용건수', ascending=False)\n",
    "    return df.head(10)"
   ]
  },
  {
   "cell_type": "code",
   "execution_count": 19,
   "id": "18dd9fb8-af4c-4cd6-a195-fdb6b8169a0a",
   "metadata": {},
   "outputs": [],
   "source": [
    "Man_2019_10 = dataframe_grouping(Man_2019_10)\n",
    "Man_2019_20 = dataframe_grouping(Man_2019_20)\n",
    "Man_2019_30 = dataframe_grouping(Man_2019_30)\n",
    "Man_2019_40 = dataframe_grouping(Man_2019_40)\n",
    "Man_2019_50 = dataframe_grouping(Man_2019_50)\n",
    "Man_2019_60 = dataframe_grouping(Man_2019_60)\n",
    "\n",
    "Woman_2019_10 = dataframe_grouping(Woman_2019_10)\n",
    "Woman_2019_20 = dataframe_grouping(Woman_2019_20)\n",
    "Woman_2019_30 = dataframe_grouping(Woman_2019_30)\n",
    "Woman_2019_40 = dataframe_grouping(Woman_2019_40)\n",
    "Woman_2019_50 = dataframe_grouping(Woman_2019_50)\n",
    "Woman_2019_60 = dataframe_grouping(Woman_2019_60)"
   ]
  },
  {
   "cell_type": "markdown",
   "id": "87e74711-2a21-4ae8-bbc0-3c616cc7cf05",
   "metadata": {},
   "source": [
    "예시"
   ]
  },
  {
   "cell_type": "code",
   "execution_count": 20,
   "id": "275e1aa7-fec6-4554-bfa2-3096cd8a8087",
   "metadata": {},
   "outputs": [
    {
     "data": {
      "text/html": [
       "<div>\n",
       "<style scoped>\n",
       "    .dataframe tbody tr th:only-of-type {\n",
       "        vertical-align: middle;\n",
       "    }\n",
       "\n",
       "    .dataframe tbody tr th {\n",
       "        vertical-align: top;\n",
       "    }\n",
       "\n",
       "    .dataframe thead th {\n",
       "        text-align: right;\n",
       "    }\n",
       "</style>\n",
       "<table border=\"1\" class=\"dataframe\">\n",
       "  <thead>\n",
       "    <tr style=\"text-align: right;\">\n",
       "      <th></th>\n",
       "      <th>업종명</th>\n",
       "      <th>이용금액</th>\n",
       "      <th>이용건수</th>\n",
       "    </tr>\n",
       "  </thead>\n",
       "  <tbody>\n",
       "    <tr>\n",
       "      <th>102</th>\n",
       "      <td>인터넷PG</td>\n",
       "      <td>8883971717</td>\n",
       "      <td>679107</td>\n",
       "    </tr>\n",
       "    <tr>\n",
       "      <th>132</th>\n",
       "      <td>택시</td>\n",
       "      <td>2061421335</td>\n",
       "      <td>358141</td>\n",
       "    </tr>\n",
       "    <tr>\n",
       "      <th>137</th>\n",
       "      <td>편의점</td>\n",
       "      <td>836116430</td>\n",
       "      <td>276166</td>\n",
       "    </tr>\n",
       "    <tr>\n",
       "      <th>69</th>\n",
       "      <td>서양음식</td>\n",
       "      <td>1816915351</td>\n",
       "      <td>273858</td>\n",
       "    </tr>\n",
       "    <tr>\n",
       "      <th>107</th>\n",
       "      <td>일반한식</td>\n",
       "      <td>2196748124</td>\n",
       "      <td>207118</td>\n",
       "    </tr>\n",
       "    <tr>\n",
       "      <th>22</th>\n",
       "      <td>기타레져업</td>\n",
       "      <td>419857770</td>\n",
       "      <td>137599</td>\n",
       "    </tr>\n",
       "    <tr>\n",
       "      <th>101</th>\n",
       "      <td>인터넷Mall</td>\n",
       "      <td>636335496</td>\n",
       "      <td>99783</td>\n",
       "    </tr>\n",
       "    <tr>\n",
       "      <th>29</th>\n",
       "      <td>기타음료식품</td>\n",
       "      <td>198729163</td>\n",
       "      <td>95983</td>\n",
       "    </tr>\n",
       "    <tr>\n",
       "      <th>78</th>\n",
       "      <td>스넥</td>\n",
       "      <td>744930071</td>\n",
       "      <td>92012</td>\n",
       "    </tr>\n",
       "    <tr>\n",
       "      <th>103</th>\n",
       "      <td>인터넷종합Mall</td>\n",
       "      <td>1255521371</td>\n",
       "      <td>34734</td>\n",
       "    </tr>\n",
       "  </tbody>\n",
       "</table>\n",
       "</div>"
      ],
      "text/plain": [
       "           업종명        이용금액    이용건수\n",
       "102      인터넷PG  8883971717  679107\n",
       "132         택시  2061421335  358141\n",
       "137        편의점   836116430  276166\n",
       "69        서양음식  1816915351  273858\n",
       "107       일반한식  2196748124  207118\n",
       "22       기타레져업   419857770  137599\n",
       "101    인터넷Mall   636335496   99783\n",
       "29      기타음료식품   198729163   95983\n",
       "78          스넥   744930071   92012\n",
       "103  인터넷종합Mall  1255521371   34734"
      ]
     },
     "execution_count": 20,
     "metadata": {},
     "output_type": "execute_result"
    }
   ],
   "source": [
    "Man_2019_10"
   ]
  },
  {
   "cell_type": "markdown",
   "id": "8302497e-e8ad-4c2c-ac8f-81392615d601",
   "metadata": {},
   "source": [
    "# 2020년도 연령대별 선호 업종"
   ]
  },
  {
   "cell_type": "code",
   "execution_count": 21,
   "id": "c5662852-7529-448e-8e54-946dad915aa6",
   "metadata": {},
   "outputs": [],
   "source": [
    "Man_2020 = full_2020[full_2020['성별']=='남성'][['연령대', '업종명', '이용금액', '이용건수']].copy()\n",
    "Man_2020_10 = Man_2020[Man_2020['연령대']=='20세 미만'].drop('연령대', axis=1)\n",
    "Man_2020_20 = Man_2020[Man_2020['연령대']=='20대'].drop('연령대', axis=1)\n",
    "Man_2020_30 = Man_2020[Man_2020['연령대']=='30대'].drop('연령대', axis=1)\n",
    "Man_2020_40 = Man_2020[Man_2020['연령대']=='40대'].drop('연령대', axis=1)\n",
    "Man_2020_50 = Man_2020[Man_2020['연령대']=='50대'].drop('연령대', axis=1)\n",
    "Man_2020_60 = Man_2020[Man_2020['연령대']=='60대 이상'].drop('연령대', axis=1)\n",
    "\n",
    "Woman_2020 = full_2020[full_2020['성별']=='여성'][['연령대', '업종명', '이용금액', '이용건수']].copy()\n",
    "Woman_2020_10 = Woman_2020[Woman_2020['연령대']=='20세 미만'].drop('연령대', axis=1)\n",
    "Woman_2020_20 = Woman_2020[Woman_2020['연령대']=='20대'].drop('연령대', axis=1)\n",
    "Woman_2020_30 = Woman_2020[Woman_2020['연령대']=='30대'].drop('연령대', axis=1)\n",
    "Woman_2020_40 = Woman_2020[Woman_2020['연령대']=='40대'].drop('연령대', axis=1)\n",
    "Woman_2020_50 = Woman_2020[Woman_2020['연령대']=='50대'].drop('연령대', axis=1)\n",
    "Woman_2020_60 = Woman_2020[Woman_2020['연령대']=='60대 이상'].drop('연령대', axis=1)"
   ]
  },
  {
   "cell_type": "code",
   "execution_count": 22,
   "id": "f620dd2f-e433-4ae6-92b8-91030a46f33c",
   "metadata": {},
   "outputs": [],
   "source": [
    "Man_2020_10 = dataframe_grouping(Man_2020_10)\n",
    "Man_2020_20 = dataframe_grouping(Man_2020_20)\n",
    "Man_2020_30 = dataframe_grouping(Man_2020_30)\n",
    "Man_2020_40 = dataframe_grouping(Man_2020_40)\n",
    "Man_2020_50 = dataframe_grouping(Man_2020_50)\n",
    "Man_2020_60 = dataframe_grouping(Man_2020_60)\n",
    "\n",
    "Woman_2020_10 = dataframe_grouping(Woman_2020_10)\n",
    "Woman_2020_20 = dataframe_grouping(Woman_2020_20)\n",
    "Woman_2020_30 = dataframe_grouping(Woman_2020_30)\n",
    "Woman_2020_40 = dataframe_grouping(Woman_2020_40)\n",
    "Woman_2020_50 = dataframe_grouping(Woman_2020_50)\n",
    "Woman_2020_60 = dataframe_grouping(Woman_2020_60)"
   ]
  },
  {
   "cell_type": "markdown",
   "id": "c835d2de-6f42-4515-a4b4-51db5b4f21e0",
   "metadata": {},
   "source": [
    "예시"
   ]
  },
  {
   "cell_type": "code",
   "execution_count": 23,
   "id": "1102add5-b8d2-4797-a4af-0a9b40085211",
   "metadata": {},
   "outputs": [
    {
     "data": {
      "text/html": [
       "<div>\n",
       "<style scoped>\n",
       "    .dataframe tbody tr th:only-of-type {\n",
       "        vertical-align: middle;\n",
       "    }\n",
       "\n",
       "    .dataframe tbody tr th {\n",
       "        vertical-align: top;\n",
       "    }\n",
       "\n",
       "    .dataframe thead th {\n",
       "        text-align: right;\n",
       "    }\n",
       "</style>\n",
       "<table border=\"1\" class=\"dataframe\">\n",
       "  <thead>\n",
       "    <tr style=\"text-align: right;\">\n",
       "      <th></th>\n",
       "      <th>업종명</th>\n",
       "      <th>이용금액</th>\n",
       "      <th>이용건수</th>\n",
       "    </tr>\n",
       "  </thead>\n",
       "  <tbody>\n",
       "    <tr>\n",
       "      <th>98</th>\n",
       "      <td>인터넷PG</td>\n",
       "      <td>11311559040</td>\n",
       "      <td>839581</td>\n",
       "    </tr>\n",
       "    <tr>\n",
       "      <th>64</th>\n",
       "      <td>서양음식</td>\n",
       "      <td>1578741532</td>\n",
       "      <td>239208</td>\n",
       "    </tr>\n",
       "    <tr>\n",
       "      <th>136</th>\n",
       "      <td>편의점</td>\n",
       "      <td>675120319</td>\n",
       "      <td>214602</td>\n",
       "    </tr>\n",
       "    <tr>\n",
       "      <th>131</th>\n",
       "      <td>택시</td>\n",
       "      <td>1254867605</td>\n",
       "      <td>204690</td>\n",
       "    </tr>\n",
       "    <tr>\n",
       "      <th>104</th>\n",
       "      <td>일반한식</td>\n",
       "      <td>1760620454</td>\n",
       "      <td>158511</td>\n",
       "    </tr>\n",
       "    <tr>\n",
       "      <th>20</th>\n",
       "      <td>기타레져업</td>\n",
       "      <td>348653091</td>\n",
       "      <td>113135</td>\n",
       "    </tr>\n",
       "    <tr>\n",
       "      <th>97</th>\n",
       "      <td>인터넷Mall</td>\n",
       "      <td>510460281</td>\n",
       "      <td>90189</td>\n",
       "    </tr>\n",
       "    <tr>\n",
       "      <th>73</th>\n",
       "      <td>스넥</td>\n",
       "      <td>585248951</td>\n",
       "      <td>67298</td>\n",
       "    </tr>\n",
       "    <tr>\n",
       "      <th>99</th>\n",
       "      <td>인터넷종합Mall</td>\n",
       "      <td>992806037</td>\n",
       "      <td>26695</td>\n",
       "    </tr>\n",
       "    <tr>\n",
       "      <th>26</th>\n",
       "      <td>기타음료식품</td>\n",
       "      <td>54675908</td>\n",
       "      <td>22558</td>\n",
       "    </tr>\n",
       "  </tbody>\n",
       "</table>\n",
       "</div>"
      ],
      "text/plain": [
       "           업종명         이용금액    이용건수\n",
       "98       인터넷PG  11311559040  839581\n",
       "64        서양음식   1578741532  239208\n",
       "136        편의점    675120319  214602\n",
       "131         택시   1254867605  204690\n",
       "104       일반한식   1760620454  158511\n",
       "20       기타레져업    348653091  113135\n",
       "97     인터넷Mall    510460281   90189\n",
       "73          스넥    585248951   67298\n",
       "99   인터넷종합Mall    992806037   26695\n",
       "26      기타음료식품     54675908   22558"
      ]
     },
     "execution_count": 23,
     "metadata": {},
     "output_type": "execute_result"
    }
   ],
   "source": [
    "Man_2020_10"
   ]
  },
  {
   "cell_type": "markdown",
   "id": "d550022b-192d-4373-9cf5-df7d00bb5a43",
   "metadata": {},
   "source": [
    "2019년도 2020년도 선호도 비교"
   ]
  },
  {
   "cell_type": "code",
   "execution_count": 64,
   "id": "bb2a73ca-067d-45a6-b445-005c85c71594",
   "metadata": {},
   "outputs": [
    {
     "data": {
      "image/png": "[encoded data removed]",
      "text/plain": [
       "<Figure size 1200x2400 with 12 Axes>"
      ]
     },
     "metadata": {},
     "output_type": "display_data"
    }
   ],
   "source": [
    "fig, axes = plt.subplots(6, 2, figsize=(12, 24), gridspec_kw={'wspace': 0.4})\n",
    "\n",
    "# 10대\n",
    "axes[0, 0].bar(Man_2019_10['업종명'], Man_2019_10['이용건수'], label='Uses', color='blue')\n",
    "axes[0, 0].set_title('2019 Lower 20')\n",
    "axes[0, 0].set_ylim(0, 850000)\n",
    "\n",
    "# 10대\n",
    "axes[0, 1].bar(Man_2020_10['업종명'], Man_2020_10['이용건수'], label='Uses', color='orange')\n",
    "axes[0, 1].set_title('2020 Lower 20')\n",
    "axes[0, 1].set_ylim(0, 850000)\n",
    "\n",
    "# 20대\n",
    "axes[1, 0].bar(Man_2019_20['업종명'], Man_2019_20['이용건수'], label='Uses', color='blue')\n",
    "axes[1, 0].set_title('2019 20s')\n",
    "axes[1, 0].set_ylim(0, 20000000)\n",
    "\n",
    "axes[1, 1].bar(Man_2020_20['업종명'], Man_2020_20['이용건수'], label='Uses', color='orange')\n",
    "axes[1, 1].set_title('2020 20s')\n",
    "axes[1, 1].set_ylim(0, 20000000)\n",
    "\n",
    "# 30대\n",
    "axes[2, 0].bar(Man_2019_30['업종명'], Man_2019_30['이용건수'], label='Uses', color='blue')\n",
    "axes[2, 0].set_title('2019 30s')\n",
    "axes[2, 0].set_ylim(0, 25000000)\n",
    "\n",
    "axes[2, 1].bar(Man_2020_30['업종명'], Man_2020_30['이용건수'], label='Uses', color='orange')\n",
    "axes[2, 1].set_title('2020 30s')\n",
    "axes[2, 1].set_ylim(0, 25000000)\n",
    "\n",
    "# 40대\n",
    "axes[3, 0].bar(Man_2019_40['업종명'], Man_2019_40['이용건수'], label='Uses', color='blue')\n",
    "axes[3, 0].set_title('2019 40s')\n",
    "axes[3, 0].set_ylim(0, 20000000)\n",
    "\n",
    "axes[3, 1].bar(Man_2020_40['업종명'], Man_2020_40['이용건수'], label='Uses', color='orange')\n",
    "axes[3, 1].set_title('2020 40s')\n",
    "axes[3, 1].set_ylim(0, 20000000)\n",
    "\n",
    "# 50대\n",
    "axes[4, 0].bar(Man_2019_50['업종명'], Man_2019_50['이용건수'], label='Uses', color='blue')\n",
    "axes[4, 0].set_title('2019 50s')\n",
    "axes[4, 0].set_ylim(0, 9000000)\n",
    "\n",
    "axes[4, 1].bar(Man_2020_50['업종명'], Man_2020_50['이용건수'], label='Uses', color='orange')\n",
    "axes[4, 1].set_title('2020 50s')\n",
    "axes[4, 1].set_ylim(0, 9000000)\n",
    "\n",
    "# 60대\n",
    "axes[5, 0].bar(Man_2019_60['업종명'], Man_2019_60['이용건수'], label='Uses', color='blue')\n",
    "axes[5, 0].set_title('2019 Upper 60')\n",
    "axes[5, 0].set_ylim(0, 6000000)\n",
    "\n",
    "axes[5, 1].bar(Man_2020_60['업종명'], Man_2020_60['이용건수'], label='Uses', color='orange')\n",
    "axes[5, 1].set_title('2020 Upper 60')\n",
    "axes[5, 1].set_ylim(0, 6000000)\n",
    "\n",
    "for i in range(6):\n",
    "    for j in range(2):\n",
    "        axes[i, j].set_xlabel('Industry')\n",
    "        axes[i, j].set_ylabel('Uses')\n",
    "        axes[i, j].set_xticks(axes[i, j].get_xticks())\n",
    "        axes[i, j].set_xticklabels(axes[i, j].get_xticklabels(), rotation=90)\n",
    "\n",
    "fig.subplots_adjust(hspace=0.8)\n",
    "plt.show()"
   ]
  },
  {
   "cell_type": "markdown",
   "id": "f935c672-4bde-4ee3-bd3b-c5a9dc718bd8",
   "metadata": {},
   "source": [
    "20대와 60대 이상의 경우를 제외하더라도 2019년도 상반기의 소비 선호는 인터넷 쇼핑이 압도적인 주를 이루었다.\\\n",
    "그러나 2020년 COVID-19를 겪으면서 60대 이상을 제외한 모든 연령대에서 인터넷 쇼핑이 더욱 압도적인 소비처로 자리잡았으며,\\\n",
    "60대에서도 압도적이지는 않지만 가장 소비를 많이 하는 소비처로 떠올랐다."
   ]
  },
  {
   "cell_type": "markdown",
   "id": "1933e7f3-a664-46f2-800a-a6dad3b53c89",
   "metadata": {},
   "source": [
    "추가적으로 인터넷 쇼핑을 제외, 주를 이루던 2019년도의 소비처들이 2020년도에 대부분 감소한 것으로 파악됐다.\\\n",
    "외출을 하지 않으면서 소비 선호의 변화가 생긴 것으로 판단된다."
   ]
  },
  {
   "cell_type": "markdown",
   "id": "a7649f81-842f-4870-bcac-e97d32815c89",
   "metadata": {},
   "source": [
    "# COVID-19에 따른 남녀 소비 차이"
   ]
  },
  {
   "cell_type": "markdown",
   "id": "03efeb37-a820-4b9b-8338-a43391d4cac9",
   "metadata": {},
   "source": [
    "남성과 여성의 경우 이용금액과 이용건수 모두 비율적으로 큰 차이를 보이지 않는다.\\\n",
    "여성이 조금 더 낮지만 남성과 비슷한 소비를 하고 있음을 보인다."
   ]
  },
  {
   "cell_type": "code",
   "execution_count": 25,
   "id": "516111a3-e237-43a9-b5a6-af140ad97a2e",
   "metadata": {},
   "outputs": [
    {
     "data": {
      "text/html": [
       "<div>\n",
       "<style scoped>\n",
       "    .dataframe tbody tr th:only-of-type {\n",
       "        vertical-align: middle;\n",
       "    }\n",
       "\n",
       "    .dataframe tbody tr th {\n",
       "        vertical-align: top;\n",
       "    }\n",
       "\n",
       "    .dataframe thead th {\n",
       "        text-align: right;\n",
       "    }\n",
       "</style>\n",
       "<table border=\"1\" class=\"dataframe\">\n",
       "  <thead>\n",
       "    <tr style=\"text-align: right;\">\n",
       "      <th></th>\n",
       "      <th>성별</th>\n",
       "      <th>이용금액</th>\n",
       "      <th>이용건수</th>\n",
       "    </tr>\n",
       "  </thead>\n",
       "  <tbody>\n",
       "    <tr>\n",
       "      <th>0</th>\n",
       "      <td>남성</td>\n",
       "      <td>9000240037184</td>\n",
       "      <td>269798151</td>\n",
       "    </tr>\n",
       "    <tr>\n",
       "      <th>1</th>\n",
       "      <td>여성</td>\n",
       "      <td>8636665312336</td>\n",
       "      <td>254789533</td>\n",
       "    </tr>\n",
       "  </tbody>\n",
       "</table>\n",
       "</div>"
      ],
      "text/plain": [
       "   성별           이용금액       이용건수\n",
       "0  남성  9000240037184  269798151\n",
       "1  여성  8636665312336  254789533"
      ]
     },
     "execution_count": 25,
     "metadata": {},
     "output_type": "execute_result"
    }
   ],
   "source": [
    "Sex_2020 = full_2020[['성별', '이용금액', '이용건수']].copy()\n",
    "Sex_2020 = Sex_2020.groupby(['성별'], as_index=False).sum()\n",
    "Sex_2020"
   ]
  },
  {
   "cell_type": "code",
   "execution_count": 26,
   "id": "42beb9f7-ede7-4fe0-a0b2-4f954c5cc29e",
   "metadata": {},
   "outputs": [
    {
     "data": {
      "text/html": [
       "<div>\n",
       "<style scoped>\n",
       "    .dataframe tbody tr th:only-of-type {\n",
       "        vertical-align: middle;\n",
       "    }\n",
       "\n",
       "    .dataframe tbody tr th {\n",
       "        vertical-align: top;\n",
       "    }\n",
       "\n",
       "    .dataframe thead th {\n",
       "        text-align: right;\n",
       "    }\n",
       "</style>\n",
       "<table border=\"1\" class=\"dataframe\">\n",
       "  <thead>\n",
       "    <tr style=\"text-align: right;\">\n",
       "      <th></th>\n",
       "      <th>성별</th>\n",
       "      <th>이용금액</th>\n",
       "      <th>이용건수</th>\n",
       "    </tr>\n",
       "  </thead>\n",
       "  <tbody>\n",
       "    <tr>\n",
       "      <th>0</th>\n",
       "      <td>남성</td>\n",
       "      <td>8893461847208</td>\n",
       "      <td>278094468</td>\n",
       "    </tr>\n",
       "    <tr>\n",
       "      <th>1</th>\n",
       "      <td>여성</td>\n",
       "      <td>8687803758815</td>\n",
       "      <td>265814653</td>\n",
       "    </tr>\n",
       "  </tbody>\n",
       "</table>\n",
       "</div>"
      ],
      "text/plain": [
       "   성별           이용금액       이용건수\n",
       "0  남성  8893461847208  278094468\n",
       "1  여성  8687803758815  265814653"
      ]
     },
     "execution_count": 26,
     "metadata": {},
     "output_type": "execute_result"
    }
   ],
   "source": [
    "Sex_2019 = full_2019[['성별', '이용금액', '이용건수']].copy()\n",
    "Sex_2019 = Sex_2019.groupby(['성별'], as_index=False).sum()\n",
    "Sex_2019"
   ]
  },
  {
   "cell_type": "markdown",
   "id": "15ea5a36-4cdb-494f-a2b9-bd5a2611ee6d",
   "metadata": {},
   "source": [
    "2020년 상반기 vs 2019년 상반기 소비 비교(2019기준 증감)"
   ]
  },
  {
   "cell_type": "code",
   "execution_count": 27,
   "id": "84c3bfe9-5f1a-4e81-a492-57a69473ed33",
   "metadata": {},
   "outputs": [
    {
     "data": {
      "text/html": [
       "<div>\n",
       "<style scoped>\n",
       "    .dataframe tbody tr th:only-of-type {\n",
       "        vertical-align: middle;\n",
       "    }\n",
       "\n",
       "    .dataframe tbody tr th {\n",
       "        vertical-align: top;\n",
       "    }\n",
       "\n",
       "    .dataframe thead th {\n",
       "        text-align: right;\n",
       "    }\n",
       "</style>\n",
       "<table border=\"1\" class=\"dataframe\">\n",
       "  <thead>\n",
       "    <tr style=\"text-align: right;\">\n",
       "      <th></th>\n",
       "      <th>성별</th>\n",
       "      <th>이용금액</th>\n",
       "      <th>이용건수</th>\n",
       "      <th>이용금액 증감</th>\n",
       "      <th>이용건수 증감</th>\n",
       "      <th>이용금액 증감(%)</th>\n",
       "      <th>이용건수 증감(%)</th>\n",
       "    </tr>\n",
       "  </thead>\n",
       "  <tbody>\n",
       "    <tr>\n",
       "      <th>0</th>\n",
       "      <td>남성</td>\n",
       "      <td>9000240037184</td>\n",
       "      <td>269798151</td>\n",
       "      <td>106778189976</td>\n",
       "      <td>-8296317</td>\n",
       "      <td>1.200637</td>\n",
       "      <td>-2.983273</td>\n",
       "    </tr>\n",
       "    <tr>\n",
       "      <th>1</th>\n",
       "      <td>여성</td>\n",
       "      <td>8636665312336</td>\n",
       "      <td>254789533</td>\n",
       "      <td>-51138446479</td>\n",
       "      <td>-11025120</td>\n",
       "      <td>-0.588623</td>\n",
       "      <td>-4.147672</td>\n",
       "    </tr>\n",
       "  </tbody>\n",
       "</table>\n",
       "</div>"
      ],
      "text/plain": [
       "   성별           이용금액       이용건수       이용금액 증감   이용건수 증감  이용금액 증감(%)  \\\n",
       "0  남성  9000240037184  269798151  106778189976  -8296317    1.200637   \n",
       "1  여성  8636665312336  254789533  -51138446479 -11025120   -0.588623   \n",
       "\n",
       "   이용건수 증감(%)  \n",
       "0   -2.983273  \n",
       "1   -4.147672  "
      ]
     },
     "execution_count": 27,
     "metadata": {},
     "output_type": "execute_result"
    }
   ],
   "source": [
    "Sex_2020['이용금액 증감'] = Sex_2020['이용금액'] - Sex_2019['이용금액']\n",
    "Sex_2020['이용건수 증감'] = Sex_2020['이용건수'] - Sex_2019['이용건수']\n",
    "Sex_2020['이용금액 증감(%)'] = (Sex_2020['이용금액 증감'] / Sex_2019['이용금액']) * 100\n",
    "Sex_2020['이용건수 증감(%)'] = (Sex_2020['이용건수 증감'] / Sex_2019['이용건수']) * 100\n",
    "Sex_2020"
   ]
  },
  {
   "cell_type": "markdown",
   "id": "a7762577-5e82-44b4-ab5f-ba6fe153ee5c",
   "metadata": {},
   "source": [
    "남성과 여성 모두 이용건수는 감소했고, 여성이 남성에 비해 이용건수가 더 많이 줄어들었다.\\\n",
    "그러나 이용금액의 경우는 남성은 이용건수가 감소했음애도 불구하고 증가했으며,\\\n",
    "여성 역시 이용건수가 4% 넘게 감소한 것에 비해 약 0.6%만 감소한 것으로 나타났다.\\\n",
    "이는 평소에 소비하던 습관의 패턴이 변화한 것이고, 한 번 구매할 때 더 많은 금액을 사용하는 것으로 보인다."
   ]
  },
  {
   "cell_type": "markdown",
   "id": "0bfc8164-41cd-42cf-9112-d89ee474c6db",
   "metadata": {},
   "source": [
    "# 남녀 월별 소비 차이"
   ]
  },
  {
   "cell_type": "code",
   "execution_count": 28,
   "id": "efbc8347-6669-44c6-bec1-223a1ff1de47",
   "metadata": {},
   "outputs": [],
   "source": [
    "Month_Sex_2019 = full_2019[['월별', '성별', '이용금액', '이용건수']].copy()\n",
    "Month_Sex_2019 = Month_Sex_2019.groupby(['월별', '성별'], as_index=False).sum()"
   ]
  },
  {
   "cell_type": "code",
   "execution_count": 29,
   "id": "9ba22adf-7e31-4b91-98dc-fa050fd99b5d",
   "metadata": {},
   "outputs": [],
   "source": [
    "Month_Sex_2020 = full_2020[['월별', '성별', '이용금액', '이용건수']].copy()\n",
    "Month_Sex_2020 = Month_Sex_2020.groupby(['월별', '성별'], as_index=False).sum()"
   ]
  },
  {
   "cell_type": "code",
   "execution_count": 30,
   "id": "b0b75f9c-1fe4-4b2d-b737-6f6faceb3248",
   "metadata": {},
   "outputs": [],
   "source": [
    "Man_2020 = Month_Sex_2020[Month_Sex_2020['성별']=='남성'].copy()\n",
    "Woman_2020 = Month_Sex_2020[Month_Sex_2020['성별']=='여성'].copy()\n",
    "Man_2019 = Month_Sex_2019[Month_Sex_2019['성별']=='남성'].copy()\n",
    "Woman_2019 = Month_Sex_2019[Month_Sex_2019['성별']=='여성'].copy()"
   ]
  },
  {
   "cell_type": "code",
   "execution_count": 31,
   "id": "8d0f6f9b-fa08-45cd-9a26-de4d99ed66b0",
   "metadata": {},
   "outputs": [],
   "source": [
    "Man_2020['이용건수 증감(%)'] = ((Man_2020['이용건수'] - Man_2019['이용건수']) / Man_2019['이용건수']) * 100\n",
    "Man_2020['이용금액 증감(%)'] = ((Man_2020['이용금액'] - Man_2019['이용금액']) / Man_2019['이용금액']) * 100\n",
    "\n",
    "Woman_2020['이용건수 증감(%)'] = ((Woman_2020['이용건수'] - Woman_2019['이용건수']) / Woman_2019['이용건수']) * 100\n",
    "Woman_2020['이용금액 증감(%)'] = ((Woman_2020['이용금액'] - Woman_2019['이용금액']) / Woman_2019['이용금액']) * 100"
   ]
  },
  {
   "cell_type": "code",
   "execution_count": 32,
   "id": "e52b2ad6-6a25-4db7-9e72-e7b671b804e3",
   "metadata": {},
   "outputs": [
    {
     "data": {
      "text/html": [
       "<div>\n",
       "<style scoped>\n",
       "    .dataframe tbody tr th:only-of-type {\n",
       "        vertical-align: middle;\n",
       "    }\n",
       "\n",
       "    .dataframe tbody tr th {\n",
       "        vertical-align: top;\n",
       "    }\n",
       "\n",
       "    .dataframe thead th {\n",
       "        text-align: right;\n",
       "    }\n",
       "</style>\n",
       "<table border=\"1\" class=\"dataframe\">\n",
       "  <thead>\n",
       "    <tr style=\"text-align: right;\">\n",
       "      <th></th>\n",
       "      <th>월별</th>\n",
       "      <th>성별</th>\n",
       "      <th>이용금액</th>\n",
       "      <th>이용건수</th>\n",
       "      <th>이용건수 증감(%)</th>\n",
       "      <th>이용금액 증감(%)</th>\n",
       "    </tr>\n",
       "  </thead>\n",
       "  <tbody>\n",
       "    <tr>\n",
       "      <th>0</th>\n",
       "      <td>202001</td>\n",
       "      <td>남성</td>\n",
       "      <td>1649183147347</td>\n",
       "      <td>47172806</td>\n",
       "      <td>4.549371</td>\n",
       "      <td>4.261886</td>\n",
       "    </tr>\n",
       "    <tr>\n",
       "      <th>2</th>\n",
       "      <td>202002</td>\n",
       "      <td>남성</td>\n",
       "      <td>1426482707242</td>\n",
       "      <td>42994781</td>\n",
       "      <td>4.603316</td>\n",
       "      <td>5.892572</td>\n",
       "    </tr>\n",
       "    <tr>\n",
       "      <th>4</th>\n",
       "      <td>202003</td>\n",
       "      <td>남성</td>\n",
       "      <td>1467943872426</td>\n",
       "      <td>42697743</td>\n",
       "      <td>-9.496022</td>\n",
       "      <td>-2.247651</td>\n",
       "    </tr>\n",
       "    <tr>\n",
       "      <th>6</th>\n",
       "      <td>202004</td>\n",
       "      <td>남성</td>\n",
       "      <td>1427672138086</td>\n",
       "      <td>42785058</td>\n",
       "      <td>-9.873499</td>\n",
       "      <td>-5.022354</td>\n",
       "    </tr>\n",
       "    <tr>\n",
       "      <th>8</th>\n",
       "      <td>202005</td>\n",
       "      <td>남성</td>\n",
       "      <td>1505130071812</td>\n",
       "      <td>46632249</td>\n",
       "      <td>-5.921658</td>\n",
       "      <td>-1.484303</td>\n",
       "    </tr>\n",
       "    <tr>\n",
       "      <th>10</th>\n",
       "      <td>202006</td>\n",
       "      <td>남성</td>\n",
       "      <td>1523828100271</td>\n",
       "      <td>47515514</td>\n",
       "      <td>-0.291034</td>\n",
       "      <td>6.418695</td>\n",
       "    </tr>\n",
       "  </tbody>\n",
       "</table>\n",
       "</div>"
      ],
      "text/plain": [
       "        월별  성별           이용금액      이용건수  이용건수 증감(%)  이용금액 증감(%)\n",
       "0   202001  남성  1649183147347  47172806    4.549371    4.261886\n",
       "2   202002  남성  1426482707242  42994781    4.603316    5.892572\n",
       "4   202003  남성  1467943872426  42697743   -9.496022   -2.247651\n",
       "6   202004  남성  1427672138086  42785058   -9.873499   -5.022354\n",
       "8   202005  남성  1505130071812  46632249   -5.921658   -1.484303\n",
       "10  202006  남성  1523828100271  47515514   -0.291034    6.418695"
      ]
     },
     "execution_count": 32,
     "metadata": {},
     "output_type": "execute_result"
    }
   ],
   "source": [
    "Man_2020"
   ]
  },
  {
   "cell_type": "code",
   "execution_count": 33,
   "id": "42007124-c6dd-4f46-999b-3a155d86d197",
   "metadata": {},
   "outputs": [
    {
     "data": {
      "text/html": [
       "<div>\n",
       "<style scoped>\n",
       "    .dataframe tbody tr th:only-of-type {\n",
       "        vertical-align: middle;\n",
       "    }\n",
       "\n",
       "    .dataframe tbody tr th {\n",
       "        vertical-align: top;\n",
       "    }\n",
       "\n",
       "    .dataframe thead th {\n",
       "        text-align: right;\n",
       "    }\n",
       "</style>\n",
       "<table border=\"1\" class=\"dataframe\">\n",
       "  <thead>\n",
       "    <tr style=\"text-align: right;\">\n",
       "      <th></th>\n",
       "      <th>월별</th>\n",
       "      <th>성별</th>\n",
       "      <th>이용금액</th>\n",
       "      <th>이용건수</th>\n",
       "      <th>이용건수 증감(%)</th>\n",
       "      <th>이용금액 증감(%)</th>\n",
       "    </tr>\n",
       "  </thead>\n",
       "  <tbody>\n",
       "    <tr>\n",
       "      <th>1</th>\n",
       "      <td>202001</td>\n",
       "      <td>여성</td>\n",
       "      <td>1540526223728</td>\n",
       "      <td>44389295</td>\n",
       "      <td>2.821762</td>\n",
       "      <td>2.292726</td>\n",
       "    </tr>\n",
       "    <tr>\n",
       "      <th>3</th>\n",
       "      <td>202002</td>\n",
       "      <td>여성</td>\n",
       "      <td>1409888638840</td>\n",
       "      <td>41117208</td>\n",
       "      <td>5.702051</td>\n",
       "      <td>6.459994</td>\n",
       "    </tr>\n",
       "    <tr>\n",
       "      <th>5</th>\n",
       "      <td>202003</td>\n",
       "      <td>여성</td>\n",
       "      <td>1416697668642</td>\n",
       "      <td>40640875</td>\n",
       "      <td>-9.718683</td>\n",
       "      <td>-4.480077</td>\n",
       "    </tr>\n",
       "    <tr>\n",
       "      <th>7</th>\n",
       "      <td>202004</td>\n",
       "      <td>여성</td>\n",
       "      <td>1384519491461</td>\n",
       "      <td>40813286</td>\n",
       "      <td>-10.819499</td>\n",
       "      <td>-5.897407</td>\n",
       "    </tr>\n",
       "    <tr>\n",
       "      <th>9</th>\n",
       "      <td>202005</td>\n",
       "      <td>여성</td>\n",
       "      <td>1440292540860</td>\n",
       "      <td>43310853</td>\n",
       "      <td>-9.146372</td>\n",
       "      <td>-4.004789</td>\n",
       "    </tr>\n",
       "    <tr>\n",
       "      <th>11</th>\n",
       "      <td>202006</td>\n",
       "      <td>여성</td>\n",
       "      <td>1444740748805</td>\n",
       "      <td>44518016</td>\n",
       "      <td>-1.710471</td>\n",
       "      <td>3.000151</td>\n",
       "    </tr>\n",
       "  </tbody>\n",
       "</table>\n",
       "</div>"
      ],
      "text/plain": [
       "        월별  성별           이용금액      이용건수  이용건수 증감(%)  이용금액 증감(%)\n",
       "1   202001  여성  1540526223728  44389295    2.821762    2.292726\n",
       "3   202002  여성  1409888638840  41117208    5.702051    6.459994\n",
       "5   202003  여성  1416697668642  40640875   -9.718683   -4.480077\n",
       "7   202004  여성  1384519491461  40813286  -10.819499   -5.897407\n",
       "9   202005  여성  1440292540860  43310853   -9.146372   -4.004789\n",
       "11  202006  여성  1444740748805  44518016   -1.710471    3.000151"
      ]
     },
     "execution_count": 33,
     "metadata": {},
     "output_type": "execute_result"
    }
   ],
   "source": [
    "Woman_2020"
   ]
  },
  {
   "cell_type": "code",
   "execution_count": 34,
   "id": "08400950-8d2f-4aa3-ac03-819cb43ac484",
   "metadata": {},
   "outputs": [
    {
     "name": "stderr",
     "output_type": "stream",
     "text": [
      "C:\\Users\\skt75\\AppData\\Local\\Programs\\Python\\Python312\\Lib\\site-packages\\IPython\\core\\pylabtools.py:152: UserWarning: Glyph 8722 (\\N{MINUS SIGN}) missing from current font.\n",
      "  fig.canvas.print_figure(bytes_io, **kw)\n"
     ]
    },
    {
     "data": {
      "image/png": "[encoded data removed]",
      "text/plain": [
       "<Figure size 800x600 with 4 Axes>"
      ]
     },
     "metadata": {},
     "output_type": "display_data"
    }
   ],
   "source": [
    "fig, axes = plt.subplots(2, 2, figsize=(8, 6), gridspec_kw={'wspace': 0.4})\n",
    "\n",
    "#남성\n",
    "axes[0, 0].bar(Man_2020['월별'], Man_2020['이용건수 증감(%)'], color=['blue' if value < 0 else 'red' for value in Man_2020['이용건수 증감(%)']], width=0.5)\n",
    "axes[0, 0].set_title('Man Monthly Uses Different(%)')\n",
    "axes[0, 0].set_xlabel('Month')\n",
    "axes[0, 0].set_ylabel('Uses')\n",
    "axes[0, 0].axhline(0, color='black', linewidth=0.8)\n",
    "axes[0, 0].set_ylim(-11, 11)\n",
    "\n",
    "axes[0, 1].bar(Man_2020['월별'], Man_2020['이용금액 증감(%)'], color=['blue' if value < 0 else 'red' for value in Man_2020['이용금액 증감(%)']], width=0.5)\n",
    "axes[0, 1].set_title('Man Monthly Amount Different(%)')\n",
    "axes[0, 1].set_xlabel('Month')\n",
    "axes[0, 1].set_ylabel('Amount')\n",
    "axes[0, 1].axhline(0, color='black', linewidth=0.8)\n",
    "axes[0, 1].set_ylim(-11, 11)\n",
    "\n",
    "#여성\n",
    "axes[1, 0].bar(Woman_2020['월별'], Woman_2020['이용건수 증감(%)'], color=['blue' if value < 0 else 'red' for value in Woman_2020['이용건수 증감(%)']], width=0.5)\n",
    "axes[1, 0].set_title('Woman Monthly Uses Different(%)')\n",
    "axes[1, 0].set_xlabel('Month')\n",
    "axes[1, 0].set_ylabel('Uses')\n",
    "axes[1, 0].axhline(0, color='black', linewidth=0.8)\n",
    "axes[1, 0].set_ylim(-11, 11)\n",
    "\n",
    "axes[1, 1].bar(Woman_2020['월별'], Woman_2020['이용금액 증감(%)'], color=['blue' if value < 0 else 'red' for value in Woman_2020['이용금액 증감(%)']], width=0.5)\n",
    "axes[1, 1].set_title('Woman Monthly Amount Different(%)')\n",
    "axes[1, 1].set_xlabel('Month')\n",
    "axes[1, 1].set_ylabel('Amount')\n",
    "axes[1, 1].axhline(0, color='black', linewidth=0.8)\n",
    "axes[1, 1].set_ylim(-11, 11)\n",
    "fig.subplots_adjust(hspace=0.5)\n",
    "plt.show()"
   ]
  },
  {
   "cell_type": "markdown",
   "id": "4a71d146-bf1f-4924-a098-8749a1237675",
   "metadata": {},
   "source": [
    "남성과 여성 둘 다 변화의 정도만 차이가 있을 뿐, 이용건수와 이용금액 모두 같은 경향을 보인다.\\\n",
    "남녀 업종별/월별 변화율을 들여다 볼 필요가 있어보인다."
   ]
  },
  {
   "cell_type": "markdown",
   "id": "6fe9715e-2439-4939-91d9-2a1d211aff0a",
   "metadata": {},
   "source": [
    "# 남녀 업종별 소비 변화"
   ]
  },
  {
   "cell_type": "code",
   "execution_count": 35,
   "id": "43692751-0787-480b-add5-dd038d158d28",
   "metadata": {},
   "outputs": [],
   "source": [
    "Industry_2019 = full_2019[['월별','성별', '업종명', '이용금액', '이용건수']].copy()\n",
    "Industry_2019['월별'] = Industry_2019['월별'].astype(str).str[4:]\n",
    "\n",
    "Industry_2020 = full_2020[['월별','성별', '업종명', '이용금액', '이용건수']].copy()\n",
    "Industry_2020['월별'] = Industry_2020['월별'].astype(str).str[4:]"
   ]
  },
  {
   "cell_type": "code",
   "execution_count": 36,
   "id": "29f41011-9928-47f9-a6e1-584732ee7e88",
   "metadata": {},
   "outputs": [],
   "source": [
    "Industry_2019 = Industry_2019.groupby(['월별','성별', '업종명'], as_index=False).sum()\n",
    "Industry_2020 = Industry_2020.groupby(['월별','성별', '업종명'], as_index=False).sum()"
   ]
  },
  {
   "cell_type": "code",
   "execution_count": 37,
   "id": "a9c43e88-affe-42f1-a9ea-bf14849f0ede",
   "metadata": {},
   "outputs": [],
   "source": [
    "Industry_2020_Man = Industry_2020[Industry_2020['성별']=='남성']\n",
    "Industry_2020_Man = Industry_2020_Man.drop('성별', axis=1)\n",
    "Industry_2019_Man = Industry_2019[Industry_2019['성별']=='남성']\n",
    "Industry_2019_Man = Industry_2019_Man.drop('성별', axis=1)\n",
    "\n",
    "Industry_2020_Woman = Industry_2020[Industry_2020['성별']=='여성']\n",
    "Industry_2020_Woman = Industry_2020_Woman.drop('성별', axis=1)\n",
    "Industry_2019_Woman = Industry_2019[Industry_2019['성별']=='여성']\n",
    "Industry_2019_Woman = Industry_2019_Woman.drop('성별', axis=1)"
   ]
  },
  {
   "cell_type": "code",
   "execution_count": 38,
   "id": "d228d707-047d-47bb-8472-150c93e1e504",
   "metadata": {},
   "outputs": [],
   "source": [
    "Industry_2020_Man.columns = ['월별', '업종명', '20년 이용금액', '20년 이용건수']\n",
    "Industry_2019_Man.columns = ['월별', '업종명', '19년 이용금액', '19년 이용건수']\n",
    "\n",
    "Industry_2020_Woman.columns = ['월별', '업종명', '20년 이용금액', '20년 이용건수']\n",
    "Industry_2019_Woman.columns = ['월별', '업종명', '19년 이용금액', '19년 이용건수']"
   ]
  },
  {
   "cell_type": "code",
   "execution_count": 39,
   "id": "dfc75001-a5b7-4897-baaf-706683b2f903",
   "metadata": {},
   "outputs": [],
   "source": [
    "Industry_Man = pd.merge(Industry_2020_Man, Industry_2019_Man, on=['월별', '업종명'], how='outer')\n",
    "Industry_Man.fillna(0, inplace=True)\n",
    "\n",
    "Industry_Woman = pd.merge(Industry_2020_Woman, Industry_2019_Woman, on=['월별', '업종명'], how='outer')\n",
    "Industry_Woman.fillna(0, inplace=True)"
   ]
  },
  {
   "cell_type": "code",
   "execution_count": 40,
   "id": "f9aa91d7-9755-4191-9c41-6699cf97364e",
   "metadata": {},
   "outputs": [],
   "source": [
    "import numpy as np\n",
    "\n",
    "Industry_Man['이용금액 증감'] = Industry_Man['20년 이용금액'] - Industry_Man['19년 이용금액']\n",
    "Industry_Man['이용건수 증감'] = Industry_Man['20년 이용건수'] - Industry_Man['19년 이용건수']\n",
    "Industry_Man['이용금액 증감(%)'] = np.where(Industry_Man['19년 이용금액'] > 0, (Industry_Man['이용금액 증감'] / Industry_Man['19년 이용금액']) * 100, 0)\n",
    "Industry_Man['이용건수 증감(%)'] = np.where(Industry_Man['19년 이용금액'] > 0, (Industry_Man['이용건수 증감'] / Industry_Man['19년 이용건수']) * 100, 0)\n",
    "\n",
    "Industry_Woman['이용금액 증감'] = Industry_Woman['20년 이용금액'] - Industry_Woman['19년 이용금액']\n",
    "Industry_Woman['이용건수 증감'] = Industry_Woman['20년 이용건수'] - Industry_Woman['19년 이용건수']\n",
    "Industry_Woman['이용금액 증감(%)'] = np.where(Industry_Woman['19년 이용금액'] > 0, (Industry_Woman['이용금액 증감'] / Industry_Woman['19년 이용금액']) * 100, 0)\n",
    "Industry_Woman['이용건수 증감(%)'] = np.where(Industry_Woman['19년 이용금액'] > 0, (Industry_Woman['이용건수 증감'] / Industry_Woman['19년 이용건수']) * 100, 0)"
   ]
  },
  {
   "cell_type": "code",
   "execution_count": 41,
   "id": "2a9ad873-b4da-4a9d-a15e-f199a4ee89f3",
   "metadata": {},
   "outputs": [
    {
     "data": {
      "text/html": [
       "<div>\n",
       "<style scoped>\n",
       "    .dataframe tbody tr th:only-of-type {\n",
       "        vertical-align: middle;\n",
       "    }\n",
       "\n",
       "    .dataframe tbody tr th {\n",
       "        vertical-align: top;\n",
       "    }\n",
       "\n",
       "    .dataframe thead th {\n",
       "        text-align: right;\n",
       "    }\n",
       "</style>\n",
       "<table border=\"1\" class=\"dataframe\">\n",
       "  <thead>\n",
       "    <tr style=\"text-align: right;\">\n",
       "      <th></th>\n",
       "      <th>월별</th>\n",
       "      <th>업종명</th>\n",
       "      <th>20년 이용금액</th>\n",
       "      <th>20년 이용건수</th>\n",
       "      <th>19년 이용금액</th>\n",
       "      <th>19년 이용건수</th>\n",
       "      <th>이용금액 증감</th>\n",
       "      <th>이용건수 증감</th>\n",
       "      <th>이용금액 증감(%)</th>\n",
       "      <th>이용건수 증감(%)</th>\n",
       "    </tr>\n",
       "  </thead>\n",
       "  <tbody>\n",
       "    <tr>\n",
       "      <th>0</th>\n",
       "      <td>01</td>\n",
       "      <td>2급호텔</td>\n",
       "      <td>3.563373e+06</td>\n",
       "      <td>19.0</td>\n",
       "      <td>3.663170e+06</td>\n",
       "      <td>16.0</td>\n",
       "      <td>-9.979700e+04</td>\n",
       "      <td>3.0</td>\n",
       "      <td>-2.724334</td>\n",
       "      <td>18.750000</td>\n",
       "    </tr>\n",
       "    <tr>\n",
       "      <th>1</th>\n",
       "      <td>01</td>\n",
       "      <td>DVD음반테이프판매</td>\n",
       "      <td>3.506080e+07</td>\n",
       "      <td>536.0</td>\n",
       "      <td>3.322566e+07</td>\n",
       "      <td>574.0</td>\n",
       "      <td>1.835140e+06</td>\n",
       "      <td>-38.0</td>\n",
       "      <td>5.523261</td>\n",
       "      <td>-6.620209</td>\n",
       "    </tr>\n",
       "    <tr>\n",
       "      <th>2</th>\n",
       "      <td>01</td>\n",
       "      <td>PG상품권</td>\n",
       "      <td>1.071668e+10</td>\n",
       "      <td>72313.0</td>\n",
       "      <td>7.941079e+09</td>\n",
       "      <td>40648.0</td>\n",
       "      <td>2.775597e+09</td>\n",
       "      <td>31665.0</td>\n",
       "      <td>34.952389</td>\n",
       "      <td>77.900512</td>\n",
       "    </tr>\n",
       "    <tr>\n",
       "      <th>3</th>\n",
       "      <td>01</td>\n",
       "      <td>가례서비스</td>\n",
       "      <td>1.525758e+09</td>\n",
       "      <td>22969.0</td>\n",
       "      <td>7.371822e+08</td>\n",
       "      <td>4406.0</td>\n",
       "      <td>7.885758e+08</td>\n",
       "      <td>18563.0</td>\n",
       "      <td>106.971622</td>\n",
       "      <td>421.311847</td>\n",
       "    </tr>\n",
       "    <tr>\n",
       "      <th>4</th>\n",
       "      <td>01</td>\n",
       "      <td>가방</td>\n",
       "      <td>3.574261e+08</td>\n",
       "      <td>1145.0</td>\n",
       "      <td>9.827695e+07</td>\n",
       "      <td>843.0</td>\n",
       "      <td>2.591491e+08</td>\n",
       "      <td>302.0</td>\n",
       "      <td>263.692666</td>\n",
       "      <td>35.824437</td>\n",
       "    </tr>\n",
       "  </tbody>\n",
       "</table>\n",
       "</div>"
      ],
      "text/plain": [
       "   월별         업종명      20년 이용금액  20년 이용건수      19년 이용금액  19년 이용건수  \\\n",
       "0  01        2급호텔  3.563373e+06      19.0  3.663170e+06      16.0   \n",
       "1  01  DVD음반테이프판매  3.506080e+07     536.0  3.322566e+07     574.0   \n",
       "2  01       PG상품권  1.071668e+10   72313.0  7.941079e+09   40648.0   \n",
       "3  01       가례서비스  1.525758e+09   22969.0  7.371822e+08    4406.0   \n",
       "4  01          가방  3.574261e+08    1145.0  9.827695e+07     843.0   \n",
       "\n",
       "        이용금액 증감  이용건수 증감  이용금액 증감(%)  이용건수 증감(%)  \n",
       "0 -9.979700e+04      3.0   -2.724334   18.750000  \n",
       "1  1.835140e+06    -38.0    5.523261   -6.620209  \n",
       "2  2.775597e+09  31665.0   34.952389   77.900512  \n",
       "3  7.885758e+08  18563.0  106.971622  421.311847  \n",
       "4  2.591491e+08    302.0  263.692666   35.824437  "
      ]
     },
     "execution_count": 41,
     "metadata": {},
     "output_type": "execute_result"
    }
   ],
   "source": [
    "Industry_Man.head()"
   ]
  },
  {
   "cell_type": "code",
   "execution_count": 42,
   "id": "b4e55881-e7ac-4e92-a13f-7ecb9460e80c",
   "metadata": {},
   "outputs": [
    {
     "data": {
      "text/html": [
       "<div>\n",
       "<style scoped>\n",
       "    .dataframe tbody tr th:only-of-type {\n",
       "        vertical-align: middle;\n",
       "    }\n",
       "\n",
       "    .dataframe tbody tr th {\n",
       "        vertical-align: top;\n",
       "    }\n",
       "\n",
       "    .dataframe thead th {\n",
       "        text-align: right;\n",
       "    }\n",
       "</style>\n",
       "<table border=\"1\" class=\"dataframe\">\n",
       "  <thead>\n",
       "    <tr style=\"text-align: right;\">\n",
       "      <th></th>\n",
       "      <th>월별</th>\n",
       "      <th>업종명</th>\n",
       "      <th>20년 이용금액</th>\n",
       "      <th>20년 이용건수</th>\n",
       "      <th>19년 이용금액</th>\n",
       "      <th>19년 이용건수</th>\n",
       "      <th>이용금액 증감</th>\n",
       "      <th>이용건수 증감</th>\n",
       "      <th>이용금액 증감(%)</th>\n",
       "      <th>이용건수 증감(%)</th>\n",
       "    </tr>\n",
       "  </thead>\n",
       "  <tbody>\n",
       "    <tr>\n",
       "      <th>0</th>\n",
       "      <td>01</td>\n",
       "      <td>2급호텔</td>\n",
       "      <td>2.968500e+06</td>\n",
       "      <td>14.0</td>\n",
       "      <td>1.254000e+06</td>\n",
       "      <td>10.0</td>\n",
       "      <td>1.714500e+06</td>\n",
       "      <td>4.0</td>\n",
       "      <td>136.722488</td>\n",
       "      <td>40.000000</td>\n",
       "    </tr>\n",
       "    <tr>\n",
       "      <th>1</th>\n",
       "      <td>01</td>\n",
       "      <td>DVD음반테이프판매</td>\n",
       "      <td>2.113940e+07</td>\n",
       "      <td>327.0</td>\n",
       "      <td>3.689310e+07</td>\n",
       "      <td>578.0</td>\n",
       "      <td>-1.575370e+07</td>\n",
       "      <td>-251.0</td>\n",
       "      <td>-42.700939</td>\n",
       "      <td>-43.425606</td>\n",
       "    </tr>\n",
       "    <tr>\n",
       "      <th>2</th>\n",
       "      <td>01</td>\n",
       "      <td>PG상품권</td>\n",
       "      <td>5.729922e+09</td>\n",
       "      <td>51313.0</td>\n",
       "      <td>5.205636e+09</td>\n",
       "      <td>36021.0</td>\n",
       "      <td>5.242867e+08</td>\n",
       "      <td>15292.0</td>\n",
       "      <td>10.071521</td>\n",
       "      <td>42.453014</td>\n",
       "    </tr>\n",
       "    <tr>\n",
       "      <th>3</th>\n",
       "      <td>01</td>\n",
       "      <td>가례서비스</td>\n",
       "      <td>1.858815e+09</td>\n",
       "      <td>37011.0</td>\n",
       "      <td>5.542389e+08</td>\n",
       "      <td>4876.0</td>\n",
       "      <td>1.304576e+09</td>\n",
       "      <td>32135.0</td>\n",
       "      <td>235.381518</td>\n",
       "      <td>659.044299</td>\n",
       "    </tr>\n",
       "    <tr>\n",
       "      <th>4</th>\n",
       "      <td>01</td>\n",
       "      <td>가방</td>\n",
       "      <td>3.695948e+08</td>\n",
       "      <td>2052.0</td>\n",
       "      <td>2.046956e+08</td>\n",
       "      <td>2245.0</td>\n",
       "      <td>1.648992e+08</td>\n",
       "      <td>-193.0</td>\n",
       "      <td>80.558209</td>\n",
       "      <td>-8.596882</td>\n",
       "    </tr>\n",
       "  </tbody>\n",
       "</table>\n",
       "</div>"
      ],
      "text/plain": [
       "   월별         업종명      20년 이용금액  20년 이용건수      19년 이용금액  19년 이용건수  \\\n",
       "0  01        2급호텔  2.968500e+06      14.0  1.254000e+06      10.0   \n",
       "1  01  DVD음반테이프판매  2.113940e+07     327.0  3.689310e+07     578.0   \n",
       "2  01       PG상품권  5.729922e+09   51313.0  5.205636e+09   36021.0   \n",
       "3  01       가례서비스  1.858815e+09   37011.0  5.542389e+08    4876.0   \n",
       "4  01          가방  3.695948e+08    2052.0  2.046956e+08    2245.0   \n",
       "\n",
       "        이용금액 증감  이용건수 증감  이용금액 증감(%)  이용건수 증감(%)  \n",
       "0  1.714500e+06      4.0  136.722488   40.000000  \n",
       "1 -1.575370e+07   -251.0  -42.700939  -43.425606  \n",
       "2  5.242867e+08  15292.0   10.071521   42.453014  \n",
       "3  1.304576e+09  32135.0  235.381518  659.044299  \n",
       "4  1.648992e+08   -193.0   80.558209   -8.596882  "
      ]
     },
     "execution_count": 42,
     "metadata": {},
     "output_type": "execute_result"
    }
   ],
   "source": [
    "Industry_Woman.head()"
   ]
  },
  {
   "cell_type": "code",
   "execution_count": 43,
   "id": "7974a92f-01d2-4ffa-a4e0-c15f9c311cba",
   "metadata": {},
   "outputs": [],
   "source": [
    "df1 = Industry_Man[['업종명', '19년 이용금액', '19년 이용건수', '이용금액 증감', '이용건수 증감']].copy()\n",
    "df1 = df1.groupby('업종명', as_index = False).sum()\n",
    "df1['이용금액 증감(%)'] = np.where(df1['19년 이용금액'] > 0, (df1['이용금액 증감'] / df1['19년 이용금액']) * 100, 0)\n",
    "df1['이용건수 증감(%)'] = np.where(df1['19년 이용금액'] > 0, (df1['이용건수 증감'] / df1['19년 이용건수']) * 100, 0)\n",
    "df1 = df1.drop(['19년 이용금액', '19년 이용건수'], axis=1)\n",
    "df1 = df1.sort_values('이용금액 증감(%)', ascending=False)\n",
    "\n",
    "df2 = Industry_Woman[['업종명', '19년 이용금액', '19년 이용건수', '이용금액 증감', '이용건수 증감']].copy()\n",
    "df2 = df2.groupby('업종명', as_index = False).sum()\n",
    "df2['이용금액 증감(%)'] = np.where(df2['19년 이용금액'] > 0, (df2['이용금액 증감'] / df2['19년 이용금액']) * 100, 0)\n",
    "df2['이용건수 증감(%)'] = np.where(df2['19년 이용금액'] > 0, (df2['이용건수 증감'] / df2['19년 이용건수']) * 100, 0)\n",
    "df2 = df2.drop(['19년 이용금액', '19년 이용건수'], axis=1)\n",
    "df2 = df2.sort_values('이용금액 증감(%)', ascending=False)"
   ]
  },
  {
   "cell_type": "code",
   "execution_count": 44,
   "id": "6bab904f-ba11-41f6-b599-7bca582e4274",
   "metadata": {},
   "outputs": [
    {
     "data": {
      "text/html": [
       "<div>\n",
       "<style scoped>\n",
       "    .dataframe tbody tr th:only-of-type {\n",
       "        vertical-align: middle;\n",
       "    }\n",
       "\n",
       "    .dataframe tbody tr th {\n",
       "        vertical-align: top;\n",
       "    }\n",
       "\n",
       "    .dataframe thead th {\n",
       "        text-align: right;\n",
       "    }\n",
       "</style>\n",
       "<table border=\"1\" class=\"dataframe\">\n",
       "  <thead>\n",
       "    <tr style=\"text-align: right;\">\n",
       "      <th></th>\n",
       "      <th>업종명</th>\n",
       "      <th>이용금액 증감</th>\n",
       "      <th>이용건수 증감</th>\n",
       "      <th>이용금액 증감(%)</th>\n",
       "      <th>이용건수 증감(%)</th>\n",
       "    </tr>\n",
       "  </thead>\n",
       "  <tbody>\n",
       "    <tr>\n",
       "      <th>149</th>\n",
       "      <td>정기간행물</td>\n",
       "      <td>3.959900e+07</td>\n",
       "      <td>249.0</td>\n",
       "      <td>1381.681786</td>\n",
       "      <td>1310.526316</td>\n",
       "    </tr>\n",
       "    <tr>\n",
       "      <th>154</th>\n",
       "      <td>제약회사</td>\n",
       "      <td>8.759790e+08</td>\n",
       "      <td>388.0</td>\n",
       "      <td>522.928580</td>\n",
       "      <td>412.765957</td>\n",
       "    </tr>\n",
       "    <tr>\n",
       "      <th>0</th>\n",
       "      <td>2급호텔</td>\n",
       "      <td>1.057356e+08</td>\n",
       "      <td>30.0</td>\n",
       "      <td>307.357232</td>\n",
       "      <td>22.556391</td>\n",
       "    </tr>\n",
       "    <tr>\n",
       "      <th>180</th>\n",
       "      <td>컴퓨터학원</td>\n",
       "      <td>2.374270e+08</td>\n",
       "      <td>318.0</td>\n",
       "      <td>289.045648</td>\n",
       "      <td>131.404959</td>\n",
       "    </tr>\n",
       "    <tr>\n",
       "      <th>5</th>\n",
       "      <td>가방</td>\n",
       "      <td>1.024670e+09</td>\n",
       "      <td>-695.0</td>\n",
       "      <td>152.490490</td>\n",
       "      <td>-11.414025</td>\n",
       "    </tr>\n",
       "  </tbody>\n",
       "</table>\n",
       "</div>"
      ],
      "text/plain": [
       "       업종명       이용금액 증감  이용건수 증감   이용금액 증감(%)   이용건수 증감(%)\n",
       "149  정기간행물  3.959900e+07    249.0  1381.681786  1310.526316\n",
       "154   제약회사  8.759790e+08    388.0   522.928580   412.765957\n",
       "0     2급호텔  1.057356e+08     30.0   307.357232    22.556391\n",
       "180  컴퓨터학원  2.374270e+08    318.0   289.045648   131.404959\n",
       "5       가방  1.024670e+09   -695.0   152.490490   -11.414025"
      ]
     },
     "execution_count": 44,
     "metadata": {},
     "output_type": "execute_result"
    }
   ],
   "source": [
    "df1.head()"
   ]
  },
  {
   "cell_type": "markdown",
   "id": "a0c20569-4c44-4da9-986a-ef9a13685c2d",
   "metadata": {},
   "source": [
    "2019년도 상반기 -> 2020년도 상반기 / 남성이 이용하지 않는 업종"
   ]
  },
  {
   "cell_type": "code",
   "execution_count": 45,
   "id": "aa8b0986-a06f-42ff-99bf-c568f9bab75d",
   "metadata": {},
   "outputs": [
    {
     "data": {
      "text/plain": [
       "87       산후조리원\n",
       "54     농축협직영매장\n",
       "125        유치원\n",
       "Name: 업종명, dtype: object"
      ]
     },
     "execution_count": 45,
     "metadata": {},
     "output_type": "execute_result"
    }
   ],
   "source": [
    "Del1 = df1[df1['이용금액 증감(%)'] == -100]['업종명']\n",
    "Del1"
   ]
  },
  {
   "cell_type": "code",
   "execution_count": 46,
   "id": "33fcb8fa-8b89-4c48-badf-bf7312e01402",
   "metadata": {},
   "outputs": [
    {
     "data": {
      "text/html": [
       "<div>\n",
       "<style scoped>\n",
       "    .dataframe tbody tr th:only-of-type {\n",
       "        vertical-align: middle;\n",
       "    }\n",
       "\n",
       "    .dataframe tbody tr th {\n",
       "        vertical-align: top;\n",
       "    }\n",
       "\n",
       "    .dataframe thead th {\n",
       "        text-align: right;\n",
       "    }\n",
       "</style>\n",
       "<table border=\"1\" class=\"dataframe\">\n",
       "  <thead>\n",
       "    <tr style=\"text-align: right;\">\n",
       "      <th></th>\n",
       "      <th>업종명</th>\n",
       "      <th>이용금액 증감</th>\n",
       "      <th>이용건수 증감</th>\n",
       "      <th>이용금액 증감(%)</th>\n",
       "      <th>이용건수 증감(%)</th>\n",
       "    </tr>\n",
       "  </thead>\n",
       "  <tbody>\n",
       "    <tr>\n",
       "      <th>87</th>\n",
       "      <td>산후조리원</td>\n",
       "      <td>-7140000.0</td>\n",
       "      <td>-5.0</td>\n",
       "      <td>-100.0</td>\n",
       "      <td>-100.0</td>\n",
       "    </tr>\n",
       "    <tr>\n",
       "      <th>54</th>\n",
       "      <td>농축협직영매장</td>\n",
       "      <td>-95012210.0</td>\n",
       "      <td>-2502.0</td>\n",
       "      <td>-100.0</td>\n",
       "      <td>-100.0</td>\n",
       "    </tr>\n",
       "    <tr>\n",
       "      <th>125</th>\n",
       "      <td>유치원</td>\n",
       "      <td>-4318000.0</td>\n",
       "      <td>-18.0</td>\n",
       "      <td>-100.0</td>\n",
       "      <td>-100.0</td>\n",
       "    </tr>\n",
       "  </tbody>\n",
       "</table>\n",
       "</div>"
      ],
      "text/plain": [
       "         업종명     이용금액 증감  이용건수 증감  이용금액 증감(%)  이용건수 증감(%)\n",
       "87     산후조리원  -7140000.0     -5.0      -100.0      -100.0\n",
       "54   농축협직영매장 -95012210.0  -2502.0      -100.0      -100.0\n",
       "125      유치원  -4318000.0    -18.0      -100.0      -100.0"
      ]
     },
     "execution_count": 46,
     "metadata": {},
     "output_type": "execute_result"
    }
   ],
   "source": [
    "df1[df1['업종명'].isin(Del1)]"
   ]
  },
  {
   "cell_type": "markdown",
   "id": "7ad8e1e7-5c4f-41c4-aad9-d6576374efca",
   "metadata": {},
   "source": [
    "2019년도 상반기 -> 2020년도 상반기 / 여성이 이용하지 않는 업종"
   ]
  },
  {
   "cell_type": "code",
   "execution_count": 47,
   "id": "623dea90-89ce-4749-98dc-a06149a2ac33",
   "metadata": {},
   "outputs": [
    {
     "data": {
      "text/plain": [
       "124        유치원\n",
       "54     농축협직영매장\n",
       "Name: 업종명, dtype: object"
      ]
     },
     "execution_count": 47,
     "metadata": {},
     "output_type": "execute_result"
    }
   ],
   "source": [
    "Del2 = df2[df2['이용금액 증감(%)'] == -100]['업종명']\n",
    "Del2"
   ]
  },
  {
   "cell_type": "code",
   "execution_count": 48,
   "id": "a0358971-c8c9-443c-a54b-fc68ff91d71d",
   "metadata": {},
   "outputs": [
    {
     "data": {
      "text/html": [
       "<div>\n",
       "<style scoped>\n",
       "    .dataframe tbody tr th:only-of-type {\n",
       "        vertical-align: middle;\n",
       "    }\n",
       "\n",
       "    .dataframe tbody tr th {\n",
       "        vertical-align: top;\n",
       "    }\n",
       "\n",
       "    .dataframe thead th {\n",
       "        text-align: right;\n",
       "    }\n",
       "</style>\n",
       "<table border=\"1\" class=\"dataframe\">\n",
       "  <thead>\n",
       "    <tr style=\"text-align: right;\">\n",
       "      <th></th>\n",
       "      <th>업종명</th>\n",
       "      <th>이용금액 증감</th>\n",
       "      <th>이용건수 증감</th>\n",
       "      <th>이용금액 증감(%)</th>\n",
       "      <th>이용건수 증감(%)</th>\n",
       "    </tr>\n",
       "  </thead>\n",
       "  <tbody>\n",
       "    <tr>\n",
       "      <th>124</th>\n",
       "      <td>유치원</td>\n",
       "      <td>-5112500.0</td>\n",
       "      <td>-16.0</td>\n",
       "      <td>-100.0</td>\n",
       "      <td>-100.0</td>\n",
       "    </tr>\n",
       "    <tr>\n",
       "      <th>54</th>\n",
       "      <td>농축협직영매장</td>\n",
       "      <td>-129216970.0</td>\n",
       "      <td>-3523.0</td>\n",
       "      <td>-100.0</td>\n",
       "      <td>-100.0</td>\n",
       "    </tr>\n",
       "  </tbody>\n",
       "</table>\n",
       "</div>"
      ],
      "text/plain": [
       "         업종명      이용금액 증감  이용건수 증감  이용금액 증감(%)  이용건수 증감(%)\n",
       "124      유치원   -5112500.0    -16.0      -100.0      -100.0\n",
       "54   농축협직영매장 -129216970.0  -3523.0      -100.0      -100.0"
      ]
     },
     "execution_count": 48,
     "metadata": {},
     "output_type": "execute_result"
    }
   ],
   "source": [
    "df2[df2['업종명'].isin(Del2)]"
   ]
  },
  {
   "cell_type": "markdown",
   "id": "6a5698e6-2d14-4c32-b4a6-032b2041ac5e",
   "metadata": {},
   "source": [
    "여성과 남성 모두 2020년 들어서 사용하지 않은 업종 : 유치원 / 농축협직영매장"
   ]
  },
  {
   "cell_type": "markdown",
   "id": "675a9012-3436-432b-b7ec-e1b6669f5f04",
   "metadata": {},
   "source": [
    "유치원의 경우 COVID-19 여파로 인해 아이를 유치원에 보내지 않는 기조임을 확인할 수 있다.\\\n",
    "특히 농축협직영매장의 경우 매월 평균 1000건에 이르는 거래가 COVID-19 여파로 인해 영업이 아예 불가능한 상태가 확인된다."
   ]
  },
  {
   "cell_type": "code",
   "execution_count": 49,
   "id": "35d3025e-926e-4583-ac97-b7c225af0053",
   "metadata": {},
   "outputs": [],
   "source": [
    "Low1 = set(df1[(df1['이용금액 증감(%)'] < -50) & (df1['이용금액 증감(%)'] != -100)]['업종명'])\n",
    "Low2 = set(df2[(df2['이용금액 증감(%)'] < -50) & (df2['이용금액 증감(%)'] != -100)]['업종명'])"
   ]
  },
  {
   "cell_type": "code",
   "execution_count": 50,
   "id": "f156d9a9-aca7-4cf2-ac45-5cfe5a0b67a4",
   "metadata": {},
   "outputs": [
    {
     "name": "stdout",
     "output_type": "stream",
     "text": [
      "{'수영장', '면세점', '부동산분양', '고속버스', '유학원', '기념품점', '항공사', '건강식품(회원제형태)', '기타자동차서비스', '문화취미기타', '이용원', '부동산중개임대', '성인용품점', '공공요금', '렌트카', '관광여행', '영화관'}\n"
     ]
    }
   ],
   "source": [
    "print(Low1 & Low2)"
   ]
  },
  {
   "cell_type": "markdown",
   "id": "f467841d-be97-4483-9e95-421392f7bd3c",
   "metadata": {},
   "source": [
    "이용이 사라진 업종 제외, 50% 이상으로 이용금액이 크게 감소한 업종의 경우 여행과 취미 등 외부활동에 필요한 업종들의 매출이 크게 감소했다.\\\n",
    "역시 COVID-19의 영향으로 인해 감소된 것으로 판단된다."
   ]
  },
  {
   "cell_type": "markdown",
   "id": "941ae0e5-5372-471f-8696-74f659be8b01",
   "metadata": {},
   "source": [
    "남성만 이용금액이 50%이상 감소된 업종(아래)"
   ]
  },
  {
   "cell_type": "code",
   "execution_count": 51,
   "id": "fb67665a-7fca-4d43-9cee-f039d53e81ec",
   "metadata": {},
   "outputs": [
    {
     "data": {
      "text/html": [
       "<div>\n",
       "<style scoped>\n",
       "    .dataframe tbody tr th:only-of-type {\n",
       "        vertical-align: middle;\n",
       "    }\n",
       "\n",
       "    .dataframe tbody tr th {\n",
       "        vertical-align: top;\n",
       "    }\n",
       "\n",
       "    .dataframe thead th {\n",
       "        text-align: right;\n",
       "    }\n",
       "</style>\n",
       "<table border=\"1\" class=\"dataframe\">\n",
       "  <thead>\n",
       "    <tr style=\"text-align: right;\">\n",
       "      <th></th>\n",
       "      <th>업종명</th>\n",
       "      <th>이용금액 증감</th>\n",
       "      <th>이용건수 증감</th>\n",
       "      <th>이용금액 증감(%)</th>\n",
       "      <th>이용건수 증감(%)</th>\n",
       "    </tr>\n",
       "  </thead>\n",
       "  <tbody>\n",
       "    <tr>\n",
       "      <th>37</th>\n",
       "      <td>기타용역서비스</td>\n",
       "      <td>-93798784.0</td>\n",
       "      <td>-2712.0</td>\n",
       "      <td>-52.538434</td>\n",
       "      <td>-55.963681</td>\n",
       "    </tr>\n",
       "  </tbody>\n",
       "</table>\n",
       "</div>"
      ],
      "text/plain": [
       "        업종명     이용금액 증감  이용건수 증감  이용금액 증감(%)  이용건수 증감(%)\n",
       "37  기타용역서비스 -93798784.0  -2712.0  -52.538434  -55.963681"
      ]
     },
     "execution_count": 51,
     "metadata": {},
     "output_type": "execute_result"
    }
   ],
   "source": [
    "df1[df1['업종명'].isin(Low1 - Low2)]"
   ]
  },
  {
   "cell_type": "markdown",
   "id": "c58a021e-de00-426b-ba8f-9d752f99be5f",
   "metadata": {},
   "source": [
    "여성만 이용금액이 50%이상 감소된 업종(아래)"
   ]
  },
  {
   "cell_type": "code",
   "execution_count": 52,
   "id": "3aae8d80-30c8-424a-80f6-26183275a3fe",
   "metadata": {},
   "outputs": [
    {
     "data": {
      "text/html": [
       "<div>\n",
       "<style scoped>\n",
       "    .dataframe tbody tr th:only-of-type {\n",
       "        vertical-align: middle;\n",
       "    }\n",
       "\n",
       "    .dataframe tbody tr th {\n",
       "        vertical-align: top;\n",
       "    }\n",
       "\n",
       "    .dataframe thead th {\n",
       "        text-align: right;\n",
       "    }\n",
       "</style>\n",
       "<table border=\"1\" class=\"dataframe\">\n",
       "  <thead>\n",
       "    <tr style=\"text-align: right;\">\n",
       "      <th></th>\n",
       "      <th>업종명</th>\n",
       "      <th>이용금액 증감</th>\n",
       "      <th>이용건수 증감</th>\n",
       "      <th>이용금액 증감(%)</th>\n",
       "      <th>이용건수 증감(%)</th>\n",
       "    </tr>\n",
       "  </thead>\n",
       "  <tbody>\n",
       "    <tr>\n",
       "      <th>72</th>\n",
       "      <td>민예공예품</td>\n",
       "      <td>-3.223227e+08</td>\n",
       "      <td>-11122.0</td>\n",
       "      <td>-52.402311</td>\n",
       "      <td>-67.194297</td>\n",
       "    </tr>\n",
       "    <tr>\n",
       "      <th>113</th>\n",
       "      <td>양품점</td>\n",
       "      <td>-5.268520e+07</td>\n",
       "      <td>-256.0</td>\n",
       "      <td>-57.503474</td>\n",
       "      <td>-35.704324</td>\n",
       "    </tr>\n",
       "    <tr>\n",
       "      <th>62</th>\n",
       "      <td>레져업소(회원제형태)</td>\n",
       "      <td>-1.652085e+09</td>\n",
       "      <td>-6810.0</td>\n",
       "      <td>-58.923020</td>\n",
       "      <td>-54.549824</td>\n",
       "    </tr>\n",
       "    <tr>\n",
       "      <th>117</th>\n",
       "      <td>와이셔츠타이</td>\n",
       "      <td>-1.495974e+07</td>\n",
       "      <td>-120.0</td>\n",
       "      <td>-62.561900</td>\n",
       "      <td>-46.875000</td>\n",
       "    </tr>\n",
       "    <tr>\n",
       "      <th>48</th>\n",
       "      <td>기타회원제형태업소</td>\n",
       "      <td>-6.613598e+09</td>\n",
       "      <td>-143659.0</td>\n",
       "      <td>-62.952246</td>\n",
       "      <td>-83.646198</td>\n",
       "    </tr>\n",
       "    <tr>\n",
       "      <th>187</th>\n",
       "      <td>페인트</td>\n",
       "      <td>-3.195854e+07</td>\n",
       "      <td>-278.0</td>\n",
       "      <td>-63.441879</td>\n",
       "      <td>-48.771930</td>\n",
       "    </tr>\n",
       "    <tr>\n",
       "      <th>127</th>\n",
       "      <td>윤활유전문판매</td>\n",
       "      <td>-3.322000e+04</td>\n",
       "      <td>0.0</td>\n",
       "      <td>-69.425287</td>\n",
       "      <td>0.000000</td>\n",
       "    </tr>\n",
       "    <tr>\n",
       "      <th>50</th>\n",
       "      <td>냉열기기</td>\n",
       "      <td>-5.370960e+06</td>\n",
       "      <td>-8.0</td>\n",
       "      <td>-70.671828</td>\n",
       "      <td>-38.095238</td>\n",
       "    </tr>\n",
       "    <tr>\n",
       "      <th>137</th>\n",
       "      <td>인테리어</td>\n",
       "      <td>-4.041392e+07</td>\n",
       "      <td>-546.0</td>\n",
       "      <td>-71.515607</td>\n",
       "      <td>-58.836207</td>\n",
       "    </tr>\n",
       "    <tr>\n",
       "      <th>1</th>\n",
       "      <td>DVD음반테이프판매</td>\n",
       "      <td>-2.498022e+08</td>\n",
       "      <td>-2321.0</td>\n",
       "      <td>-78.267292</td>\n",
       "      <td>-64.705882</td>\n",
       "    </tr>\n",
       "  </tbody>\n",
       "</table>\n",
       "</div>"
      ],
      "text/plain": [
       "             업종명       이용금액 증감   이용건수 증감  이용금액 증감(%)  이용건수 증감(%)\n",
       "72         민예공예품 -3.223227e+08  -11122.0  -52.402311  -67.194297\n",
       "113          양품점 -5.268520e+07    -256.0  -57.503474  -35.704324\n",
       "62   레져업소(회원제형태) -1.652085e+09   -6810.0  -58.923020  -54.549824\n",
       "117       와이셔츠타이 -1.495974e+07    -120.0  -62.561900  -46.875000\n",
       "48     기타회원제형태업소 -6.613598e+09 -143659.0  -62.952246  -83.646198\n",
       "187          페인트 -3.195854e+07    -278.0  -63.441879  -48.771930\n",
       "127      윤활유전문판매 -3.322000e+04       0.0  -69.425287    0.000000\n",
       "50          냉열기기 -5.370960e+06      -8.0  -70.671828  -38.095238\n",
       "137         인테리어 -4.041392e+07    -546.0  -71.515607  -58.836207\n",
       "1     DVD음반테이프판매 -2.498022e+08   -2321.0  -78.267292  -64.705882"
      ]
     },
     "execution_count": 52,
     "metadata": {},
     "output_type": "execute_result"
    }
   ],
   "source": [
    "df2[df2['업종명'].isin(Low2 - Low1)]"
   ]
  },
  {
   "cell_type": "code",
   "execution_count": 53,
   "id": "ae4c6f4e-dea8-417d-8a36-4057f9b30af7",
   "metadata": {},
   "outputs": [],
   "source": [
    "High1 = set(df1[(df1['이용금액 증감(%)'] > 10) & (df1['이용건수 증감(%)'] > 10)]['업종명'])\n",
    "High2 = set(df2[(df2['이용금액 증감(%)'] > 10) & (df2['이용건수 증감(%)'] > 10)]['업종명'])"
   ]
  },
  {
   "cell_type": "code",
   "execution_count": 54,
   "id": "d048d101-23da-41ee-8df1-3ac6e7d4f11e",
   "metadata": {},
   "outputs": [
    {
     "name": "stdout",
     "output_type": "stream",
     "text": [
      "남성 : {'제약회사', '중장비수리', '농축수산품', '손해보험', '골프경기장', '인터넷PG', '약국', '기타서적문구', '2급호텔', '화물운송', '미곡상', '컴퓨터학원', 'PG상품권', '정수기', '비료농약사료종자', '가례서비스', '주류판매점', '정기간행물', '단체복', '카인테리어', '병원', '수족관', '정육점', '일반백화점'}\n",
      "\n",
      "여성 : {'제약회사', '농축수산품', '손해보험', '골프경기장', '인터넷PG', '유류판매', '약국', '가전제품', '기타서적문구', '2급호텔', '화물운송', '미곡상', '컴퓨터학원', '가례서비스', '주류판매점', '정기간행물', '단체복', '골동품점', '병원', '정육점', '일반백화점'}\n"
     ]
    }
   ],
   "source": [
    "print(\"남성 :\", High1)\n",
    "print()\n",
    "print(\"여성 :\", High2)"
   ]
  },
  {
   "cell_type": "markdown",
   "id": "a248549b-c507-4d28-aa05-f191ebd93819",
   "metadata": {},
   "source": [
    "COVID-19에도 불구하고 이용금액과 이용건수가 10%이상 크게 증가한 업종들이 존재한다."
   ]
  },
  {
   "cell_type": "code",
   "execution_count": 55,
   "id": "7762190e-23b7-479e-baf4-fa90344814dc",
   "metadata": {},
   "outputs": [
    {
     "name": "stdout",
     "output_type": "stream",
     "text": [
      "{'약국', '제약회사', '기타서적문구', '가례서비스', '2급호텔', '병원', '일반백화점', '정육점', '화물운송', '주류판매점', '정기간행물', '농축수산품', '손해보험', '미곡상', '골프경기장', '단체복', '인터넷PG', '컴퓨터학원'}\n"
     ]
    }
   ],
   "source": [
    "print(High1 & High2)"
   ]
  },
  {
   "cell_type": "markdown",
   "id": "edf9d178-ac1b-4016-a2b0-011279bfaefb",
   "metadata": {},
   "source": [
    "병원, 손해보험, 제약회사, 약국, 인터넷PG, 정기간행물 등의 업종의 이용이 COVID-19의 영향으로 증가했다고 판단된다."
   ]
  },
  {
   "cell_type": "code",
   "execution_count": 56,
   "id": "350d5bc2-4287-49bb-b6da-9793e8344e11",
   "metadata": {},
   "outputs": [],
   "source": [
    "High_List_1 = set(['병원', '손해보험', '제약회사', '약국', '인터넷PG', '정기간행물'])"
   ]
  },
  {
   "cell_type": "markdown",
   "id": "f9913978-801c-4817-ace3-681b724e1fbe",
   "metadata": {},
   "source": [
    "남성"
   ]
  },
  {
   "cell_type": "code",
   "execution_count": 57,
   "id": "5d1f4f98-8a69-40ec-b97c-dce44c0b2c94",
   "metadata": {},
   "outputs": [
    {
     "data": {
      "text/html": [
       "<div>\n",
       "<style scoped>\n",
       "    .dataframe tbody tr th:only-of-type {\n",
       "        vertical-align: middle;\n",
       "    }\n",
       "\n",
       "    .dataframe tbody tr th {\n",
       "        vertical-align: top;\n",
       "    }\n",
       "\n",
       "    .dataframe thead th {\n",
       "        text-align: right;\n",
       "    }\n",
       "</style>\n",
       "<table border=\"1\" class=\"dataframe\">\n",
       "  <thead>\n",
       "    <tr style=\"text-align: right;\">\n",
       "      <th></th>\n",
       "      <th>업종명</th>\n",
       "      <th>이용금액 증감</th>\n",
       "      <th>이용건수 증감</th>\n",
       "      <th>이용금액 증감(%)</th>\n",
       "      <th>이용건수 증감(%)</th>\n",
       "    </tr>\n",
       "  </thead>\n",
       "  <tbody>\n",
       "    <tr>\n",
       "      <th>149</th>\n",
       "      <td>정기간행물</td>\n",
       "      <td>3.959900e+07</td>\n",
       "      <td>249.0</td>\n",
       "      <td>1381.681786</td>\n",
       "      <td>1310.526316</td>\n",
       "    </tr>\n",
       "    <tr>\n",
       "      <th>154</th>\n",
       "      <td>제약회사</td>\n",
       "      <td>8.759790e+08</td>\n",
       "      <td>388.0</td>\n",
       "      <td>522.928580</td>\n",
       "      <td>412.765957</td>\n",
       "    </tr>\n",
       "    <tr>\n",
       "      <th>74</th>\n",
       "      <td>병원</td>\n",
       "      <td>7.226531e+08</td>\n",
       "      <td>5200.0</td>\n",
       "      <td>46.628983</td>\n",
       "      <td>61.801759</td>\n",
       "    </tr>\n",
       "    <tr>\n",
       "      <th>136</th>\n",
       "      <td>인터넷PG</td>\n",
       "      <td>5.525329e+11</td>\n",
       "      <td>17741766.0</td>\n",
       "      <td>20.378023</td>\n",
       "      <td>30.786315</td>\n",
       "    </tr>\n",
       "    <tr>\n",
       "      <th>96</th>\n",
       "      <td>손해보험</td>\n",
       "      <td>5.676579e+10</td>\n",
       "      <td>620821.0</td>\n",
       "      <td>13.148656</td>\n",
       "      <td>25.012742</td>\n",
       "    </tr>\n",
       "    <tr>\n",
       "      <th>113</th>\n",
       "      <td>약국</td>\n",
       "      <td>8.091223e+09</td>\n",
       "      <td>802425.0</td>\n",
       "      <td>12.534346</td>\n",
       "      <td>26.659054</td>\n",
       "    </tr>\n",
       "  </tbody>\n",
       "</table>\n",
       "</div>"
      ],
      "text/plain": [
       "       업종명       이용금액 증감     이용건수 증감   이용금액 증감(%)   이용건수 증감(%)\n",
       "149  정기간행물  3.959900e+07       249.0  1381.681786  1310.526316\n",
       "154   제약회사  8.759790e+08       388.0   522.928580   412.765957\n",
       "74      병원  7.226531e+08      5200.0    46.628983    61.801759\n",
       "136  인터넷PG  5.525329e+11  17741766.0    20.378023    30.786315\n",
       "96    손해보험  5.676579e+10    620821.0    13.148656    25.012742\n",
       "113     약국  8.091223e+09    802425.0    12.534346    26.659054"
      ]
     },
     "execution_count": 57,
     "metadata": {},
     "output_type": "execute_result"
    }
   ],
   "source": [
    "df1[df1['업종명'].isin(High_List_1)]"
   ]
  },
  {
   "cell_type": "markdown",
   "id": "7dc713a9-b46a-4a31-9f89-1d181255bffe",
   "metadata": {},
   "source": [
    "여성"
   ]
  },
  {
   "cell_type": "code",
   "execution_count": 58,
   "id": "2a8410d4-ead1-4d0d-b99c-908c31c00590",
   "metadata": {},
   "outputs": [
    {
     "data": {
      "text/html": [
       "<div>\n",
       "<style scoped>\n",
       "    .dataframe tbody tr th:only-of-type {\n",
       "        vertical-align: middle;\n",
       "    }\n",
       "\n",
       "    .dataframe tbody tr th {\n",
       "        vertical-align: top;\n",
       "    }\n",
       "\n",
       "    .dataframe thead th {\n",
       "        text-align: right;\n",
       "    }\n",
       "</style>\n",
       "<table border=\"1\" class=\"dataframe\">\n",
       "  <thead>\n",
       "    <tr style=\"text-align: right;\">\n",
       "      <th></th>\n",
       "      <th>업종명</th>\n",
       "      <th>이용금액 증감</th>\n",
       "      <th>이용건수 증감</th>\n",
       "      <th>이용금액 증감(%)</th>\n",
       "      <th>이용건수 증감(%)</th>\n",
       "    </tr>\n",
       "  </thead>\n",
       "  <tbody>\n",
       "    <tr>\n",
       "      <th>148</th>\n",
       "      <td>정기간행물</td>\n",
       "      <td>1.072250e+07</td>\n",
       "      <td>133.0</td>\n",
       "      <td>407.699620</td>\n",
       "      <td>458.620690</td>\n",
       "    </tr>\n",
       "    <tr>\n",
       "      <th>153</th>\n",
       "      <td>제약회사</td>\n",
       "      <td>1.449470e+08</td>\n",
       "      <td>154.0</td>\n",
       "      <td>290.084301</td>\n",
       "      <td>531.034483</td>\n",
       "    </tr>\n",
       "    <tr>\n",
       "      <th>74</th>\n",
       "      <td>병원</td>\n",
       "      <td>9.752507e+08</td>\n",
       "      <td>6664.0</td>\n",
       "      <td>53.736627</td>\n",
       "      <td>48.454883</td>\n",
       "    </tr>\n",
       "    <tr>\n",
       "      <th>135</th>\n",
       "      <td>인터넷PG</td>\n",
       "      <td>5.812372e+11</td>\n",
       "      <td>20799080.0</td>\n",
       "      <td>17.355988</td>\n",
       "      <td>30.184230</td>\n",
       "    </tr>\n",
       "    <tr>\n",
       "      <th>95</th>\n",
       "      <td>손해보험</td>\n",
       "      <td>4.375809e+10</td>\n",
       "      <td>717280.0</td>\n",
       "      <td>16.233305</td>\n",
       "      <td>29.428840</td>\n",
       "    </tr>\n",
       "    <tr>\n",
       "      <th>112</th>\n",
       "      <td>약국</td>\n",
       "      <td>7.530405e+09</td>\n",
       "      <td>665084.0</td>\n",
       "      <td>12.342788</td>\n",
       "      <td>18.995111</td>\n",
       "    </tr>\n",
       "  </tbody>\n",
       "</table>\n",
       "</div>"
      ],
      "text/plain": [
       "       업종명       이용금액 증감     이용건수 증감  이용금액 증감(%)  이용건수 증감(%)\n",
       "148  정기간행물  1.072250e+07       133.0  407.699620  458.620690\n",
       "153   제약회사  1.449470e+08       154.0  290.084301  531.034483\n",
       "74      병원  9.752507e+08      6664.0   53.736627   48.454883\n",
       "135  인터넷PG  5.812372e+11  20799080.0   17.355988   30.184230\n",
       "95    손해보험  4.375809e+10    717280.0   16.233305   29.428840\n",
       "112     약국  7.530405e+09    665084.0   12.342788   18.995111"
      ]
     },
     "execution_count": 58,
     "metadata": {},
     "output_type": "execute_result"
    }
   ],
   "source": [
    "df2[df2['업종명'].isin(High_List_1)]"
   ]
  },
  {
   "cell_type": "markdown",
   "id": "ab27818d-ffe8-49b2-abe8-6b6a706b1ad4",
   "metadata": {},
   "source": [
    "증감% 로 확인한 결과 정기간행물과 제약회사가 크게 증가했다.\\\n",
    "그러나 건수와 금액으로 확인한 결과, 남녀 모두 인터넷결제, 손해보험, 약국의 이용이 매우 크게 증가한 것을 확인했다."
   ]
  },
  {
   "cell_type": "markdown",
   "id": "ca4bb47e-2e27-49dd-ba0a-eb089c07b6a6",
   "metadata": {},
   "source": [
    "골프경기장, 컴퓨터학원, 일반백화점, 주류판매점, 2급호텔 등 외부활동으로 인한 업종의 이용 역시 증가했다."
   ]
  },
  {
   "cell_type": "code",
   "execution_count": 59,
   "id": "3fcf706e-3d94-45cc-9576-984735a1ebb8",
   "metadata": {},
   "outputs": [],
   "source": [
    "High_List_2 = set(['골프경기장', '컴퓨터학원', '일반백화점', '주류판매점', '2급호텔'])"
   ]
  },
  {
   "cell_type": "markdown",
   "id": "12efe013-11f6-43e1-9afc-4f6e203eaef8",
   "metadata": {},
   "source": [
    "남성"
   ]
  },
  {
   "cell_type": "code",
   "execution_count": 60,
   "id": "c275e671-bf0a-40f1-94d4-8e728aa4f002",
   "metadata": {},
   "outputs": [
    {
     "data": {
      "text/html": [
       "<div>\n",
       "<style scoped>\n",
       "    .dataframe tbody tr th:only-of-type {\n",
       "        vertical-align: middle;\n",
       "    }\n",
       "\n",
       "    .dataframe tbody tr th {\n",
       "        vertical-align: top;\n",
       "    }\n",
       "\n",
       "    .dataframe thead th {\n",
       "        text-align: right;\n",
       "    }\n",
       "</style>\n",
       "<table border=\"1\" class=\"dataframe\">\n",
       "  <thead>\n",
       "    <tr style=\"text-align: right;\">\n",
       "      <th></th>\n",
       "      <th>업종명</th>\n",
       "      <th>이용금액 증감</th>\n",
       "      <th>이용건수 증감</th>\n",
       "      <th>이용금액 증감(%)</th>\n",
       "      <th>이용건수 증감(%)</th>\n",
       "    </tr>\n",
       "  </thead>\n",
       "  <tbody>\n",
       "    <tr>\n",
       "      <th>0</th>\n",
       "      <td>2급호텔</td>\n",
       "      <td>1.057356e+08</td>\n",
       "      <td>30.0</td>\n",
       "      <td>307.357232</td>\n",
       "      <td>22.556391</td>\n",
       "    </tr>\n",
       "    <tr>\n",
       "      <th>180</th>\n",
       "      <td>컴퓨터학원</td>\n",
       "      <td>2.374270e+08</td>\n",
       "      <td>318.0</td>\n",
       "      <td>289.045648</td>\n",
       "      <td>131.404959</td>\n",
       "    </tr>\n",
       "    <tr>\n",
       "      <th>13</th>\n",
       "      <td>골프경기장</td>\n",
       "      <td>8.602831e+07</td>\n",
       "      <td>558.0</td>\n",
       "      <td>145.689262</td>\n",
       "      <td>180.582524</td>\n",
       "    </tr>\n",
       "    <tr>\n",
       "      <th>160</th>\n",
       "      <td>주류판매점</td>\n",
       "      <td>8.409028e+07</td>\n",
       "      <td>1192.0</td>\n",
       "      <td>97.834629</td>\n",
       "      <td>189.808917</td>\n",
       "    </tr>\n",
       "    <tr>\n",
       "      <th>140</th>\n",
       "      <td>일반백화점</td>\n",
       "      <td>3.508534e+10</td>\n",
       "      <td>216417.0</td>\n",
       "      <td>80.429745</td>\n",
       "      <td>35.005621</td>\n",
       "    </tr>\n",
       "  </tbody>\n",
       "</table>\n",
       "</div>"
      ],
      "text/plain": [
       "       업종명       이용금액 증감   이용건수 증감  이용금액 증감(%)  이용건수 증감(%)\n",
       "0     2급호텔  1.057356e+08      30.0  307.357232   22.556391\n",
       "180  컴퓨터학원  2.374270e+08     318.0  289.045648  131.404959\n",
       "13   골프경기장  8.602831e+07     558.0  145.689262  180.582524\n",
       "160  주류판매점  8.409028e+07    1192.0   97.834629  189.808917\n",
       "140  일반백화점  3.508534e+10  216417.0   80.429745   35.005621"
      ]
     },
     "execution_count": 60,
     "metadata": {},
     "output_type": "execute_result"
    }
   ],
   "source": [
    "df1[df1['업종명'].isin(High_List_2)]"
   ]
  },
  {
   "cell_type": "markdown",
   "id": "1e8d3af7-f7e4-4d76-bfdd-3b20195bd8c5",
   "metadata": {},
   "source": [
    "여성"
   ]
  },
  {
   "cell_type": "code",
   "execution_count": 61,
   "id": "5efcd806-ae52-4d95-bc79-4768eceab20b",
   "metadata": {},
   "outputs": [
    {
     "data": {
      "text/html": [
       "<div>\n",
       "<style scoped>\n",
       "    .dataframe tbody tr th:only-of-type {\n",
       "        vertical-align: middle;\n",
       "    }\n",
       "\n",
       "    .dataframe tbody tr th {\n",
       "        vertical-align: top;\n",
       "    }\n",
       "\n",
       "    .dataframe thead th {\n",
       "        text-align: right;\n",
       "    }\n",
       "</style>\n",
       "<table border=\"1\" class=\"dataframe\">\n",
       "  <thead>\n",
       "    <tr style=\"text-align: right;\">\n",
       "      <th></th>\n",
       "      <th>업종명</th>\n",
       "      <th>이용금액 증감</th>\n",
       "      <th>이용건수 증감</th>\n",
       "      <th>이용금액 증감(%)</th>\n",
       "      <th>이용건수 증감(%)</th>\n",
       "    </tr>\n",
       "  </thead>\n",
       "  <tbody>\n",
       "    <tr>\n",
       "      <th>13</th>\n",
       "      <td>골프경기장</td>\n",
       "      <td>6.246499e+07</td>\n",
       "      <td>276.0</td>\n",
       "      <td>329.771482</td>\n",
       "      <td>405.882353</td>\n",
       "    </tr>\n",
       "    <tr>\n",
       "      <th>179</th>\n",
       "      <td>컴퓨터학원</td>\n",
       "      <td>2.738999e+08</td>\n",
       "      <td>466.0</td>\n",
       "      <td>252.797241</td>\n",
       "      <td>144.720497</td>\n",
       "    </tr>\n",
       "    <tr>\n",
       "      <th>0</th>\n",
       "      <td>2급호텔</td>\n",
       "      <td>3.818836e+07</td>\n",
       "      <td>21.0</td>\n",
       "      <td>202.524344</td>\n",
       "      <td>36.842105</td>\n",
       "    </tr>\n",
       "    <tr>\n",
       "      <th>159</th>\n",
       "      <td>주류판매점</td>\n",
       "      <td>4.434049e+07</td>\n",
       "      <td>714.0</td>\n",
       "      <td>126.796522</td>\n",
       "      <td>150.000000</td>\n",
       "    </tr>\n",
       "    <tr>\n",
       "      <th>139</th>\n",
       "      <td>일반백화점</td>\n",
       "      <td>4.380197e+10</td>\n",
       "      <td>376387.0</td>\n",
       "      <td>72.627099</td>\n",
       "      <td>34.993571</td>\n",
       "    </tr>\n",
       "  </tbody>\n",
       "</table>\n",
       "</div>"
      ],
      "text/plain": [
       "       업종명       이용금액 증감   이용건수 증감  이용금액 증감(%)  이용건수 증감(%)\n",
       "13   골프경기장  6.246499e+07     276.0  329.771482  405.882353\n",
       "179  컴퓨터학원  2.738999e+08     466.0  252.797241  144.720497\n",
       "0     2급호텔  3.818836e+07      21.0  202.524344   36.842105\n",
       "159  주류판매점  4.434049e+07     714.0  126.796522  150.000000\n",
       "139  일반백화점  4.380197e+10  376387.0   72.627099   34.993571"
      ]
     },
     "execution_count": 61,
     "metadata": {},
     "output_type": "execute_result"
    }
   ],
   "source": [
    "df2[df2['업종명'].isin(High_List_2)]"
   ]
  },
  {
   "cell_type": "markdown",
   "id": "2140a02a-0915-425f-a823-36768a2a5320",
   "metadata": {},
   "source": [
    "남녀 모두 골프경기장과 주류판매점의 이용이 크게 늘었으며, 특히 일반백화점의 이용이 매우 크게 늘었다."
   ]
  },
  {
   "cell_type": "markdown",
   "id": "f044a454-6527-4cd4-a8eb-0bec2ad3b2f5",
   "metadata": {},
   "source": [
    "남성만 이용이 10%이상 증가된 업종(아래)"
   ]
  },
  {
   "cell_type": "code",
   "execution_count": 62,
   "id": "93335096-2fd4-4f38-b709-5646ad33ba54",
   "metadata": {},
   "outputs": [
    {
     "data": {
      "text/html": [
       "<div>\n",
       "<style scoped>\n",
       "    .dataframe tbody tr th:only-of-type {\n",
       "        vertical-align: middle;\n",
       "    }\n",
       "\n",
       "    .dataframe tbody tr th {\n",
       "        vertical-align: top;\n",
       "    }\n",
       "\n",
       "    .dataframe thead th {\n",
       "        text-align: right;\n",
       "    }\n",
       "</style>\n",
       "<table border=\"1\" class=\"dataframe\">\n",
       "  <thead>\n",
       "    <tr style=\"text-align: right;\">\n",
       "      <th></th>\n",
       "      <th>업종명</th>\n",
       "      <th>이용금액 증감</th>\n",
       "      <th>이용건수 증감</th>\n",
       "      <th>이용금액 증감(%)</th>\n",
       "      <th>이용건수 증감(%)</th>\n",
       "    </tr>\n",
       "  </thead>\n",
       "  <tbody>\n",
       "    <tr>\n",
       "      <th>168</th>\n",
       "      <td>중장비수리</td>\n",
       "      <td>6.673458e+06</td>\n",
       "      <td>12.0</td>\n",
       "      <td>96.882466</td>\n",
       "      <td>120.000000</td>\n",
       "    </tr>\n",
       "    <tr>\n",
       "      <th>176</th>\n",
       "      <td>카인테리어</td>\n",
       "      <td>2.339899e+07</td>\n",
       "      <td>77.0</td>\n",
       "      <td>61.125090</td>\n",
       "      <td>17.948718</td>\n",
       "    </tr>\n",
       "    <tr>\n",
       "      <th>3</th>\n",
       "      <td>PG상품권</td>\n",
       "      <td>2.055029e+10</td>\n",
       "      <td>181900.0</td>\n",
       "      <td>44.996678</td>\n",
       "      <td>73.933773</td>\n",
       "    </tr>\n",
       "    <tr>\n",
       "      <th>99</th>\n",
       "      <td>수족관</td>\n",
       "      <td>1.660807e+07</td>\n",
       "      <td>420.0</td>\n",
       "      <td>22.574036</td>\n",
       "      <td>23.917995</td>\n",
       "    </tr>\n",
       "    <tr>\n",
       "      <th>150</th>\n",
       "      <td>정수기</td>\n",
       "      <td>5.569662e+06</td>\n",
       "      <td>35.0</td>\n",
       "      <td>16.691620</td>\n",
       "      <td>18.421053</td>\n",
       "    </tr>\n",
       "    <tr>\n",
       "      <th>81</th>\n",
       "      <td>비료농약사료종자</td>\n",
       "      <td>4.812600e+06</td>\n",
       "      <td>250.0</td>\n",
       "      <td>12.873112</td>\n",
       "      <td>17.301038</td>\n",
       "    </tr>\n",
       "  </tbody>\n",
       "</table>\n",
       "</div>"
      ],
      "text/plain": [
       "          업종명       이용금액 증감   이용건수 증감  이용금액 증감(%)  이용건수 증감(%)\n",
       "168     중장비수리  6.673458e+06      12.0   96.882466  120.000000\n",
       "176     카인테리어  2.339899e+07      77.0   61.125090   17.948718\n",
       "3       PG상품권  2.055029e+10  181900.0   44.996678   73.933773\n",
       "99        수족관  1.660807e+07     420.0   22.574036   23.917995\n",
       "150       정수기  5.569662e+06      35.0   16.691620   18.421053\n",
       "81   비료농약사료종자  4.812600e+06     250.0   12.873112   17.301038"
      ]
     },
     "execution_count": 62,
     "metadata": {},
     "output_type": "execute_result"
    }
   ],
   "source": [
    "df1[df1['업종명'].isin(High1 - High2)]"
   ]
  },
  {
   "cell_type": "markdown",
   "id": "02bd47f2-33f4-4e1a-a4e2-c8301fd8ddb1",
   "metadata": {},
   "source": [
    "특히 PG상품권의 이용이 크게 증가했다.\\\n",
    "외부활동에 제약이 생기니 인터넷결제의 이용이 매우 크게 증가한 것을 볼 수 있다."
   ]
  },
  {
   "cell_type": "markdown",
   "id": "9e5cc7d8-213c-4b57-afd6-c6943b9a98fc",
   "metadata": {},
   "source": [
    "여성만 이용이 10%이상 증가된 업종(아래)"
   ]
  },
  {
   "cell_type": "code",
   "execution_count": 63,
   "id": "52590001-9e09-4b1e-9a23-bd0c2c7b8576",
   "metadata": {},
   "outputs": [
    {
     "data": {
      "text/html": [
       "<div>\n",
       "<style scoped>\n",
       "    .dataframe tbody tr th:only-of-type {\n",
       "        vertical-align: middle;\n",
       "    }\n",
       "\n",
       "    .dataframe tbody tr th {\n",
       "        vertical-align: top;\n",
       "    }\n",
       "\n",
       "    .dataframe thead th {\n",
       "        text-align: right;\n",
       "    }\n",
       "</style>\n",
       "<table border=\"1\" class=\"dataframe\">\n",
       "  <thead>\n",
       "    <tr style=\"text-align: right;\">\n",
       "      <th></th>\n",
       "      <th>업종명</th>\n",
       "      <th>이용금액 증감</th>\n",
       "      <th>이용건수 증감</th>\n",
       "      <th>이용금액 증감(%)</th>\n",
       "      <th>이용건수 증감(%)</th>\n",
       "    </tr>\n",
       "  </thead>\n",
       "  <tbody>\n",
       "    <tr>\n",
       "      <th>12</th>\n",
       "      <td>골동품점</td>\n",
       "      <td>8.411000e+06</td>\n",
       "      <td>8.0</td>\n",
       "      <td>73.458515</td>\n",
       "      <td>36.363636</td>\n",
       "    </tr>\n",
       "    <tr>\n",
       "      <th>121</th>\n",
       "      <td>유류판매</td>\n",
       "      <td>4.843600e+06</td>\n",
       "      <td>22.0</td>\n",
       "      <td>20.866074</td>\n",
       "      <td>10.837438</td>\n",
       "    </tr>\n",
       "    <tr>\n",
       "      <th>6</th>\n",
       "      <td>가전제품</td>\n",
       "      <td>3.748620e+09</td>\n",
       "      <td>174330.0</td>\n",
       "      <td>11.831514</td>\n",
       "      <td>39.389667</td>\n",
       "    </tr>\n",
       "  </tbody>\n",
       "</table>\n",
       "</div>"
      ],
      "text/plain": [
       "      업종명       이용금액 증감   이용건수 증감  이용금액 증감(%)  이용건수 증감(%)\n",
       "12   골동품점  8.411000e+06       8.0   73.458515   36.363636\n",
       "121  유류판매  4.843600e+06      22.0   20.866074   10.837438\n",
       "6    가전제품  3.748620e+09  174330.0   11.831514   39.389667"
      ]
     },
     "execution_count": 63,
     "metadata": {},
     "output_type": "execute_result"
    }
   ],
   "source": [
    "df2[df2['업종명'].isin(High2 - High1)]"
   ]
  },
  {
   "cell_type": "markdown",
   "id": "9fcfcbc5-5d64-4c20-87a0-b6aea7fc0632",
   "metadata": {},
   "source": [
    "여성의 경우는 가전제품 업종의 이용이 크게 늘었다.\\\n",
    "외부활동에 사용하던 소비가 줄고 그 줄어든 소비가 집 안을 꾸미고 바꾸는 가전제품업종의 이용으로 이어졌다고 판단할 수 있다."
   ]
  },
  {
   "cell_type": "markdown",
   "id": "b63b953d-f84d-4413-bb4f-f14920c1c681",
   "metadata": {},
   "source": [
    "# 결론"
   ]
  },
  {
   "cell_type": "markdown",
   "id": "ccf7174e-c28b-42fe-90d6-c58955753d57",
   "metadata": {},
   "source": [
    "50% 이상 감소하지 않았더라도 COVID-19 여파로 매출 및 소비빈도의 감소가 크게 줄어든 업종은 굉장히 많다."
   ]
  },
  {
   "cell_type": "markdown",
   "id": "95e76095-34d6-4995-a04d-a58fb70f3b2c",
   "metadata": {},
   "source": [
    "남성의 소비처 중 15% 이상 소비빈도가 줄어든 업종"
   ]
  },
  {
   "cell_type": "code",
   "execution_count": 69,
   "id": "f634da60-14e7-46c8-9376-df81cf827ac4",
   "metadata": {},
   "outputs": [
    {
     "data": {
      "text/plain": [
       "array(['윤활유전문판매', '유리', '종합용역', '칵테일바', '기타건강식', '통신기기', '컴퓨터', '기타업종',\n",
       "       '사무기기', '기타광학품', '구내매점', '슈퍼마켓', '스넥', '당구장', '홈쇼핑', '독서실', '제화점',\n",
       "       '택시', '기타의류', '기타주방용구', '주유소', '냉열기기', '유아원', '기타가구', '일식회집',\n",
       "       '기타대인서비스', '화방표구점', '기타유통업', '정장', '복지매점', '기타잡화', '시계', '주점',\n",
       "       '악세사리', '예체능학원', '신변잡화수리', '사진관', '서적출판(회원제형태)', '일반서적', '악기점',\n",
       "       '카메라', '골프연습장', '견인서비스', '화랑', '귀금속', '기타교육', '초중고교육기관', '화장품',\n",
       "       '사무서비스', '소프트웨어', '단란주점', '완구점', '미용재료', '대형할인점', '세차장', '출판인쇄물',\n",
       "       '전문서적', '노래방', '스포츠의류', 'DVD음반테이프판매', '페인트', '학원(회원제형태)', '위탁급식업',\n",
       "       '기타숙박업', '옷감직물', '맞춤복점', '사우나', '아동의류', '가정용품수리', '특급호텔', '인테리어',\n",
       "       '치과병원', '사무통신기기수리', '피아노대리점', '와이셔츠타이', '양품점', '레져업소(회원제형태)',\n",
       "       '민예공예품', '기타회원제형태업소', '유흥주점', '문화취미기타', '기타용역서비스', '기념품점',\n",
       "       '기타자동차서비스', '유학원', '항공사', '이용원', '수영장', '건강식품(회원제형태)', '부동산중개임대',\n",
       "       '영화관', '관광여행', '면세점', '렌트카', '성인용품점', '부동산분양', '공공요금', '고속버스',\n",
       "       '산후조리원', '농축협직영매장', '유치원'], dtype=object)"
      ]
     },
     "execution_count": 69,
     "metadata": {},
     "output_type": "execute_result"
    }
   ],
   "source": [
    "df1[df1['이용건수 증감(%)'] < -15]['업종명'].unique()"
   ]
  },
  {
   "cell_type": "markdown",
   "id": "bb7afa4d-8906-4b5f-933b-8a33a38a746c",
   "metadata": {},
   "source": [
    "여성의 소비처 중 15% 이상 소비빈도가 줄어든 업종"
   ]
  },
  {
   "cell_type": "code",
   "execution_count": 70,
   "id": "231e7f07-87b8-4bf3-9640-0e38d53f211e",
   "metadata": {},
   "outputs": [
    {
     "data": {
      "text/plain": [
       "array(['유리', '가방', '피아노대리점', '애완동물', '기타건강식', '유아원', '컴퓨터', '세차장', '골프용품',\n",
       "       '기타음료식품', '홈쇼핑', '기타대인서비스', '종합용역', '화랑', '주방용식기', '칵테일바', '상품권',\n",
       "       '카페트커텐천막', '홍삼제품', '기타업종', '통신기기', '편의점', '슈퍼마켓', '보습학원', '제과점',\n",
       "       '신변잡화수리', '구내매점', '견인서비스', '외국어학원', '주유소', '당구장', '택시', '침구수예점',\n",
       "       '스넥', '안경', '서적출판(회원제형태)', '사진관', '단란주점', '소프트웨어', '일반한식', '일반서적',\n",
       "       '스포츠레져용품', '기타유통업', '주점', '내의판매점', '일식회집', '신발', '기타사무용', '출판인쇄물',\n",
       "       '귀금속', '독서실', '기타레져업', '예체능학원', '정장', '악세사리', '기타잡화', '치과병원',\n",
       "       '기타교육', '화방표구점', '기타가구', '노래방', '미용재료', '악기점', '맞춤복점', '시계', '완구점',\n",
       "       '사무서비스', '기타용역서비스', '기타의류', '아동의류', '티켓', '안마스포츠마사지', '화장품',\n",
       "       '가정용품수리', '보일러펌프', '초중고교육기관', '카메라', '대형할인점', '기타숙박업', '학원(회원제형태)',\n",
       "       '복지매점', '특급호텔', '옷감직물', '사무통신기기수리', '사우나', '전문서적', '스포츠의류', '철제가구',\n",
       "       '유흥주점', '위탁급식업', '기타광학품', '사무기기', '제화점', '민예공예품', '부동산중개임대', '양품점',\n",
       "       '기념품점', '문화취미기타', '수영장', '레져업소(회원제형태)', '항공사', '와이셔츠타이',\n",
       "       '기타회원제형태업소', '페인트', '이용원', '냉열기기', '인테리어', '기타자동차서비스', '영화관',\n",
       "       'DVD음반테이프판매', '관광여행', '부동산분양', '면세점', '유학원', '성인용품점',\n",
       "       '건강식품(회원제형태)', '렌트카', '공공요금', '고속버스', '유치원', '농축협직영매장'],\n",
       "      dtype=object)"
      ]
     },
     "execution_count": 70,
     "metadata": {},
     "output_type": "execute_result"
    }
   ],
   "source": [
    "df2[df2['이용건수 증감(%)'] < -15]['업종명'].unique()"
   ]
  },
  {
   "cell_type": "markdown",
   "id": "d125eca9-4237-4fda-bd89-ceeeea9e8d46",
   "metadata": {},
   "source": [
    "대신 인터넷 쿠폰 및 인터넷 쇼핑의 빈도가 크게 늘어난 만큼,\\\n",
    "줄어든 업종 중 인터넷 스토어로 돌릴 수 있는 업종은 배달을 통한 접촉이 없는 비대면 서비스를 이용하는 것이 도움이 될 것이다."
   ]
  },
  {
   "cell_type": "markdown",
   "id": "4565c1c3-5e29-45ba-85e0-3b86dfd28518",
   "metadata": {},
   "source": [
    "서적, 주점, 음료, 의류, 마켓, 매점, 식당 등의 업종은 인터넷 쇼핑 및 배달 서비스 신설\\\n",
    "레저, 관광, 취미, 당구 등의 업종은 해당 카테고리를 접목시킨 온라인 VR/게임 등의 서비스로 신규 고객을 유치할 수 있을 것이다."
   ]
  },
  {
   "cell_type": "markdown",
   "id": "46fbddb0-d6a5-4271-91c9-14044c1a273f",
   "metadata": {},
   "source": [
    "그 외에도 온라인 서비스를 접목해서 공급할 수 있는 업종의 경우는 COVID-19 사태가 종료된 후에도\\\n",
    "자리잡은 온라인 시장은 계속 성장할 것이므로 신규 서비스를 신설하여 공급해야 한다."
   ]
  }
 ],
 "metadata": {
  "kernelspec": {
   "display_name": "Python 3 (ipykernel)",
   "language": "python",
   "name": "python3"
  },
  "language_info": {
   "codemirror_mode": {
    "name": "ipython",
    "version": 3
   },
   "file_extension": ".py",
   "mimetype": "text/x-python",
   "name": "python",
   "nbconvert_exporter": "python",
   "pygments_lexer": "ipython3",
   "version": "3.12.0"
  }
 },
 "nbformat": 4,
 "nbformat_minor": 5
}
