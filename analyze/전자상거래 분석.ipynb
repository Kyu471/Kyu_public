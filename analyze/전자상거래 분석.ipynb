{
 "cells": [
  {
   "cell_type": "markdown",
   "id": "996bf4f2-abbe-4a99-9ef6-495efd26dd1d",
   "metadata": {},
   "source": [
    "# 2024년 가상의 전자상거래 데이터셋"
   ]
  },
  {
   "cell_type": "code",
   "execution_count": 24,
   "id": "1a6d3f2d-a5ce-4c14-99bb-bcc8ace111d2",
   "metadata": {},
   "outputs": [
    {
     "data": {
      "text/html": [
       "<div>\n",
       "<style scoped>\n",
       "    .dataframe tbody tr th:only-of-type {\n",
       "        vertical-align: middle;\n",
       "    }\n",
       "\n",
       "    .dataframe tbody tr th {\n",
       "        vertical-align: top;\n",
       "    }\n",
       "\n",
       "    .dataframe thead th {\n",
       "        text-align: right;\n",
       "    }\n",
       "</style>\n",
       "<table border=\"1\" class=\"dataframe\">\n",
       "  <thead>\n",
       "    <tr style=\"text-align: right;\">\n",
       "      <th></th>\n",
       "      <th>User_ID</th>\n",
       "      <th>Product_ID</th>\n",
       "      <th>Category</th>\n",
       "      <th>Price (Rs.)</th>\n",
       "      <th>Discount (%)</th>\n",
       "      <th>Final_Price(Rs.)</th>\n",
       "      <th>Payment_Method</th>\n",
       "      <th>Purchase_Date</th>\n",
       "    </tr>\n",
       "  </thead>\n",
       "  <tbody>\n",
       "    <tr>\n",
       "      <th>0</th>\n",
       "      <td>337c166f</td>\n",
       "      <td>f414122f-e</td>\n",
       "      <td>Sports</td>\n",
       "      <td>36.53</td>\n",
       "      <td>15</td>\n",
       "      <td>31.05</td>\n",
       "      <td>Net Banking</td>\n",
       "      <td>12-11-2024</td>\n",
       "    </tr>\n",
       "    <tr>\n",
       "      <th>1</th>\n",
       "      <td>d38a19bf</td>\n",
       "      <td>fde50f9c-5</td>\n",
       "      <td>Clothing</td>\n",
       "      <td>232.79</td>\n",
       "      <td>20</td>\n",
       "      <td>186.23</td>\n",
       "      <td>Net Banking</td>\n",
       "      <td>09-02-2024</td>\n",
       "    </tr>\n",
       "    <tr>\n",
       "      <th>2</th>\n",
       "      <td>d7f5f0b0</td>\n",
       "      <td>0d96fc90-3</td>\n",
       "      <td>Sports</td>\n",
       "      <td>317.02</td>\n",
       "      <td>25</td>\n",
       "      <td>237.76</td>\n",
       "      <td>Credit Card</td>\n",
       "      <td>01-09-2024</td>\n",
       "    </tr>\n",
       "    <tr>\n",
       "      <th>3</th>\n",
       "      <td>395d4994</td>\n",
       "      <td>964fc44b-d</td>\n",
       "      <td>Toys</td>\n",
       "      <td>173.19</td>\n",
       "      <td>25</td>\n",
       "      <td>129.89</td>\n",
       "      <td>UPI</td>\n",
       "      <td>01-04-2024</td>\n",
       "    </tr>\n",
       "    <tr>\n",
       "      <th>4</th>\n",
       "      <td>a83c145c</td>\n",
       "      <td>d70e2fc6-e</td>\n",
       "      <td>Beauty</td>\n",
       "      <td>244.80</td>\n",
       "      <td>20</td>\n",
       "      <td>195.84</td>\n",
       "      <td>Net Banking</td>\n",
       "      <td>27-09-2024</td>\n",
       "    </tr>\n",
       "    <tr>\n",
       "      <th>...</th>\n",
       "      <td>...</td>\n",
       "      <td>...</td>\n",
       "      <td>...</td>\n",
       "      <td>...</td>\n",
       "      <td>...</td>\n",
       "      <td>...</td>\n",
       "      <td>...</td>\n",
       "      <td>...</td>\n",
       "    </tr>\n",
       "    <tr>\n",
       "      <th>3655</th>\n",
       "      <td>67abda0a</td>\n",
       "      <td>28714133-6</td>\n",
       "      <td>Beauty</td>\n",
       "      <td>486.79</td>\n",
       "      <td>0</td>\n",
       "      <td>486.79</td>\n",
       "      <td>UPI</td>\n",
       "      <td>14-05-2024</td>\n",
       "    </tr>\n",
       "    <tr>\n",
       "      <th>3656</th>\n",
       "      <td>34ebc1a0</td>\n",
       "      <td>08838c2c-9</td>\n",
       "      <td>Toys</td>\n",
       "      <td>212.87</td>\n",
       "      <td>15</td>\n",
       "      <td>180.94</td>\n",
       "      <td>Cash on Delivery</td>\n",
       "      <td>19-11-2024</td>\n",
       "    </tr>\n",
       "    <tr>\n",
       "      <th>3657</th>\n",
       "      <td>1defd3b1</td>\n",
       "      <td>c39a4f16-6</td>\n",
       "      <td>Home &amp; Kitchen</td>\n",
       "      <td>389.76</td>\n",
       "      <td>0</td>\n",
       "      <td>389.76</td>\n",
       "      <td>Net Banking</td>\n",
       "      <td>07-08-2024</td>\n",
       "    </tr>\n",
       "    <tr>\n",
       "      <th>3658</th>\n",
       "      <td>0611293d</td>\n",
       "      <td>b4f67f96-9</td>\n",
       "      <td>Electronics</td>\n",
       "      <td>447.66</td>\n",
       "      <td>30</td>\n",
       "      <td>313.36</td>\n",
       "      <td>UPI</td>\n",
       "      <td>21-05-2024</td>\n",
       "    </tr>\n",
       "    <tr>\n",
       "      <th>3659</th>\n",
       "      <td>e73ad07c</td>\n",
       "      <td>a5d07442-d</td>\n",
       "      <td>Home &amp; Kitchen</td>\n",
       "      <td>235.77</td>\n",
       "      <td>30</td>\n",
       "      <td>165.04</td>\n",
       "      <td>UPI</td>\n",
       "      <td>14-04-2024</td>\n",
       "    </tr>\n",
       "  </tbody>\n",
       "</table>\n",
       "<p>3660 rows × 8 columns</p>\n",
       "</div>"
      ],
      "text/plain": [
       "       User_ID  Product_ID        Category  Price (Rs.)  Discount (%)  \\\n",
       "0     337c166f  f414122f-e          Sports        36.53            15   \n",
       "1     d38a19bf  fde50f9c-5        Clothing       232.79            20   \n",
       "2     d7f5f0b0  0d96fc90-3          Sports       317.02            25   \n",
       "3     395d4994  964fc44b-d            Toys       173.19            25   \n",
       "4     a83c145c  d70e2fc6-e          Beauty       244.80            20   \n",
       "...        ...         ...             ...          ...           ...   \n",
       "3655  67abda0a  28714133-6          Beauty       486.79             0   \n",
       "3656  34ebc1a0  08838c2c-9            Toys       212.87            15   \n",
       "3657  1defd3b1  c39a4f16-6  Home & Kitchen       389.76             0   \n",
       "3658  0611293d  b4f67f96-9     Electronics       447.66            30   \n",
       "3659  e73ad07c  a5d07442-d  Home & Kitchen       235.77            30   \n",
       "\n",
       "      Final_Price(Rs.)    Payment_Method Purchase_Date  \n",
       "0                31.05       Net Banking    12-11-2024  \n",
       "1               186.23       Net Banking    09-02-2024  \n",
       "2               237.76       Credit Card    01-09-2024  \n",
       "3               129.89               UPI    01-04-2024  \n",
       "4               195.84       Net Banking    27-09-2024  \n",
       "...                ...               ...           ...  \n",
       "3655            486.79               UPI    14-05-2024  \n",
       "3656            180.94  Cash on Delivery    19-11-2024  \n",
       "3657            389.76       Net Banking    07-08-2024  \n",
       "3658            313.36               UPI    21-05-2024  \n",
       "3659            165.04               UPI    14-04-2024  \n",
       "\n",
       "[3660 rows x 8 columns]"
      ]
     },
     "execution_count": 24,
     "metadata": {},
     "output_type": "execute_result"
    }
   ],
   "source": [
    "import pandas as pd\n",
    "\n",
    "df = pd.read_csv(\"ecommerce_dataset_updated.csv\")\n",
    "\n",
    "df"
   ]
  },
  {
   "cell_type": "code",
   "execution_count": 25,
   "id": "6ba2046e-c4d5-4bf2-aad0-a668571f085f",
   "metadata": {},
   "outputs": [
    {
     "name": "stdout",
     "output_type": "stream",
     "text": [
      "<class 'pandas.core.frame.DataFrame'>\n",
      "RangeIndex: 3660 entries, 0 to 3659\n",
      "Data columns (total 8 columns):\n",
      " #   Column            Non-Null Count  Dtype  \n",
      "---  ------            --------------  -----  \n",
      " 0   User_ID           3660 non-null   object \n",
      " 1   Product_ID        3660 non-null   object \n",
      " 2   Category          3660 non-null   object \n",
      " 3   Price (Rs.)       3660 non-null   float64\n",
      " 4   Discount (%)      3660 non-null   int64  \n",
      " 5   Final_Price(Rs.)  3660 non-null   float64\n",
      " 6   Payment_Method    3660 non-null   object \n",
      " 7   Purchase_Date     3660 non-null   object \n",
      "dtypes: float64(2), int64(1), object(5)\n",
      "memory usage: 228.9+ KB\n"
     ]
    }
   ],
   "source": [
    "df.info()"
   ]
  },
  {
   "cell_type": "markdown",
   "id": "87d1b5b7-842a-418e-9d38-65c44fc2aef3",
   "metadata": {},
   "source": [
    "단순 확인 시 결측치 없음"
   ]
  },
  {
   "cell_type": "code",
   "execution_count": 26,
   "id": "172c16ea-fc96-4b79-b636-a29d18ddcdb5",
   "metadata": {},
   "outputs": [
    {
     "data": {
      "text/html": [
       "<div>\n",
       "<style scoped>\n",
       "    .dataframe tbody tr th:only-of-type {\n",
       "        vertical-align: middle;\n",
       "    }\n",
       "\n",
       "    .dataframe tbody tr th {\n",
       "        vertical-align: top;\n",
       "    }\n",
       "\n",
       "    .dataframe thead th {\n",
       "        text-align: right;\n",
       "    }\n",
       "</style>\n",
       "<table border=\"1\" class=\"dataframe\">\n",
       "  <thead>\n",
       "    <tr style=\"text-align: right;\">\n",
       "      <th></th>\n",
       "      <th>Price (Rs.)</th>\n",
       "      <th>Discount (%)</th>\n",
       "      <th>Final_Price(Rs.)</th>\n",
       "    </tr>\n",
       "  </thead>\n",
       "  <tbody>\n",
       "    <tr>\n",
       "      <th>count</th>\n",
       "      <td>3660.000000</td>\n",
       "      <td>3660.000000</td>\n",
       "      <td>3660.000000</td>\n",
       "    </tr>\n",
       "    <tr>\n",
       "      <th>mean</th>\n",
       "      <td>254.800675</td>\n",
       "      <td>18.825137</td>\n",
       "      <td>206.906579</td>\n",
       "    </tr>\n",
       "    <tr>\n",
       "      <th>std</th>\n",
       "      <td>141.682621</td>\n",
       "      <td>14.731338</td>\n",
       "      <td>122.687844</td>\n",
       "    </tr>\n",
       "    <tr>\n",
       "      <th>min</th>\n",
       "      <td>10.090000</td>\n",
       "      <td>0.000000</td>\n",
       "      <td>5.890000</td>\n",
       "    </tr>\n",
       "    <tr>\n",
       "      <th>25%</th>\n",
       "      <td>134.012500</td>\n",
       "      <td>5.000000</td>\n",
       "      <td>104.512500</td>\n",
       "    </tr>\n",
       "    <tr>\n",
       "      <th>50%</th>\n",
       "      <td>253.845000</td>\n",
       "      <td>15.000000</td>\n",
       "      <td>199.185000</td>\n",
       "    </tr>\n",
       "    <tr>\n",
       "      <th>75%</th>\n",
       "      <td>377.595000</td>\n",
       "      <td>25.000000</td>\n",
       "      <td>304.117500</td>\n",
       "    </tr>\n",
       "    <tr>\n",
       "      <th>max</th>\n",
       "      <td>499.960000</td>\n",
       "      <td>50.000000</td>\n",
       "      <td>496.820000</td>\n",
       "    </tr>\n",
       "  </tbody>\n",
       "</table>\n",
       "</div>"
      ],
      "text/plain": [
       "       Price (Rs.)  Discount (%)  Final_Price(Rs.)\n",
       "count  3660.000000   3660.000000       3660.000000\n",
       "mean    254.800675     18.825137        206.906579\n",
       "std     141.682621     14.731338        122.687844\n",
       "min      10.090000      0.000000          5.890000\n",
       "25%     134.012500      5.000000        104.512500\n",
       "50%     253.845000     15.000000        199.185000\n",
       "75%     377.595000     25.000000        304.117500\n",
       "max     499.960000     50.000000        496.820000"
      ]
     },
     "execution_count": 26,
     "metadata": {},
     "output_type": "execute_result"
    }
   ],
   "source": [
    "df.describe()"
   ]
  },
  {
   "cell_type": "markdown",
   "id": "b170dabb-1191-4180-932d-802593eaea18",
   "metadata": {},
   "source": [
    "가격은 10-500루피 까지 다양한 가격대를 형성\\\n",
    "할인율은 최대 50%까지 진행"
   ]
  },
  {
   "cell_type": "code",
   "execution_count": 27,
   "id": "0df741ca-36ed-4398-bfe0-71f476f04b68",
   "metadata": {},
   "outputs": [
    {
     "data": {
      "text/plain": [
       "3660"
      ]
     },
     "execution_count": 27,
     "metadata": {},
     "output_type": "execute_result"
    }
   ],
   "source": [
    "len(df['Product_ID'].unique())"
   ]
  },
  {
   "cell_type": "markdown",
   "id": "a19dd2a3-2c1c-48c0-92ff-cec14a55f288",
   "metadata": {},
   "source": [
    "3660개의 고유한 상품에 대한 데이터셋"
   ]
  },
  {
   "cell_type": "code",
   "execution_count": 28,
   "id": "25e0f6c5-d938-4e18-b9d6-506ea6de7ddd",
   "metadata": {},
   "outputs": [
    {
     "data": {
      "text/plain": [
       "7"
      ]
     },
     "execution_count": 28,
     "metadata": {},
     "output_type": "execute_result"
    }
   ],
   "source": [
    "len(df['Category'].unique())"
   ]
  },
  {
   "cell_type": "markdown",
   "id": "48907f50-40c0-4e99-8904-d52aae291498",
   "metadata": {},
   "source": [
    "상품 카테고리는 7개로 구성"
   ]
  },
  {
   "cell_type": "code",
   "execution_count": 29,
   "id": "8926149b-9c95-4d1f-9e2a-5cac35afdd8e",
   "metadata": {},
   "outputs": [
    {
     "data": {
      "text/plain": [
       "3660"
      ]
     },
     "execution_count": 29,
     "metadata": {},
     "output_type": "execute_result"
    }
   ],
   "source": [
    "len(df['User_ID'].unique())"
   ]
  },
  {
   "cell_type": "markdown",
   "id": "469b968b-f861-4140-8a73-b119a0b81a42",
   "metadata": {},
   "source": [
    "3660명의 이용자가 각각 다른 제품을 구매한 데이터 셋임을 확인."
   ]
  },
  {
   "cell_type": "markdown",
   "id": "93f977ed-08c3-4881-9d00-1233816179ba",
   "metadata": {},
   "source": [
    "따라서 이용자의 고유지표 대신 제품의 지표를 분석하기로 함."
   ]
  },
  {
   "cell_type": "markdown",
   "id": "92fe7c5c-8aa7-42ce-8122-e57d846ba0c4",
   "metadata": {},
   "source": [
    "# 카테고리별 총매출 분석"
   ]
  },
  {
   "cell_type": "markdown",
   "id": "8f776c08-06b1-4c31-b35b-d1cab7296b5b",
   "metadata": {},
   "source": [
    "카테고리 별 판매금액과 종합적인 할인율"
   ]
  },
  {
   "cell_type": "code",
   "execution_count": 34,
   "id": "8c617913-bd2e-465c-8ca6-fc47c73a367f",
   "metadata": {},
   "outputs": [
    {
     "data": {
      "text/html": [
       "<div>\n",
       "<style scoped>\n",
       "    .dataframe tbody tr th:only-of-type {\n",
       "        vertical-align: middle;\n",
       "    }\n",
       "\n",
       "    .dataframe tbody tr th {\n",
       "        vertical-align: top;\n",
       "    }\n",
       "\n",
       "    .dataframe thead th {\n",
       "        text-align: right;\n",
       "    }\n",
       "</style>\n",
       "<table border=\"1\" class=\"dataframe\">\n",
       "  <thead>\n",
       "    <tr style=\"text-align: right;\">\n",
       "      <th></th>\n",
       "      <th>Category</th>\n",
       "      <th>Price (Rs.)</th>\n",
       "      <th>Final_Price(Rs.)</th>\n",
       "      <th>D.C(%)</th>\n",
       "    </tr>\n",
       "  </thead>\n",
       "  <tbody>\n",
       "    <tr>\n",
       "      <th>0</th>\n",
       "      <td>Beauty</td>\n",
       "      <td>127633.04</td>\n",
       "      <td>104215.10</td>\n",
       "      <td>18.347867</td>\n",
       "    </tr>\n",
       "    <tr>\n",
       "      <th>1</th>\n",
       "      <td>Books</td>\n",
       "      <td>138371.71</td>\n",
       "      <td>111149.35</td>\n",
       "      <td>19.673357</td>\n",
       "    </tr>\n",
       "    <tr>\n",
       "      <th>2</th>\n",
       "      <td>Clothing</td>\n",
       "      <td>139714.55</td>\n",
       "      <td>115314.84</td>\n",
       "      <td>17.463972</td>\n",
       "    </tr>\n",
       "    <tr>\n",
       "      <th>3</th>\n",
       "      <td>Electronics</td>\n",
       "      <td>125320.14</td>\n",
       "      <td>100462.23</td>\n",
       "      <td>19.835527</td>\n",
       "    </tr>\n",
       "    <tr>\n",
       "      <th>4</th>\n",
       "      <td>Home &amp; Kitchen</td>\n",
       "      <td>136841.51</td>\n",
       "      <td>110328.08</td>\n",
       "      <td>19.375283</td>\n",
       "    </tr>\n",
       "    <tr>\n",
       "      <th>5</th>\n",
       "      <td>Sports</td>\n",
       "      <td>134481.99</td>\n",
       "      <td>108518.79</td>\n",
       "      <td>19.306080</td>\n",
       "    </tr>\n",
       "    <tr>\n",
       "      <th>6</th>\n",
       "      <td>Toys</td>\n",
       "      <td>130207.53</td>\n",
       "      <td>107289.69</td>\n",
       "      <td>17.601010</td>\n",
       "    </tr>\n",
       "  </tbody>\n",
       "</table>\n",
       "</div>"
      ],
      "text/plain": [
       "         Category  Price (Rs.)  Final_Price(Rs.)     D.C(%)\n",
       "0          Beauty    127633.04         104215.10  18.347867\n",
       "1           Books    138371.71         111149.35  19.673357\n",
       "2        Clothing    139714.55         115314.84  17.463972\n",
       "3     Electronics    125320.14         100462.23  19.835527\n",
       "4  Home & Kitchen    136841.51         110328.08  19.375283\n",
       "5          Sports    134481.99         108518.79  19.306080\n",
       "6            Toys    130207.53         107289.69  17.601010"
      ]
     },
     "execution_count": 34,
     "metadata": {},
     "output_type": "execute_result"
    }
   ],
   "source": [
    "Category = df[['Category', 'Price (Rs.)', 'Final_Price(Rs.)']].copy()\n",
    "Category = Category.groupby('Category').sum().reset_index()\n",
    "Category['D.C(%)'] = (1 - Category['Final_Price(Rs.)'] / Category['Price (Rs.)']) * 100\n",
    "Category"
   ]
  },
  {
   "cell_type": "code",
   "execution_count": 53,
   "id": "a12d8fc1-39c1-4f61-a402-e0a521f8dec1",
   "metadata": {},
   "outputs": [
    {
     "name": "stdout",
     "output_type": "stream",
     "text": [
      "최고가격 :     Category  Price (Rs.)  Final_Price(Rs.)     D.C(%)\n",
      "2  Clothing    139714.55         115314.84  17.463972\n",
      "최저가격 :        Category  Price (Rs.)  Final_Price(Rs.)     D.C(%)\n",
      "3  Electronics    125320.14         100462.23  19.835527\n"
     ]
    }
   ],
   "source": [
    "print(\"최고가격 : \", Category[Category['Price (Rs.)'] == Category['Price (Rs.)'].max()])\n",
    "print(\"최저가격 : \", Category[Category['Price (Rs.)'] == Category['Price (Rs.)'].min()])"
   ]
  },
  {
   "cell_type": "code",
   "execution_count": 55,
   "id": "1522a350-2e68-41ff-83dc-1d68d6892431",
   "metadata": {},
   "outputs": [
    {
     "name": "stdout",
     "output_type": "stream",
     "text": [
      "최고매출 :     Category  Price (Rs.)  Final_Price(Rs.)     D.C(%)\n",
      "2  Clothing    139714.55         115314.84  17.463972\n",
      "최저매출 :        Category  Price (Rs.)  Final_Price(Rs.)     D.C(%)\n",
      "3  Electronics    125320.14         100462.23  19.835527\n"
     ]
    }
   ],
   "source": [
    "print(\"최고매출 : \", Category[Category['Final_Price(Rs.)'] == Category['Final_Price(Rs.)'].max()])\n",
    "print(\"최저매출 : \", Category[Category['Final_Price(Rs.)'] == Category['Final_Price(Rs.)'].min()])"
   ]
  },
  {
   "cell_type": "code",
   "execution_count": 56,
   "id": "0aa96351-4a85-400d-bbeb-e0eadf66b633",
   "metadata": {},
   "outputs": [
    {
     "name": "stdout",
     "output_type": "stream",
     "text": [
      "최고할인율 :        Category  Price (Rs.)  Final_Price(Rs.)     D.C(%)\n",
      "3  Electronics    125320.14         100462.23  19.835527\n",
      "최저할인율 :     Category  Price (Rs.)  Final_Price(Rs.)     D.C(%)\n",
      "2  Clothing    139714.55         115314.84  17.463972\n"
     ]
    }
   ],
   "source": [
    "print(\"최고할인율 : \", Category[Category['D.C(%)'] == Category['D.C(%)'].max()])\n",
    "print(\"최저할인율 : \", Category[Category['D.C(%)'] == Category['D.C(%)'].min()])"
   ]
  },
  {
   "cell_type": "markdown",
   "id": "e4c83f13-1be4-4424-8aa3-eefbd44c1e72",
   "metadata": {},
   "source": [
    "의류매출은 가장 낮은 할인율을 보이나 가장 높은 매출 성과를 올렸다"
   ]
  },
  {
   "cell_type": "markdown",
   "id": "e3b28e1f-e40a-4fbc-a28e-32b219d7c68b",
   "metadata": {},
   "source": [
    "반대로 전자기기는 가장 높은 할인율을 보이지만 가장 낮은 매출 성과를 올렸다."
   ]
  },
  {
   "cell_type": "markdown",
   "id": "6d2bcc90-9eca-473f-ad34-b070d9c5511b",
   "metadata": {},
   "source": [
    "# 의류/전자기기 할인율-매출 관계"
   ]
  },
  {
   "cell_type": "code",
   "execution_count": 97,
   "id": "1eea2bef-ac4a-4063-a260-ce6e74e25487",
   "metadata": {},
   "outputs": [
    {
     "data": {
      "text/plain": [
       "array([2024])"
      ]
     },
     "execution_count": 97,
     "metadata": {},
     "output_type": "execute_result"
    }
   ],
   "source": [
    "Date = df[['Purchase_Date', 'Category', 'Final_Price(Rs.)', 'Discount (%)', 'Payment_Method']].copy()\n",
    "Date['Purchase_Date'] = pd.to_datetime(Date['Purchase_Date'], dayfirst=True)\n",
    "\n",
    "Data['Purchase_Date'].dt.year.unique()"
   ]
  },
  {
   "cell_type": "markdown",
   "id": "cf771f3c-bb37-4c25-bc15-e5cc6b808409",
   "metadata": {},
   "source": [
    "2024년에 한정된 판매 기록이므로 월 이외의 날짜를 전부 삭제"
   ]
  },
  {
   "cell_type": "code",
   "execution_count": 98,
   "id": "16e27c1d-2987-456d-91cd-06cac61c6031",
   "metadata": {},
   "outputs": [
    {
     "data": {
      "text/html": [
       "<div>\n",
       "<style scoped>\n",
       "    .dataframe tbody tr th:only-of-type {\n",
       "        vertical-align: middle;\n",
       "    }\n",
       "\n",
       "    .dataframe tbody tr th {\n",
       "        vertical-align: top;\n",
       "    }\n",
       "\n",
       "    .dataframe thead th {\n",
       "        text-align: right;\n",
       "    }\n",
       "</style>\n",
       "<table border=\"1\" class=\"dataframe\">\n",
       "  <thead>\n",
       "    <tr style=\"text-align: right;\">\n",
       "      <th></th>\n",
       "      <th>Purchase_Date</th>\n",
       "      <th>Category</th>\n",
       "      <th>Final_Price(Rs.)</th>\n",
       "      <th>Discount (%)</th>\n",
       "      <th>Payment_Method</th>\n",
       "    </tr>\n",
       "  </thead>\n",
       "  <tbody>\n",
       "    <tr>\n",
       "      <th>0</th>\n",
       "      <td>11</td>\n",
       "      <td>Sports</td>\n",
       "      <td>31.05</td>\n",
       "      <td>15</td>\n",
       "      <td>Net Banking</td>\n",
       "    </tr>\n",
       "    <tr>\n",
       "      <th>1</th>\n",
       "      <td>2</td>\n",
       "      <td>Clothing</td>\n",
       "      <td>186.23</td>\n",
       "      <td>20</td>\n",
       "      <td>Net Banking</td>\n",
       "    </tr>\n",
       "    <tr>\n",
       "      <th>2</th>\n",
       "      <td>9</td>\n",
       "      <td>Sports</td>\n",
       "      <td>237.76</td>\n",
       "      <td>25</td>\n",
       "      <td>Credit Card</td>\n",
       "    </tr>\n",
       "    <tr>\n",
       "      <th>3</th>\n",
       "      <td>4</td>\n",
       "      <td>Toys</td>\n",
       "      <td>129.89</td>\n",
       "      <td>25</td>\n",
       "      <td>UPI</td>\n",
       "    </tr>\n",
       "    <tr>\n",
       "      <th>4</th>\n",
       "      <td>9</td>\n",
       "      <td>Beauty</td>\n",
       "      <td>195.84</td>\n",
       "      <td>20</td>\n",
       "      <td>Net Banking</td>\n",
       "    </tr>\n",
       "    <tr>\n",
       "      <th>...</th>\n",
       "      <td>...</td>\n",
       "      <td>...</td>\n",
       "      <td>...</td>\n",
       "      <td>...</td>\n",
       "      <td>...</td>\n",
       "    </tr>\n",
       "    <tr>\n",
       "      <th>3655</th>\n",
       "      <td>5</td>\n",
       "      <td>Beauty</td>\n",
       "      <td>486.79</td>\n",
       "      <td>0</td>\n",
       "      <td>UPI</td>\n",
       "    </tr>\n",
       "    <tr>\n",
       "      <th>3656</th>\n",
       "      <td>11</td>\n",
       "      <td>Toys</td>\n",
       "      <td>180.94</td>\n",
       "      <td>15</td>\n",
       "      <td>Cash on Delivery</td>\n",
       "    </tr>\n",
       "    <tr>\n",
       "      <th>3657</th>\n",
       "      <td>8</td>\n",
       "      <td>Home &amp; Kitchen</td>\n",
       "      <td>389.76</td>\n",
       "      <td>0</td>\n",
       "      <td>Net Banking</td>\n",
       "    </tr>\n",
       "    <tr>\n",
       "      <th>3658</th>\n",
       "      <td>5</td>\n",
       "      <td>Electronics</td>\n",
       "      <td>313.36</td>\n",
       "      <td>30</td>\n",
       "      <td>UPI</td>\n",
       "    </tr>\n",
       "    <tr>\n",
       "      <th>3659</th>\n",
       "      <td>4</td>\n",
       "      <td>Home &amp; Kitchen</td>\n",
       "      <td>165.04</td>\n",
       "      <td>30</td>\n",
       "      <td>UPI</td>\n",
       "    </tr>\n",
       "  </tbody>\n",
       "</table>\n",
       "<p>3660 rows × 5 columns</p>\n",
       "</div>"
      ],
      "text/plain": [
       "      Purchase_Date        Category  Final_Price(Rs.)  Discount (%)  \\\n",
       "0                11          Sports             31.05            15   \n",
       "1                 2        Clothing            186.23            20   \n",
       "2                 9          Sports            237.76            25   \n",
       "3                 4            Toys            129.89            25   \n",
       "4                 9          Beauty            195.84            20   \n",
       "...             ...             ...               ...           ...   \n",
       "3655              5          Beauty            486.79             0   \n",
       "3656             11            Toys            180.94            15   \n",
       "3657              8  Home & Kitchen            389.76             0   \n",
       "3658              5     Electronics            313.36            30   \n",
       "3659              4  Home & Kitchen            165.04            30   \n",
       "\n",
       "        Payment_Method  \n",
       "0          Net Banking  \n",
       "1          Net Banking  \n",
       "2          Credit Card  \n",
       "3                  UPI  \n",
       "4          Net Banking  \n",
       "...                ...  \n",
       "3655               UPI  \n",
       "3656  Cash on Delivery  \n",
       "3657       Net Banking  \n",
       "3658               UPI  \n",
       "3659               UPI  \n",
       "\n",
       "[3660 rows x 5 columns]"
      ]
     },
     "execution_count": 98,
     "metadata": {},
     "output_type": "execute_result"
    }
   ],
   "source": [
    "Date['Purchase_Date'] = Date['Purchase_Date'].dt.month\n",
    "Date"
   ]
  },
  {
   "cell_type": "markdown",
   "id": "072a7836-7b02-4525-b2db-4e76b82d1400",
   "metadata": {},
   "source": [
    "= 의류 카테고리 월별 총매출 ="
   ]
  },
  {
   "cell_type": "code",
   "execution_count": 79,
   "id": "379eec4a-cf32-445a-8fdc-2dbda6a7cff7",
   "metadata": {},
   "outputs": [
    {
     "data": {
      "text/html": [
       "<div>\n",
       "<style scoped>\n",
       "    .dataframe tbody tr th:only-of-type {\n",
       "        vertical-align: middle;\n",
       "    }\n",
       "\n",
       "    .dataframe tbody tr th {\n",
       "        vertical-align: top;\n",
       "    }\n",
       "\n",
       "    .dataframe thead th {\n",
       "        text-align: right;\n",
       "    }\n",
       "</style>\n",
       "<table border=\"1\" class=\"dataframe\">\n",
       "  <thead>\n",
       "    <tr style=\"text-align: right;\">\n",
       "      <th></th>\n",
       "      <th>Purchase_Date</th>\n",
       "      <th>Final_Price(Rs.)</th>\n",
       "    </tr>\n",
       "  </thead>\n",
       "  <tbody>\n",
       "    <tr>\n",
       "      <th>0</th>\n",
       "      <td>1</td>\n",
       "      <td>10664.28</td>\n",
       "    </tr>\n",
       "    <tr>\n",
       "      <th>1</th>\n",
       "      <td>2</td>\n",
       "      <td>10471.59</td>\n",
       "    </tr>\n",
       "    <tr>\n",
       "      <th>2</th>\n",
       "      <td>3</td>\n",
       "      <td>12820.30</td>\n",
       "    </tr>\n",
       "    <tr>\n",
       "      <th>3</th>\n",
       "      <td>4</td>\n",
       "      <td>15876.86</td>\n",
       "    </tr>\n",
       "    <tr>\n",
       "      <th>4</th>\n",
       "      <td>5</td>\n",
       "      <td>8243.46</td>\n",
       "    </tr>\n",
       "    <tr>\n",
       "      <th>5</th>\n",
       "      <td>6</td>\n",
       "      <td>8109.12</td>\n",
       "    </tr>\n",
       "    <tr>\n",
       "      <th>6</th>\n",
       "      <td>7</td>\n",
       "      <td>9840.52</td>\n",
       "    </tr>\n",
       "    <tr>\n",
       "      <th>7</th>\n",
       "      <td>8</td>\n",
       "      <td>8853.21</td>\n",
       "    </tr>\n",
       "    <tr>\n",
       "      <th>8</th>\n",
       "      <td>9</td>\n",
       "      <td>9351.98</td>\n",
       "    </tr>\n",
       "    <tr>\n",
       "      <th>9</th>\n",
       "      <td>10</td>\n",
       "      <td>11994.27</td>\n",
       "    </tr>\n",
       "    <tr>\n",
       "      <th>10</th>\n",
       "      <td>11</td>\n",
       "      <td>9089.25</td>\n",
       "    </tr>\n",
       "  </tbody>\n",
       "</table>\n",
       "</div>"
      ],
      "text/plain": [
       "    Purchase_Date  Final_Price(Rs.)\n",
       "0               1          10664.28\n",
       "1               2          10471.59\n",
       "2               3          12820.30\n",
       "3               4          15876.86\n",
       "4               5           8243.46\n",
       "5               6           8109.12\n",
       "6               7           9840.52\n",
       "7               8           8853.21\n",
       "8               9           9351.98\n",
       "9              10          11994.27\n",
       "10             11           9089.25"
      ]
     },
     "execution_count": 79,
     "metadata": {},
     "output_type": "execute_result"
    }
   ],
   "source": [
    "Date_Clothing = Date[Date['Category'] == 'Clothing'].copy()\n",
    "Date_Clothing = Date_Clothing[['Purchase_Date', 'Final_Price(Rs.)']]\n",
    "Date_Clothing = Date_Clothing.groupby('Purchase_Date').sum().reset_index()\n",
    "Date_Clothing"
   ]
  },
  {
   "cell_type": "code",
   "execution_count": 90,
   "id": "f5717e3f-63c1-4e86-8df0-0d66a638a5fd",
   "metadata": {},
   "outputs": [
    {
     "data": {
      "text/html": [
       "<div>\n",
       "<style scoped>\n",
       "    .dataframe tbody tr th:only-of-type {\n",
       "        vertical-align: middle;\n",
       "    }\n",
       "\n",
       "    .dataframe tbody tr th {\n",
       "        vertical-align: top;\n",
       "    }\n",
       "\n",
       "    .dataframe thead th {\n",
       "        text-align: right;\n",
       "    }\n",
       "</style>\n",
       "<table border=\"1\" class=\"dataframe\">\n",
       "  <thead>\n",
       "    <tr style=\"text-align: right;\">\n",
       "      <th></th>\n",
       "      <th>Purchase_Date</th>\n",
       "      <th>Discount (%)</th>\n",
       "    </tr>\n",
       "  </thead>\n",
       "  <tbody>\n",
       "    <tr>\n",
       "      <th>0</th>\n",
       "      <td>1</td>\n",
       "      <td>15.000000</td>\n",
       "    </tr>\n",
       "    <tr>\n",
       "      <th>1</th>\n",
       "      <td>2</td>\n",
       "      <td>19.803922</td>\n",
       "    </tr>\n",
       "    <tr>\n",
       "      <th>2</th>\n",
       "      <td>3</td>\n",
       "      <td>20.403226</td>\n",
       "    </tr>\n",
       "    <tr>\n",
       "      <th>3</th>\n",
       "      <td>4</td>\n",
       "      <td>19.275362</td>\n",
       "    </tr>\n",
       "    <tr>\n",
       "      <th>4</th>\n",
       "      <td>5</td>\n",
       "      <td>22.051282</td>\n",
       "    </tr>\n",
       "    <tr>\n",
       "      <th>5</th>\n",
       "      <td>6</td>\n",
       "      <td>17.261905</td>\n",
       "    </tr>\n",
       "    <tr>\n",
       "      <th>6</th>\n",
       "      <td>7</td>\n",
       "      <td>17.608696</td>\n",
       "    </tr>\n",
       "    <tr>\n",
       "      <th>7</th>\n",
       "      <td>8</td>\n",
       "      <td>16.153846</td>\n",
       "    </tr>\n",
       "    <tr>\n",
       "      <th>8</th>\n",
       "      <td>9</td>\n",
       "      <td>16.521739</td>\n",
       "    </tr>\n",
       "    <tr>\n",
       "      <th>9</th>\n",
       "      <td>10</td>\n",
       "      <td>15.961538</td>\n",
       "    </tr>\n",
       "    <tr>\n",
       "      <th>10</th>\n",
       "      <td>11</td>\n",
       "      <td>15.555556</td>\n",
       "    </tr>\n",
       "  </tbody>\n",
       "</table>\n",
       "</div>"
      ],
      "text/plain": [
       "    Purchase_Date  Discount (%)\n",
       "0               1     15.000000\n",
       "1               2     19.803922\n",
       "2               3     20.403226\n",
       "3               4     19.275362\n",
       "4               5     22.051282\n",
       "5               6     17.261905\n",
       "6               7     17.608696\n",
       "7               8     16.153846\n",
       "8               9     16.521739\n",
       "9              10     15.961538\n",
       "10             11     15.555556"
      ]
     },
     "execution_count": 90,
     "metadata": {},
     "output_type": "execute_result"
    }
   ],
   "source": [
    "Date_Clothing_Discount = Date[Date['Category'] == 'Clothing'].copy()\n",
    "Date_Clothing_Discount = Date_Clothing_Discount[['Purchase_Date', 'Discount (%)']]\n",
    "Date_Clothing_Discount = Date_Clothing_Discount.groupby('Purchase_Date').mean().reset_index()\n",
    "Date_Clothing_Discount"
   ]
  },
  {
   "cell_type": "code",
   "execution_count": 121,
   "id": "bf36b78b-c53a-484d-b357-20faae5f47c7",
   "metadata": {},
   "outputs": [
    {
     "data": {
      "image/png": "[encoded data removed]",
      "text/plain": [
       "<Figure size 700x400 with 1 Axes>"
      ]
     },
     "metadata": {},
     "output_type": "display_data"
    }
   ],
   "source": [
    "import matplotlib.pyplot as plt\n",
    "\n",
    "Date_Clothing.plot(kind='bar', x='Purchase_Date', y='Final_Price(Rs.)', figsize=(7, 4))\n",
    "\n",
    "plt.title('Clothing Sales Total', fontsize=14)\n",
    "plt.legend(bbox_to_anchor=(1.05, 1), loc='upper left', fontsize=10)\n",
    "plt.xlabel('Month', fontsize=12)\n",
    "plt.xticks(rotation=0)\n",
    "plt.tight_layout()"
   ]
  },
  {
   "cell_type": "markdown",
   "id": "73604779-ae36-4e8e-bd0c-80a9d06c7065",
   "metadata": {},
   "source": [
    "단순 매출 상으로는 3-4월 봄 시즌에 매출이 가장 높게 나타났으며,\\\n",
    "봄대비 시즌인 1-2월에도 매출방어는 나름 성공한 것으로 보임.\\\n",
    "그에 반해 5월 부터는 매출이 급감."
   ]
  },
  {
   "cell_type": "code",
   "execution_count": 120,
   "id": "8f018ed4-960a-4325-9a28-82fb64d3152d",
   "metadata": {},
   "outputs": [
    {
     "data": {
      "image/png": "[encoded data removed]",
      "text/plain": [
       "<Figure size 700x400 with 1 Axes>"
      ]
     },
     "metadata": {},
     "output_type": "display_data"
    }
   ],
   "source": [
    "Date_Clothing_Discount.plot(kind='bar', x='Purchase_Date', y='Discount (%)', figsize=(7, 4))\n",
    "\n",
    "plt.title('Clothing Discount(%)', fontsize=14)\n",
    "plt.legend(bbox_to_anchor=(1.05, 1), loc='upper left', fontsize=10)\n",
    "plt.xlabel('Month', fontsize=12)\n",
    "plt.xticks(rotation=0)\n",
    "plt.tight_layout()"
   ]
  },
  {
   "cell_type": "markdown",
   "id": "ed52a9f3-bdf9-494e-8d28-8d457fb17039",
   "metadata": {},
   "source": [
    "5월에 가장 큰 할인율을 보이고 있음에도 매출은 가장 낮은 수준임을 보임.\\\n",
    "이미 평균 20% 넘는 할인을 진행하고 있는 상황임으로 더 할인을 진행하기는 어려움."
   ]
  },
  {
   "cell_type": "markdown",
   "id": "eec94aed-ab9f-4f28-a209-88b8cab018e2",
   "metadata": {},
   "source": [
    "단, 겨울 의류를 준비하는 시즌인 10월은 할인율이 가장 낮은 수준임에도 매출이 오른 경향을 보임.\\\n",
    "10월 11월 겨울 준비 시즌에 할인율을 소폭 인상하여 겨울맞이 이벤트 진행 시 매출이 더욱 오를 가능성이 존재"
   ]
  },
  {
   "cell_type": "code",
   "execution_count": 112,
   "id": "38e354f5-8add-49b2-812f-51ebae8e7616",
   "metadata": {},
   "outputs": [
    {
     "data": {
      "text/html": [
       "<div>\n",
       "<style scoped>\n",
       "    .dataframe tbody tr th:only-of-type {\n",
       "        vertical-align: middle;\n",
       "    }\n",
       "\n",
       "    .dataframe tbody tr th {\n",
       "        vertical-align: top;\n",
       "    }\n",
       "\n",
       "    .dataframe thead th {\n",
       "        text-align: right;\n",
       "    }\n",
       "</style>\n",
       "<table border=\"1\" class=\"dataframe\">\n",
       "  <thead>\n",
       "    <tr style=\"text-align: right;\">\n",
       "      <th></th>\n",
       "      <th>Purchase_Date</th>\n",
       "      <th>Payment_Method</th>\n",
       "      <th>count</th>\n",
       "    </tr>\n",
       "  </thead>\n",
       "  <tbody>\n",
       "    <tr>\n",
       "      <th>0</th>\n",
       "      <td>1</td>\n",
       "      <td>Cash on Delivery</td>\n",
       "      <td>13</td>\n",
       "    </tr>\n",
       "    <tr>\n",
       "      <th>1</th>\n",
       "      <td>1</td>\n",
       "      <td>Credit Card</td>\n",
       "      <td>12</td>\n",
       "    </tr>\n",
       "    <tr>\n",
       "      <th>2</th>\n",
       "      <td>1</td>\n",
       "      <td>Debit Card</td>\n",
       "      <td>13</td>\n",
       "    </tr>\n",
       "    <tr>\n",
       "      <th>3</th>\n",
       "      <td>1</td>\n",
       "      <td>Net Banking</td>\n",
       "      <td>8</td>\n",
       "    </tr>\n",
       "    <tr>\n",
       "      <th>4</th>\n",
       "      <td>1</td>\n",
       "      <td>UPI</td>\n",
       "      <td>3</td>\n",
       "    </tr>\n",
       "  </tbody>\n",
       "</table>\n",
       "</div>"
      ],
      "text/plain": [
       "   Purchase_Date    Payment_Method  count\n",
       "0              1  Cash on Delivery     13\n",
       "1              1       Credit Card     12\n",
       "2              1        Debit Card     13\n",
       "3              1       Net Banking      8\n",
       "4              1               UPI      3"
      ]
     },
     "execution_count": 112,
     "metadata": {},
     "output_type": "execute_result"
    }
   ],
   "source": [
    "Date_Clothing_Pay = Date[Date['Category'] == 'Clothing'].copy()\n",
    "Date_Clothing_Pay = Date_Clothing_Pay[['Purchase_Date', 'Payment_Method']]\n",
    "Date_Clothing_Pay = Date_Clothing_Pay.groupby(['Purchase_Date', 'Payment_Method']).size().reset_index(name='count')\n",
    "Date_Clothing_Pay.head()"
   ]
  },
  {
   "cell_type": "code",
   "execution_count": 134,
   "id": "73ff279b-29ca-4e98-bc37-1f25e436ada7",
   "metadata": {},
   "outputs": [
    {
     "data": {
      "text/html": [
       "<div>\n",
       "<style scoped>\n",
       "    .dataframe tbody tr th:only-of-type {\n",
       "        vertical-align: middle;\n",
       "    }\n",
       "\n",
       "    .dataframe tbody tr th {\n",
       "        vertical-align: top;\n",
       "    }\n",
       "\n",
       "    .dataframe thead th {\n",
       "        text-align: right;\n",
       "    }\n",
       "</style>\n",
       "<table border=\"1\" class=\"dataframe\">\n",
       "  <thead>\n",
       "    <tr style=\"text-align: right;\">\n",
       "      <th></th>\n",
       "      <th>Purchase_Date</th>\n",
       "      <th>count</th>\n",
       "      <th>Sales / Count</th>\n",
       "    </tr>\n",
       "  </thead>\n",
       "  <tbody>\n",
       "    <tr>\n",
       "      <th>0</th>\n",
       "      <td>1</td>\n",
       "      <td>49</td>\n",
       "      <td>217.638367</td>\n",
       "    </tr>\n",
       "    <tr>\n",
       "      <th>1</th>\n",
       "      <td>2</td>\n",
       "      <td>51</td>\n",
       "      <td>205.325294</td>\n",
       "    </tr>\n",
       "    <tr>\n",
       "      <th>2</th>\n",
       "      <td>3</td>\n",
       "      <td>62</td>\n",
       "      <td>206.779032</td>\n",
       "    </tr>\n",
       "    <tr>\n",
       "      <th>3</th>\n",
       "      <td>4</td>\n",
       "      <td>69</td>\n",
       "      <td>230.099420</td>\n",
       "    </tr>\n",
       "    <tr>\n",
       "      <th>4</th>\n",
       "      <td>5</td>\n",
       "      <td>39</td>\n",
       "      <td>211.370769</td>\n",
       "    </tr>\n",
       "  </tbody>\n",
       "</table>\n",
       "</div>"
      ],
      "text/plain": [
       "   Purchase_Date  count  Sales / Count\n",
       "0              1     49     217.638367\n",
       "1              2     51     205.325294\n",
       "2              3     62     206.779032\n",
       "3              4     69     230.099420\n",
       "4              5     39     211.370769"
      ]
     },
     "execution_count": 134,
     "metadata": {},
     "output_type": "execute_result"
    }
   ],
   "source": [
    "Date_Clothing_Pay_Total = Date[Date['Category'] == 'Clothing'].copy()\n",
    "Date_Clothing_Pay_Total = Date_Clothing_Pay_Total[['Purchase_Date', 'Payment_Method']]\n",
    "Date_Clothing_Pay_Total = Date_Clothing_Pay_Total.groupby(['Purchase_Date']).size().reset_index(name='count')\n",
    "\n",
    "Date_Clothing_Pay_Total['Sales / Count'] = Date_Clothing['Final_Price(Rs.)'] / Date_Clothing_Pay_Total['count']\n",
    "Date_Clothing_Pay_Total.head()"
   ]
  },
  {
   "cell_type": "code",
   "execution_count": 137,
   "id": "3d032123-98f9-45f7-bc29-dd2da70f30b5",
   "metadata": {},
   "outputs": [
    {
     "data": {
      "image/png": "[encoded data removed]",
      "text/plain": [
       "<Figure size 700x400 with 1 Axes>"
      ]
     },
     "metadata": {},
     "output_type": "display_data"
    }
   ],
   "source": [
    "Date_Clothing_Pay_Total.plot(kind='bar', x='Purchase_Date', y='count', figsize=(7, 4))\n",
    "\n",
    "plt.title('Clothing Count', fontsize=14)\n",
    "plt.legend(bbox_to_anchor=(1.05, 1), loc='upper left', fontsize=10)\n",
    "plt.xlabel('Month', fontsize=12)\n",
    "plt.xticks(rotation=0)\n",
    "plt.tight_layout()"
   ]
  },
  {
   "cell_type": "code",
   "execution_count": 135,
   "id": "14e64275-32f9-476e-b3e0-f69eae1c1c84",
   "metadata": {},
   "outputs": [
    {
     "data": {
      "image/png": "[encoded data removed]",
      "text/plain": [
       "<Figure size 700x400 with 1 Axes>"
      ]
     },
     "metadata": {},
     "output_type": "display_data"
    }
   ],
   "source": [
    "Date_Clothing_Pay_Total.plot(kind='bar', x='Purchase_Date', y='Sales / Count', figsize=(7, 4))\n",
    "\n",
    "plt.title('Clothing Sales / Count', fontsize=14)\n",
    "plt.legend(bbox_to_anchor=(1.05, 1), loc='upper left', fontsize=10)\n",
    "plt.xlabel('Month', fontsize=12)\n",
    "plt.xticks(rotation=0)\n",
    "plt.tight_layout()"
   ]
  },
  {
   "cell_type": "markdown",
   "id": "a045ff41-e3f9-4c33-b547-c7f5a30e6ce5",
   "metadata": {},
   "source": [
    "11월은 가장 결제횟수가 가장 적지만, 결제 당 결제 액수는 가장 크게 나타남.\\\n",
    "즉, 11월에 결제 건수를 늘릴 수 있다면 매출 상승에 긍정적인 영향을 줄 수 있음. "
   ]
  },
  {
   "cell_type": "code",
   "execution_count": 128,
   "id": "ede59135-e984-4f74-a8c8-92071420b470",
   "metadata": {},
   "outputs": [
    {
     "data": {
      "image/png": "[encoded data removed]",
      "text/plain": [
       "<Figure size 1000x400 with 1 Axes>"
      ]
     },
     "metadata": {},
     "output_type": "display_data"
    }
   ],
   "source": [
    "pivot_Clothing = Date_Clothing_Pay.pivot(index='Purchase_Date', columns='Payment_Method', values='count')\n",
    "\n",
    "pivot_Clothing.plot(kind='bar', figsize=(10, 4))\n",
    "plt.legend(title='Payment Method', bbox_to_anchor=(1.05, 1), loc='upper left', fontsize=10)\n",
    "plt.title('Payment_Method', fontsize=14)\n",
    "plt.xlabel('Month', fontsize=12)\n",
    "plt.xticks(rotation=0)\n",
    "plt.tight_layout()"
   ]
  },
  {
   "cell_type": "markdown",
   "id": "f8c0f793-bb67-4038-bbd9-eb94b27cd55f",
   "metadata": {},
   "source": [
    "의류 매출이 상반기/하반기 기준 가장 높은 4월과 10월은 신용카드를 사용해 결제한 비율이 가장 높음."
   ]
  },
  {
   "cell_type": "markdown",
   "id": "ed0a90b1-3e5d-4cc6-8c4b-b52bc133aa7c",
   "metadata": {},
   "source": [
    "반대로 매출이 급감해 최저점을 보이는 6월에는 체크카드를 사용한 결제 비율이 가장 높음.\\\n",
    "또한, 신용카드의 사용비율이 가장 적게 나타남."
   ]
  },
  {
   "cell_type": "markdown",
   "id": "e5f6c73d-8e3f-46b7-9e21-dcfd4066bdcd",
   "metadata": {},
   "source": [
    "신용카드 무이자 할부, 신용카드 제휴 등, 5-6월 여름맞이 이벤트를 이용한다면 매출 증가의 가능성이 존재."
   ]
  },
  {
   "cell_type": "markdown",
   "id": "30ff280d-142e-4c90-b6c2-c469bb218772",
   "metadata": {},
   "source": [
    "= 전자기기 카테고리 월별 총매출 ="
   ]
  },
  {
   "cell_type": "code",
   "execution_count": 93,
   "id": "af23325c-5102-44af-8aff-ca99ef82ff40",
   "metadata": {},
   "outputs": [
    {
     "data": {
      "text/html": [
       "<div>\n",
       "<style scoped>\n",
       "    .dataframe tbody tr th:only-of-type {\n",
       "        vertical-align: middle;\n",
       "    }\n",
       "\n",
       "    .dataframe tbody tr th {\n",
       "        vertical-align: top;\n",
       "    }\n",
       "\n",
       "    .dataframe thead th {\n",
       "        text-align: right;\n",
       "    }\n",
       "</style>\n",
       "<table border=\"1\" class=\"dataframe\">\n",
       "  <thead>\n",
       "    <tr style=\"text-align: right;\">\n",
       "      <th></th>\n",
       "      <th>Purchase_Date</th>\n",
       "      <th>Final_Price(Rs.)</th>\n",
       "    </tr>\n",
       "  </thead>\n",
       "  <tbody>\n",
       "    <tr>\n",
       "      <th>0</th>\n",
       "      <td>1</td>\n",
       "      <td>8439.91</td>\n",
       "    </tr>\n",
       "    <tr>\n",
       "      <th>1</th>\n",
       "      <td>2</td>\n",
       "      <td>11238.46</td>\n",
       "    </tr>\n",
       "    <tr>\n",
       "      <th>2</th>\n",
       "      <td>3</td>\n",
       "      <td>8216.37</td>\n",
       "    </tr>\n",
       "    <tr>\n",
       "      <th>3</th>\n",
       "      <td>4</td>\n",
       "      <td>7747.77</td>\n",
       "    </tr>\n",
       "    <tr>\n",
       "      <th>4</th>\n",
       "      <td>5</td>\n",
       "      <td>9453.03</td>\n",
       "    </tr>\n",
       "    <tr>\n",
       "      <th>5</th>\n",
       "      <td>6</td>\n",
       "      <td>11638.59</td>\n",
       "    </tr>\n",
       "    <tr>\n",
       "      <th>6</th>\n",
       "      <td>7</td>\n",
       "      <td>10889.77</td>\n",
       "    </tr>\n",
       "    <tr>\n",
       "      <th>7</th>\n",
       "      <td>8</td>\n",
       "      <td>10592.97</td>\n",
       "    </tr>\n",
       "    <tr>\n",
       "      <th>8</th>\n",
       "      <td>9</td>\n",
       "      <td>5321.05</td>\n",
       "    </tr>\n",
       "    <tr>\n",
       "      <th>9</th>\n",
       "      <td>10</td>\n",
       "      <td>11613.64</td>\n",
       "    </tr>\n",
       "    <tr>\n",
       "      <th>10</th>\n",
       "      <td>11</td>\n",
       "      <td>5310.67</td>\n",
       "    </tr>\n",
       "  </tbody>\n",
       "</table>\n",
       "</div>"
      ],
      "text/plain": [
       "    Purchase_Date  Final_Price(Rs.)\n",
       "0               1           8439.91\n",
       "1               2          11238.46\n",
       "2               3           8216.37\n",
       "3               4           7747.77\n",
       "4               5           9453.03\n",
       "5               6          11638.59\n",
       "6               7          10889.77\n",
       "7               8          10592.97\n",
       "8               9           5321.05\n",
       "9              10          11613.64\n",
       "10             11           5310.67"
      ]
     },
     "execution_count": 93,
     "metadata": {},
     "output_type": "execute_result"
    }
   ],
   "source": [
    "Date_Electronics = Date[Date['Category'] == 'Electronics'].copy()\n",
    "Date_Electronics = Date_Electronics[['Purchase_Date', 'Final_Price(Rs.)']]\n",
    "Date_Electronics = Date_Electronics.groupby('Purchase_Date').sum().reset_index()\n",
    "Date_Electronics"
   ]
  },
  {
   "cell_type": "code",
   "execution_count": 94,
   "id": "83eef8b8-18f1-4848-b4cb-a292285e5716",
   "metadata": {},
   "outputs": [
    {
     "data": {
      "text/html": [
       "<div>\n",
       "<style scoped>\n",
       "    .dataframe tbody tr th:only-of-type {\n",
       "        vertical-align: middle;\n",
       "    }\n",
       "\n",
       "    .dataframe tbody tr th {\n",
       "        vertical-align: top;\n",
       "    }\n",
       "\n",
       "    .dataframe thead th {\n",
       "        text-align: right;\n",
       "    }\n",
       "</style>\n",
       "<table border=\"1\" class=\"dataframe\">\n",
       "  <thead>\n",
       "    <tr style=\"text-align: right;\">\n",
       "      <th></th>\n",
       "      <th>Purchase_Date</th>\n",
       "      <th>Discount (%)</th>\n",
       "    </tr>\n",
       "  </thead>\n",
       "  <tbody>\n",
       "    <tr>\n",
       "      <th>0</th>\n",
       "      <td>1</td>\n",
       "      <td>20.581395</td>\n",
       "    </tr>\n",
       "    <tr>\n",
       "      <th>1</th>\n",
       "      <td>2</td>\n",
       "      <td>17.127660</td>\n",
       "    </tr>\n",
       "    <tr>\n",
       "      <th>2</th>\n",
       "      <td>3</td>\n",
       "      <td>21.382979</td>\n",
       "    </tr>\n",
       "    <tr>\n",
       "      <th>3</th>\n",
       "      <td>4</td>\n",
       "      <td>18.095238</td>\n",
       "    </tr>\n",
       "    <tr>\n",
       "      <th>4</th>\n",
       "      <td>5</td>\n",
       "      <td>19.574468</td>\n",
       "    </tr>\n",
       "    <tr>\n",
       "      <th>5</th>\n",
       "      <td>6</td>\n",
       "      <td>17.500000</td>\n",
       "    </tr>\n",
       "    <tr>\n",
       "      <th>6</th>\n",
       "      <td>7</td>\n",
       "      <td>19.237288</td>\n",
       "    </tr>\n",
       "    <tr>\n",
       "      <th>7</th>\n",
       "      <td>8</td>\n",
       "      <td>20.918367</td>\n",
       "    </tr>\n",
       "    <tr>\n",
       "      <th>8</th>\n",
       "      <td>9</td>\n",
       "      <td>19.642857</td>\n",
       "    </tr>\n",
       "    <tr>\n",
       "      <th>9</th>\n",
       "      <td>10</td>\n",
       "      <td>17.807018</td>\n",
       "    </tr>\n",
       "    <tr>\n",
       "      <th>10</th>\n",
       "      <td>11</td>\n",
       "      <td>22.000000</td>\n",
       "    </tr>\n",
       "  </tbody>\n",
       "</table>\n",
       "</div>"
      ],
      "text/plain": [
       "    Purchase_Date  Discount (%)\n",
       "0               1     20.581395\n",
       "1               2     17.127660\n",
       "2               3     21.382979\n",
       "3               4     18.095238\n",
       "4               5     19.574468\n",
       "5               6     17.500000\n",
       "6               7     19.237288\n",
       "7               8     20.918367\n",
       "8               9     19.642857\n",
       "9              10     17.807018\n",
       "10             11     22.000000"
      ]
     },
     "execution_count": 94,
     "metadata": {},
     "output_type": "execute_result"
    }
   ],
   "source": [
    "Date_Electronics_Discount = Date[Date['Category'] == 'Electronics'].copy()\n",
    "Date_Electronics_Discount = Date_Electronics_Discount[['Purchase_Date', 'Discount (%)']]\n",
    "Date_Electronics_Discount = Date_Electronics_Discount.groupby('Purchase_Date').mean().reset_index()\n",
    "Date_Electronics_Discount"
   ]
  },
  {
   "cell_type": "code",
   "execution_count": 119,
   "id": "ddd82ea6-fe35-48c2-a7ce-84299ae2c10a",
   "metadata": {},
   "outputs": [
    {
     "data": {
      "image/png": "[encoded data removed]",
      "text/plain": [
       "<Figure size 700x400 with 1 Axes>"
      ]
     },
     "metadata": {},
     "output_type": "display_data"
    }
   ],
   "source": [
    "Date_Electronics.plot(kind='bar', x='Purchase_Date', y='Final_Price(Rs.)', figsize=(7, 4))\n",
    "\n",
    "plt.title('Electronics Sales Total', fontsize=14)\n",
    "plt.legend(bbox_to_anchor=(1.05, 1), loc='upper left', fontsize=10)\n",
    "plt.xlabel('Month', fontsize=12)\n",
    "plt.xticks(rotation=0)\n",
    "plt.tight_layout()"
   ]
  },
  {
   "cell_type": "markdown",
   "id": "7de1f23d-66ed-4036-830a-76d2e6853702",
   "metadata": {},
   "source": [
    "6-8월 여름 시즌에 가장 매출이 높으며, 나머지는 2월과 10월을 제외하면 매출이 크게 감소함.\\\n",
    "특히 9월 11월 시즌에 가장 큰 매출 하락을 보임."
   ]
  },
  {
   "cell_type": "code",
   "execution_count": 122,
   "id": "3bedd740-7243-4d06-9f54-ef0b92067c65",
   "metadata": {},
   "outputs": [
    {
     "data": {
      "image/png": "[encoded data removed]",
      "text/plain": [
       "<Figure size 700x400 with 1 Axes>"
      ]
     },
     "metadata": {},
     "output_type": "display_data"
    }
   ],
   "source": [
    "Date_Electronics_Discount.plot(kind='bar', x='Purchase_Date', y='Discount (%)', figsize=(7, 4))\n",
    "\n",
    "plt.title('Electronics Discount(%)', fontsize=14)\n",
    "plt.legend(bbox_to_anchor=(1.05, 1), loc='upper left', fontsize=10)\n",
    "plt.xlabel('Month', fontsize=12)\n",
    "plt.xticks(rotation=0)\n",
    "plt.tight_layout()"
   ]
  },
  {
   "cell_type": "markdown",
   "id": "c425ad8b-4195-4e81-ac85-907a0431876a",
   "metadata": {},
   "source": [
    "매출이 가장 높은 2, 6, 10월 달의 할인율은 가장 작은 할인율이며,\\\n",
    "가장 매출이 적은 달 중 하나인 11월의 할인율은 최고점을 보임.\\\n",
    "11월의 할인율을 더 낮추면 매출에 큰 타격이 있으므로 변경하기 어려움."
   ]
  },
  {
   "cell_type": "code",
   "execution_count": 139,
   "id": "b8e074d7-101a-402e-91ae-b1fbdf1c97a0",
   "metadata": {},
   "outputs": [
    {
     "data": {
      "text/html": [
       "<div>\n",
       "<style scoped>\n",
       "    .dataframe tbody tr th:only-of-type {\n",
       "        vertical-align: middle;\n",
       "    }\n",
       "\n",
       "    .dataframe tbody tr th {\n",
       "        vertical-align: top;\n",
       "    }\n",
       "\n",
       "    .dataframe thead th {\n",
       "        text-align: right;\n",
       "    }\n",
       "</style>\n",
       "<table border=\"1\" class=\"dataframe\">\n",
       "  <thead>\n",
       "    <tr style=\"text-align: right;\">\n",
       "      <th></th>\n",
       "      <th>Purchase_Date</th>\n",
       "      <th>count</th>\n",
       "      <th>Sales / Count</th>\n",
       "    </tr>\n",
       "  </thead>\n",
       "  <tbody>\n",
       "    <tr>\n",
       "      <th>0</th>\n",
       "      <td>1</td>\n",
       "      <td>43</td>\n",
       "      <td>196.276977</td>\n",
       "    </tr>\n",
       "    <tr>\n",
       "      <th>1</th>\n",
       "      <td>2</td>\n",
       "      <td>47</td>\n",
       "      <td>239.116170</td>\n",
       "    </tr>\n",
       "    <tr>\n",
       "      <th>2</th>\n",
       "      <td>3</td>\n",
       "      <td>47</td>\n",
       "      <td>174.816383</td>\n",
       "    </tr>\n",
       "    <tr>\n",
       "      <th>3</th>\n",
       "      <td>4</td>\n",
       "      <td>42</td>\n",
       "      <td>184.470714</td>\n",
       "    </tr>\n",
       "    <tr>\n",
       "      <th>4</th>\n",
       "      <td>5</td>\n",
       "      <td>47</td>\n",
       "      <td>201.128298</td>\n",
       "    </tr>\n",
       "  </tbody>\n",
       "</table>\n",
       "</div>"
      ],
      "text/plain": [
       "   Purchase_Date  count  Sales / Count\n",
       "0              1     43     196.276977\n",
       "1              2     47     239.116170\n",
       "2              3     47     174.816383\n",
       "3              4     42     184.470714\n",
       "4              5     47     201.128298"
      ]
     },
     "execution_count": 139,
     "metadata": {},
     "output_type": "execute_result"
    }
   ],
   "source": [
    "Date_Electronics_Pay_Total = Date[Date['Category'] == 'Electronics'].copy()\n",
    "Date_Electronics_Pay_Total = Date_Electronics_Pay_Total[['Purchase_Date', 'Payment_Method']]\n",
    "Date_Electronics_Pay_Total = Date_Electronics_Pay_Total.groupby(['Purchase_Date']).size().reset_index(name='count')\n",
    "\n",
    "Date_Electronics_Pay_Total['Sales / Count'] = Date_Electronics['Final_Price(Rs.)'] / Date_Electronics_Pay_Total['count']\n",
    "Date_Electronics_Pay_Total.head()"
   ]
  },
  {
   "cell_type": "code",
   "execution_count": 140,
   "id": "33d5e425-b371-46ab-b180-a8ef2d5f7e56",
   "metadata": {},
   "outputs": [
    {
     "data": {
      "image/png": "[encoded data removed]",
      "text/plain": [
       "<Figure size 700x400 with 1 Axes>"
      ]
     },
     "metadata": {},
     "output_type": "display_data"
    }
   ],
   "source": [
    "Date_Electronics_Pay_Total.plot(kind='bar', x='Purchase_Date', y='count', figsize=(7, 4))\n",
    "\n",
    "plt.title('Electronics Count', fontsize=14)\n",
    "plt.legend(bbox_to_anchor=(1.05, 1), loc='upper left', fontsize=10)\n",
    "plt.xlabel('Month', fontsize=12)\n",
    "plt.xticks(rotation=0)\n",
    "plt.tight_layout()"
   ]
  },
  {
   "cell_type": "code",
   "execution_count": 141,
   "id": "97d71101-4ebb-4e89-ac62-763054fb3b55",
   "metadata": {},
   "outputs": [
    {
     "data": {
      "image/png": "[encoded data removed]",
      "text/plain": [
       "<Figure size 700x400 with 1 Axes>"
      ]
     },
     "metadata": {},
     "output_type": "display_data"
    }
   ],
   "source": [
    "Date_Electronics_Pay_Total.plot(kind='bar', x='Purchase_Date', y='Sales / Count', figsize=(7, 4))\n",
    "\n",
    "plt.title('Electronics Sales / Count', fontsize=14)\n",
    "plt.legend(bbox_to_anchor=(1.05, 1), loc='upper left', fontsize=10)\n",
    "plt.xlabel('Month', fontsize=12)\n",
    "plt.xticks(rotation=0)\n",
    "plt.tight_layout()"
   ]
  },
  {
   "cell_type": "markdown",
   "id": "21b67ee2-3bac-4f6a-8b8d-6297218dee0a",
   "metadata": {},
   "source": [
    "의류 매출과 마찬가지로 전자기기 역시 11월 달에 가장 결제 횟수가 적음.\\\n",
    "또한, 9월과 11월은 결제 횟수 대비 결제액은 매우 높음.\\\n",
    "11월 달의 소비는 전체적으로 적은 편이며, 11월(9월 포함)의 결제 횟수를 늘릴 수 있다면 매출에 긍정적인 영향을 줄 수 있음."
   ]
  },
  {
   "cell_type": "code",
   "execution_count": 124,
   "id": "e69a8b3c-ecf1-4d36-9d80-9a958aeeb489",
   "metadata": {},
   "outputs": [
    {
     "data": {
      "text/html": [
       "<div>\n",
       "<style scoped>\n",
       "    .dataframe tbody tr th:only-of-type {\n",
       "        vertical-align: middle;\n",
       "    }\n",
       "\n",
       "    .dataframe tbody tr th {\n",
       "        vertical-align: top;\n",
       "    }\n",
       "\n",
       "    .dataframe thead th {\n",
       "        text-align: right;\n",
       "    }\n",
       "</style>\n",
       "<table border=\"1\" class=\"dataframe\">\n",
       "  <thead>\n",
       "    <tr style=\"text-align: right;\">\n",
       "      <th></th>\n",
       "      <th>Purchase_Date</th>\n",
       "      <th>Payment_Method</th>\n",
       "      <th>count</th>\n",
       "    </tr>\n",
       "  </thead>\n",
       "  <tbody>\n",
       "    <tr>\n",
       "      <th>0</th>\n",
       "      <td>1</td>\n",
       "      <td>Cash on Delivery</td>\n",
       "      <td>6</td>\n",
       "    </tr>\n",
       "    <tr>\n",
       "      <th>1</th>\n",
       "      <td>1</td>\n",
       "      <td>Credit Card</td>\n",
       "      <td>12</td>\n",
       "    </tr>\n",
       "    <tr>\n",
       "      <th>2</th>\n",
       "      <td>1</td>\n",
       "      <td>Debit Card</td>\n",
       "      <td>9</td>\n",
       "    </tr>\n",
       "    <tr>\n",
       "      <th>3</th>\n",
       "      <td>1</td>\n",
       "      <td>Net Banking</td>\n",
       "      <td>10</td>\n",
       "    </tr>\n",
       "    <tr>\n",
       "      <th>4</th>\n",
       "      <td>1</td>\n",
       "      <td>UPI</td>\n",
       "      <td>6</td>\n",
       "    </tr>\n",
       "  </tbody>\n",
       "</table>\n",
       "</div>"
      ],
      "text/plain": [
       "   Purchase_Date    Payment_Method  count\n",
       "0              1  Cash on Delivery      6\n",
       "1              1       Credit Card     12\n",
       "2              1        Debit Card      9\n",
       "3              1       Net Banking     10\n",
       "4              1               UPI      6"
      ]
     },
     "execution_count": 124,
     "metadata": {},
     "output_type": "execute_result"
    }
   ],
   "source": [
    "Date_Electronics_Pay = Date[Date['Category'] == 'Electronics'].copy()\n",
    "Date_Electronics_Pay = Date_Electronics_Pay[['Purchase_Date', 'Payment_Method']]\n",
    "Date_Electronics_Pay = Date_Electronics_Pay.groupby(['Purchase_Date', 'Payment_Method']).size().reset_index(name='count')\n",
    "Date_Electronics_Pay.head()"
   ]
  },
  {
   "cell_type": "code",
   "execution_count": 127,
   "id": "aa72bb2d-7967-4a05-864e-75e89d08963c",
   "metadata": {},
   "outputs": [
    {
     "data": {
      "image/png": "[encoded data removed]",
      "text/plain": [
       "<Figure size 1000x400 with 1 Axes>"
      ]
     },
     "metadata": {},
     "output_type": "display_data"
    }
   ],
   "source": [
    "pivot_Electronics = Date_Electronics_Pay.pivot(index='Purchase_Date', columns='Payment_Method', values='count')\n",
    "\n",
    "pivot_Electronics.plot(kind='bar', figsize=(10, 4))\n",
    "plt.legend(title='Payment Method', bbox_to_anchor=(1.05, 1), loc='upper left', fontsize=10)\n",
    "plt.title('Payment_Method', fontsize=14)\n",
    "plt.xlabel('Month', fontsize=12)\n",
    "plt.xticks(rotation=0)\n",
    "plt.tight_layout()"
   ]
  },
  {
   "cell_type": "markdown",
   "id": "550b75d3-4a7c-4ac6-a2f7-0b27b8e69d12",
   "metadata": {},
   "source": [
    "매출이 높은 2월, 여름, 10월은 통합 결제 시스템의 이용률이 가장 높음.\\\n",
    "9월을 제외한 나머지는 이 관계가 역전됨을 보임."
   ]
  },
  {
   "cell_type": "markdown",
   "id": "1655f1be-8a00-41ed-a878-328a20e51fa9",
   "metadata": {},
   "source": [
    "UPI와 연동된 이벤트(UPI를 이용해 제품 구매시 0.3% 추가 적립 혹은 1% 추가 할인 등)을 이용하여 매출을 끌어올릴 가능성 존재."
   ]
  },
  {
   "cell_type": "markdown",
   "id": "a49a1bd6-49b5-4583-a63f-91afd8511acd",
   "metadata": {},
   "source": [
    "특히 9월과 11월의 경우, 매출 자체 뿐만 아니라 구매횟수 자체가 다른 달에 비해 현저히 적음.\\\n",
    "이를 타개하기 위해 9월과 11월에 할인 등의 금전적 이벤트 뿐 만 아니라 새로운 방안이 필요함."
   ]
  }
 ],
 "metadata": {
  "kernelspec": {
   "display_name": "Python 3 (ipykernel)",
   "language": "python",
   "name": "python3"
  },
  "language_info": {
   "codemirror_mode": {
    "name": "ipython",
    "version": 3
   },
   "file_extension": ".py",
   "mimetype": "text/x-python",
   "name": "python",
   "nbconvert_exporter": "python",
   "pygments_lexer": "ipython3",
   "version": "3.12.0"
  }
 },
 "nbformat": 4,
 "nbformat_minor": 5
}
